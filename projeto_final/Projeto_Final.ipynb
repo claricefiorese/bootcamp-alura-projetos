{
  "nbformat": 4,
  "nbformat_minor": 0,
  "metadata": {
    "colab": {
      "name": "Projeto_Final.ipynb",
      "provenance": [],
      "collapsed_sections": [
        "uh4FBRFbA8Rn"
      ],
      "toc_visible": true
    },
    "kernelspec": {
      "display_name": "Python 3",
      "language": "python",
      "name": "python3"
    },
    "language_info": {
      "codemirror_mode": {
        "name": "ipython",
        "version": 3
      },
      "file_extension": ".py",
      "mimetype": "text/x-python",
      "name": "python",
      "nbconvert_exporter": "python",
      "pygments_lexer": "ipython3",
      "version": "3.8.5"
    }
  },
  "cells": [
    {
      "cell_type": "markdown",
      "metadata": {
        "id": "kWcrVk1OA8Rg"
      },
      "source": [
        "## **BIBLIOTECAS**"
      ]
    },
    {
      "cell_type": "code",
      "metadata": {
        "colab": {
          "base_uri": "https://localhost:8080/"
        },
        "id": "CfpjcFjODHIo",
        "outputId": "9150fd9d-52fe-480f-eb7a-f8105fac656f"
      },
      "source": [
        "#!pip install pandas_profiling --upgrade\n",
        "!pip install pyjanitor\n",
        "#!pip install lux-api"
      ],
      "execution_count": null,
      "outputs": [
        {
          "output_type": "stream",
          "text": [
            "Collecting pyjanitor\n",
            "\u001b[?25l  Downloading https://files.pythonhosted.org/packages/b6/4d/db509008e3bd5292fcc3c9c7cb256063a4bf9567388c9fc19314eec79b4f/pyjanitor-0.20.14-py3-none-any.whl (96kB)\n",
            "\u001b[K     |████████████████████████████████| 102kB 3.6MB/s \n",
            "\u001b[?25hCollecting pandas-flavor\n",
            "  Downloading https://files.pythonhosted.org/packages/9a/57/7fbcff4c0961ed190ac5fcb0bd8194152ee1ee6487edf64fdbae16e2bc4b/pandas_flavor-0.2.0-py2.py3-none-any.whl\n",
            "Collecting multipledispatch\n",
            "  Downloading https://files.pythonhosted.org/packages/89/79/429ecef45fd5e4504f7474d4c3c3c4668c267be3370e4c2fd33e61506833/multipledispatch-0.6.0-py3-none-any.whl\n",
            "Requirement already satisfied: natsort in /usr/local/lib/python3.7/dist-packages (from pyjanitor) (5.5.0)\n",
            "Requirement already satisfied: scikit-learn in /usr/local/lib/python3.7/dist-packages (from pyjanitor) (0.22.2.post1)\n",
            "Requirement already satisfied: pandas in /usr/local/lib/python3.7/dist-packages (from pandas-flavor->pyjanitor) (1.1.5)\n",
            "Requirement already satisfied: xarray in /usr/local/lib/python3.7/dist-packages (from pandas-flavor->pyjanitor) (0.15.1)\n",
            "Requirement already satisfied: six in /usr/local/lib/python3.7/dist-packages (from multipledispatch->pyjanitor) (1.15.0)\n",
            "Requirement already satisfied: joblib>=0.11 in /usr/local/lib/python3.7/dist-packages (from scikit-learn->pyjanitor) (1.0.1)\n",
            "Requirement already satisfied: scipy>=0.17.0 in /usr/local/lib/python3.7/dist-packages (from scikit-learn->pyjanitor) (1.4.1)\n",
            "Requirement already satisfied: numpy>=1.11.0 in /usr/local/lib/python3.7/dist-packages (from scikit-learn->pyjanitor) (1.19.5)\n",
            "Requirement already satisfied: python-dateutil>=2.7.3 in /usr/local/lib/python3.7/dist-packages (from pandas->pandas-flavor->pyjanitor) (2.8.1)\n",
            "Requirement already satisfied: pytz>=2017.2 in /usr/local/lib/python3.7/dist-packages (from pandas->pandas-flavor->pyjanitor) (2018.9)\n",
            "Requirement already satisfied: setuptools>=41.2 in /usr/local/lib/python3.7/dist-packages (from xarray->pandas-flavor->pyjanitor) (54.2.0)\n",
            "Installing collected packages: pandas-flavor, multipledispatch, pyjanitor\n",
            "Successfully installed multipledispatch-0.6.0 pandas-flavor-0.2.0 pyjanitor-0.20.14\n"
          ],
          "name": "stdout"
        }
      ]
    },
    {
      "cell_type": "code",
      "metadata": {
        "id": "baKNVgN3A8Rl"
      },
      "source": [
        "import numpy               as np\n",
        "import pandas              as pd\n",
        "import matplotlib.pyplot   as plt\n",
        "import matplotlib.ticker   as ticker\n",
        "import seaborn             as sns\n",
        "import janitor             as jn\n",
        "\n",
        "from pandas                    import read_excel\n",
        "from sklearn                   import preprocessing\n",
        "from sklearn.model_selection   import train_test_split\n",
        "from sklearn.ensemble          import RandomForestClassifier\n",
        "from sklearn.model_selection   import RepeatedStratifiedKFold\n",
        "from sklearn.model_selection   import cross_validate\n",
        "from sklearn.model_selection   import GridSearchCV\n",
        "from sklearn.feature_selection import RFE\n",
        "from sklearn.feature_selection import RFECV\n",
        "from sklearn.model_selection   import StratifiedKFold\n",
        "\n",
        "import warnings\n",
        "warnings.filterwarnings(\"ignore\")"
      ],
      "execution_count": null,
      "outputs": []
    },
    {
      "cell_type": "markdown",
      "metadata": {
        "id": "uh4FBRFbA8Rn"
      },
      "source": [
        "## **FUNÇÕES**"
      ]
    },
    {
      "cell_type": "code",
      "metadata": {
        "id": "CCoEy1CNA8Rn"
      },
      "source": [
        "def preenche_tabela(dados):\n",
        "    features_continuas_colunas = dados.iloc[:, 13:-2].columns\n",
        "    features_continuas = dados.groupby(\"patient_visit_identifier\", as_index=False)[features_continuas_colunas].fillna(method='bfill').fillna(method='ffill')\n",
        "    features_categoricas = dados.iloc[:, :13]\n",
        "    saida = dados.iloc[:, -2:]\n",
        "    dados_finais = pd.concat([features_categoricas, features_continuas, saida], ignore_index=True,axis=1)\n",
        "    dados_finais.columns = dados.columns\n",
        "    return dados_finais"
      ],
      "execution_count": null,
      "outputs": []
    },
    {
      "cell_type": "code",
      "metadata": {
        "id": "LJr-TJ0UA8Rn"
      },
      "source": [
        "def prepara_janela(rows):\n",
        "    if(np.any(rows[\"icu\"])):\n",
        "        rows.loc[rows[\"window\"]==\"0-2\", \"icu\"] = 1\n",
        "    return rows.loc[rows[\"window\"] == \"0-2\"]"
      ],
      "execution_count": null,
      "outputs": []
    },
    {
      "cell_type": "code",
      "metadata": {
        "id": "lr6ftgwdeUTp"
      },
      "source": [
        "def getDuplicateColumns(df):\n",
        "    '''\n",
        "    Get a list of duplicate columns.\n",
        "    It will iterate over all the columns in dataframe and find the columns whose contents are duplicate.\n",
        "    :param df: Dataframe object\n",
        "    :return: List of columns whose contents are duplicates.\n",
        "    '''\n",
        "    duplicateColumnNames = set()\n",
        "    # Iterate over all the columns in dataframe\n",
        "    for x in range(df.shape[1]):\n",
        "        # Select column at xth index.\n",
        "        col = df.iloc[:, x]\n",
        "        # Iterate over all the columns in DataFrame from (x+1)th index till end\n",
        "        for y in range(x + 1, df.shape[1]):\n",
        "            # Select column at yth index.\n",
        "            otherCol = df.iloc[:, y]\n",
        "            # Check if two columns at x 7 y index are equal\n",
        "            if col.equals(otherCol):\n",
        "                duplicateColumnNames.add(df.columns.values[y])\n",
        "    return list(duplicateColumnNames)\n",
        "\n",
        "#Fonte: https://thispointer.com/how-to-find-drop-duplicate-columns-in-a-dataframe-python-pandas/#:~:text=Find%20duplicate%20columns%20in%20a%20DataFrame,stored%20in%20duplicate%20column%20list."
      ],
      "execution_count": null,
      "outputs": []
    },
    {
      "cell_type": "code",
      "metadata": {
        "id": "u6ABgL2gIkkW"
      },
      "source": [
        "def cria_countplot(dados, x, hue):\n",
        "\n",
        "  '''\n",
        "  Esta função cria um countplot a partir d\n",
        "  \n",
        "  Parâmetros:\n",
        "    cod_pergunta: string com o código da pergunta\n",
        "    dados: DataFrame com os dados do arquivo \"PENSE_AMOSTRA2_ALUNO.CSV\"\n",
        "    pergunta: string com a pergunta\n",
        " '''\n",
        "\n",
        "  #with plt.style.context('ggplot'):\n",
        "  ax = sns.countplot(data = dados, x = x, hue = hue, order = sorted(dados[x].unique()))\n",
        "  ax.figure.set_size_inches(12,6)\n",
        "  ax.set_title(\"Distribuição de frequência\", fontsize=16)\n",
        "  ax.set_xlabel(f\"{x}\", fontsize=12)\n",
        "  ax.set_ylabel(\"Contagem\")\n",
        "  #sns.despine() \n",
        "\n",
        "  #Adicionando a legenda\n",
        "  ax.legend()\n",
        "\n",
        "  ax;"
      ],
      "execution_count": null,
      "outputs": []
    },
    {
      "cell_type": "code",
      "metadata": {
        "id": "tN83y7I3jM-7"
      },
      "source": [
        "def normalize_data(column):\n",
        "    return (column - np.min(column)) / (np.max(column) - np.min(column))"
      ],
      "execution_count": null,
      "outputs": []
    },
    {
      "cell_type": "code",
      "metadata": {
        "id": "ClT1Wa5HEfGy"
      },
      "source": [
        "def anotacao(grafico):\n",
        "    for p in ax.patches:\n",
        "      ax.annotate(format(p.get_height(), '.0f'), (p.get_x() + p.get_width() / 2., p.get_height()), ha = 'center', va = 'center', xytext = (0, 10), \n",
        "                 textcoords = 'offset points')"
      ],
      "execution_count": null,
      "outputs": []
    },
    {
      "cell_type": "code",
      "metadata": {
        "id": "G3Iff4LoEfGz"
      },
      "source": [
        "def colunas_correlacao(dados, limite):    \n",
        "    limit = limite\n",
        "    corr = dados_limpos.corr()\n",
        "    mask = np.triu(np.ones(corr.shape), k=1).astype(bool)\n",
        "    corr_no_diag = corr.where(mask)\n",
        "    coll = [c for c in corr_no_diag.columns if any(abs(corr_no_diag[c]) > limit)]\n",
        "    \n",
        "    return coll"
      ],
      "execution_count": null,
      "outputs": []
    },
    {
      "cell_type": "code",
      "metadata": {
        "id": "RAjEIaW8EfGz"
      },
      "source": [
        "def plota_correlacao(dados, limite):    \n",
        "    limit = limite\n",
        "    corr = dados_limpos.corr()\n",
        "    mask = np.triu(np.ones(corr.shape), k=1).astype(bool)\n",
        "    corr_no_diag = corr.where(mask)\n",
        "    coll = [c for c in corr_no_diag.columns if any(abs(corr_no_diag[c]) > limit)]\n",
        "\n",
        "    plt.figure(figsize=(18,12))\n",
        "\n",
        "    ax = sns.heatmap(corr, vmin=-1, vmax=1, annot=False, cmap=\"Blues\", fmt=\".2f\", mask=mask)\n",
        "\n",
        "    plt.title(\"Correlação entre variáveis\", fontsize = 16)\n",
        "    plt.show()\n",
        "    \n",
        "    return ax"
      ],
      "execution_count": null,
      "outputs": []
    },
    {
      "cell_type": "code",
      "metadata": {
        "id": "yAJa2A2OEfG0"
      },
      "source": [
        "def imprime_shape(dados):\n",
        "    \n",
        "    return print(f\"O dataset agora possui {dados.shape[0]} registros e {dados.shape[1]} colunas.\")"
      ],
      "execution_count": null,
      "outputs": []
    },
    {
      "cell_type": "markdown",
      "metadata": {
        "id": "AYe8J7kkA8Rm"
      },
      "source": [
        "## **COLETA DOS DADOS**"
      ]
    },
    {
      "cell_type": "code",
      "metadata": {
        "id": "21tMVDo8A8Rm"
      },
      "source": [
        "url = \"https://github.com/claricefiorese/bootcamp_alura_projetos/blob/main/projeto_final/Kaggle_Sirio_Libanes_ICU_Prediction.xlsx?raw=true\"\n",
        "\n",
        "dados_raw = pd.read_excel(url)"
      ],
      "execution_count": null,
      "outputs": []
    },
    {
      "cell_type": "code",
      "metadata": {
        "id": "K8x7Jkuuot8Y"
      },
      "source": [
        "dados_raw = jn.clean_names(dados_raw)"
      ],
      "execution_count": null,
      "outputs": []
    },
    {
      "cell_type": "markdown",
      "metadata": {
        "id": "Cn5B6wQ8EfG1"
      },
      "source": [
        "## **ANÁLISE EXPLORATÓRIA DOS DADOS**"
      ]
    },
    {
      "cell_type": "markdown",
      "metadata": {
        "id": "tz2d4klmVMVv"
      },
      "source": [
        "### **DADOS DISPONÍVEIS**"
      ]
    },
    {
      "cell_type": "markdown",
      "metadata": {
        "id": "MNJE2TvWSw35"
      },
      "source": [
        "- Informação demográfica do paciente (03)\n",
        "- Doenças pré-existentes do paciente (09)\n",
        "- Resultados do exame de sangue (36)\n",
        "- Sinais vitais (06)\n",
        "\n",
        "No total, existem 54 variáveis expandidas em média, media, máximo, mínimo, *diff* e *relative diff* quando pertinente.\n",
        "\n",
        "- *diff = max - min*\n",
        "- *relative diff = diff/mediana*"
      ]
    },
    {
      "cell_type": "code",
      "metadata": {
        "id": "MA-O-Bi1A8Rq",
        "scrolled": true,
        "colab": {
          "base_uri": "https://localhost:8080/"
        },
        "outputId": "9aabe9b3-0b47-4110-857f-fb179bea3820"
      },
      "source": [
        "for coluna in dados_raw.columns:\n",
        "    print(coluna)"
      ],
      "execution_count": null,
      "outputs": [
        {
          "output_type": "stream",
          "text": [
            "patient_visit_identifier\n",
            "age_above65\n",
            "age_percentil\n",
            "gender\n",
            "disease_grouping_1\n",
            "disease_grouping_2\n",
            "disease_grouping_3\n",
            "disease_grouping_4\n",
            "disease_grouping_5\n",
            "disease_grouping_6\n",
            "htn\n",
            "immunocompromised\n",
            "other\n",
            "albumin_median\n",
            "albumin_mean\n",
            "albumin_min\n",
            "albumin_max\n",
            "albumin_diff\n",
            "be_arterial_median\n",
            "be_arterial_mean\n",
            "be_arterial_min\n",
            "be_arterial_max\n",
            "be_arterial_diff\n",
            "be_venous_median\n",
            "be_venous_mean\n",
            "be_venous_min\n",
            "be_venous_max\n",
            "be_venous_diff\n",
            "bic_arterial_median\n",
            "bic_arterial_mean\n",
            "bic_arterial_min\n",
            "bic_arterial_max\n",
            "bic_arterial_diff\n",
            "bic_venous_median\n",
            "bic_venous_mean\n",
            "bic_venous_min\n",
            "bic_venous_max\n",
            "bic_venous_diff\n",
            "billirubin_median\n",
            "billirubin_mean\n",
            "billirubin_min\n",
            "billirubin_max\n",
            "billirubin_diff\n",
            "blast_median\n",
            "blast_mean\n",
            "blast_min\n",
            "blast_max\n",
            "blast_diff\n",
            "calcium_median\n",
            "calcium_mean\n",
            "calcium_min\n",
            "calcium_max\n",
            "calcium_diff\n",
            "creatinin_median\n",
            "creatinin_mean\n",
            "creatinin_min\n",
            "creatinin_max\n",
            "creatinin_diff\n",
            "ffa_median\n",
            "ffa_mean\n",
            "ffa_min\n",
            "ffa_max\n",
            "ffa_diff\n",
            "ggt_median\n",
            "ggt_mean\n",
            "ggt_min\n",
            "ggt_max\n",
            "ggt_diff\n",
            "glucose_median\n",
            "glucose_mean\n",
            "glucose_min\n",
            "glucose_max\n",
            "glucose_diff\n",
            "hematocrite_median\n",
            "hematocrite_mean\n",
            "hematocrite_min\n",
            "hematocrite_max\n",
            "hematocrite_diff\n",
            "hemoglobin_median\n",
            "hemoglobin_mean\n",
            "hemoglobin_min\n",
            "hemoglobin_max\n",
            "hemoglobin_diff\n",
            "inr_median\n",
            "inr_mean\n",
            "inr_min\n",
            "inr_max\n",
            "inr_diff\n",
            "lactate_median\n",
            "lactate_mean\n",
            "lactate_min\n",
            "lactate_max\n",
            "lactate_diff\n",
            "leukocytes_median\n",
            "leukocytes_mean\n",
            "leukocytes_min\n",
            "leukocytes_max\n",
            "leukocytes_diff\n",
            "linfocitos_median\n",
            "linfocitos_mean\n",
            "linfocitos_min\n",
            "linfocitos_max\n",
            "linfocitos_diff\n",
            "neutrophiles_median\n",
            "neutrophiles_mean\n",
            "neutrophiles_min\n",
            "neutrophiles_max\n",
            "neutrophiles_diff\n",
            "p02_arterial_median\n",
            "p02_arterial_mean\n",
            "p02_arterial_min\n",
            "p02_arterial_max\n",
            "p02_arterial_diff\n",
            "p02_venous_median\n",
            "p02_venous_mean\n",
            "p02_venous_min\n",
            "p02_venous_max\n",
            "p02_venous_diff\n",
            "pc02_arterial_median\n",
            "pc02_arterial_mean\n",
            "pc02_arterial_min\n",
            "pc02_arterial_max\n",
            "pc02_arterial_diff\n",
            "pc02_venous_median\n",
            "pc02_venous_mean\n",
            "pc02_venous_min\n",
            "pc02_venous_max\n",
            "pc02_venous_diff\n",
            "pcr_median\n",
            "pcr_mean\n",
            "pcr_min\n",
            "pcr_max\n",
            "pcr_diff\n",
            "ph_arterial_median\n",
            "ph_arterial_mean\n",
            "ph_arterial_min\n",
            "ph_arterial_max\n",
            "ph_arterial_diff\n",
            "ph_venous_median\n",
            "ph_venous_mean\n",
            "ph_venous_min\n",
            "ph_venous_max\n",
            "ph_venous_diff\n",
            "platelets_median\n",
            "platelets_mean\n",
            "platelets_min\n",
            "platelets_max\n",
            "platelets_diff\n",
            "potassium_median\n",
            "potassium_mean\n",
            "potassium_min\n",
            "potassium_max\n",
            "potassium_diff\n",
            "sat02_arterial_median\n",
            "sat02_arterial_mean\n",
            "sat02_arterial_min\n",
            "sat02_arterial_max\n",
            "sat02_arterial_diff\n",
            "sat02_venous_median\n",
            "sat02_venous_mean\n",
            "sat02_venous_min\n",
            "sat02_venous_max\n",
            "sat02_venous_diff\n",
            "sodium_median\n",
            "sodium_mean\n",
            "sodium_min\n",
            "sodium_max\n",
            "sodium_diff\n",
            "tgo_median\n",
            "tgo_mean\n",
            "tgo_min\n",
            "tgo_max\n",
            "tgo_diff\n",
            "tgp_median\n",
            "tgp_mean\n",
            "tgp_min\n",
            "tgp_max\n",
            "tgp_diff\n",
            "ttpa_median\n",
            "ttpa_mean\n",
            "ttpa_min\n",
            "ttpa_max\n",
            "ttpa_diff\n",
            "urea_median\n",
            "urea_mean\n",
            "urea_min\n",
            "urea_max\n",
            "urea_diff\n",
            "dimer_median\n",
            "dimer_mean\n",
            "dimer_min\n",
            "dimer_max\n",
            "dimer_diff\n",
            "bloodpressure_diastolic_mean\n",
            "bloodpressure_sistolic_mean\n",
            "heart_rate_mean\n",
            "respiratory_rate_mean\n",
            "temperature_mean\n",
            "oxygen_saturation_mean\n",
            "bloodpressure_diastolic_median\n",
            "bloodpressure_sistolic_median\n",
            "heart_rate_median\n",
            "respiratory_rate_median\n",
            "temperature_median\n",
            "oxygen_saturation_median\n",
            "bloodpressure_diastolic_min\n",
            "bloodpressure_sistolic_min\n",
            "heart_rate_min\n",
            "respiratory_rate_min\n",
            "temperature_min\n",
            "oxygen_saturation_min\n",
            "bloodpressure_diastolic_max\n",
            "bloodpressure_sistolic_max\n",
            "heart_rate_max\n",
            "respiratory_rate_max\n",
            "temperature_max\n",
            "oxygen_saturation_max\n",
            "bloodpressure_diastolic_diff\n",
            "bloodpressure_sistolic_diff\n",
            "heart_rate_diff\n",
            "respiratory_rate_diff\n",
            "temperature_diff\n",
            "oxygen_saturation_diff\n",
            "bloodpressure_diastolic_diff_rel\n",
            "bloodpressure_sistolic_diff_rel\n",
            "heart_rate_diff_rel\n",
            "respiratory_rate_diff_rel\n",
            "temperature_diff_rel\n",
            "oxygen_saturation_diff_rel\n",
            "window\n",
            "icu\n"
          ],
          "name": "stdout"
        }
      ]
    },
    {
      "cell_type": "code",
      "metadata": {
        "id": "2O-uT1JYA8Ro",
        "colab": {
          "base_uri": "https://localhost:8080/",
          "height": 253
        },
        "outputId": "ae0996c7-5fa5-4af5-e1e5-a0f0ebeeb7fd"
      },
      "source": [
        "dados_raw.head()"
      ],
      "execution_count": null,
      "outputs": [
        {
          "output_type": "execute_result",
          "data": {
            "text/html": [
              "<div>\n",
              "<style scoped>\n",
              "    .dataframe tbody tr th:only-of-type {\n",
              "        vertical-align: middle;\n",
              "    }\n",
              "\n",
              "    .dataframe tbody tr th {\n",
              "        vertical-align: top;\n",
              "    }\n",
              "\n",
              "    .dataframe thead th {\n",
              "        text-align: right;\n",
              "    }\n",
              "</style>\n",
              "<table border=\"1\" class=\"dataframe\">\n",
              "  <thead>\n",
              "    <tr style=\"text-align: right;\">\n",
              "      <th></th>\n",
              "      <th>patient_visit_identifier</th>\n",
              "      <th>age_above65</th>\n",
              "      <th>age_percentil</th>\n",
              "      <th>gender</th>\n",
              "      <th>disease_grouping_1</th>\n",
              "      <th>disease_grouping_2</th>\n",
              "      <th>disease_grouping_3</th>\n",
              "      <th>disease_grouping_4</th>\n",
              "      <th>disease_grouping_5</th>\n",
              "      <th>disease_grouping_6</th>\n",
              "      <th>htn</th>\n",
              "      <th>immunocompromised</th>\n",
              "      <th>other</th>\n",
              "      <th>albumin_median</th>\n",
              "      <th>albumin_mean</th>\n",
              "      <th>albumin_min</th>\n",
              "      <th>albumin_max</th>\n",
              "      <th>albumin_diff</th>\n",
              "      <th>be_arterial_median</th>\n",
              "      <th>be_arterial_mean</th>\n",
              "      <th>be_arterial_min</th>\n",
              "      <th>be_arterial_max</th>\n",
              "      <th>be_arterial_diff</th>\n",
              "      <th>be_venous_median</th>\n",
              "      <th>be_venous_mean</th>\n",
              "      <th>be_venous_min</th>\n",
              "      <th>be_venous_max</th>\n",
              "      <th>be_venous_diff</th>\n",
              "      <th>bic_arterial_median</th>\n",
              "      <th>bic_arterial_mean</th>\n",
              "      <th>bic_arterial_min</th>\n",
              "      <th>bic_arterial_max</th>\n",
              "      <th>bic_arterial_diff</th>\n",
              "      <th>bic_venous_median</th>\n",
              "      <th>bic_venous_mean</th>\n",
              "      <th>bic_venous_min</th>\n",
              "      <th>bic_venous_max</th>\n",
              "      <th>bic_venous_diff</th>\n",
              "      <th>billirubin_median</th>\n",
              "      <th>billirubin_mean</th>\n",
              "      <th>...</th>\n",
              "      <th>dimer_max</th>\n",
              "      <th>dimer_diff</th>\n",
              "      <th>bloodpressure_diastolic_mean</th>\n",
              "      <th>bloodpressure_sistolic_mean</th>\n",
              "      <th>heart_rate_mean</th>\n",
              "      <th>respiratory_rate_mean</th>\n",
              "      <th>temperature_mean</th>\n",
              "      <th>oxygen_saturation_mean</th>\n",
              "      <th>bloodpressure_diastolic_median</th>\n",
              "      <th>bloodpressure_sistolic_median</th>\n",
              "      <th>heart_rate_median</th>\n",
              "      <th>respiratory_rate_median</th>\n",
              "      <th>temperature_median</th>\n",
              "      <th>oxygen_saturation_median</th>\n",
              "      <th>bloodpressure_diastolic_min</th>\n",
              "      <th>bloodpressure_sistolic_min</th>\n",
              "      <th>heart_rate_min</th>\n",
              "      <th>respiratory_rate_min</th>\n",
              "      <th>temperature_min</th>\n",
              "      <th>oxygen_saturation_min</th>\n",
              "      <th>bloodpressure_diastolic_max</th>\n",
              "      <th>bloodpressure_sistolic_max</th>\n",
              "      <th>heart_rate_max</th>\n",
              "      <th>respiratory_rate_max</th>\n",
              "      <th>temperature_max</th>\n",
              "      <th>oxygen_saturation_max</th>\n",
              "      <th>bloodpressure_diastolic_diff</th>\n",
              "      <th>bloodpressure_sistolic_diff</th>\n",
              "      <th>heart_rate_diff</th>\n",
              "      <th>respiratory_rate_diff</th>\n",
              "      <th>temperature_diff</th>\n",
              "      <th>oxygen_saturation_diff</th>\n",
              "      <th>bloodpressure_diastolic_diff_rel</th>\n",
              "      <th>bloodpressure_sistolic_diff_rel</th>\n",
              "      <th>heart_rate_diff_rel</th>\n",
              "      <th>respiratory_rate_diff_rel</th>\n",
              "      <th>temperature_diff_rel</th>\n",
              "      <th>oxygen_saturation_diff_rel</th>\n",
              "      <th>window</th>\n",
              "      <th>icu</th>\n",
              "    </tr>\n",
              "  </thead>\n",
              "  <tbody>\n",
              "    <tr>\n",
              "      <th>0</th>\n",
              "      <td>0</td>\n",
              "      <td>1</td>\n",
              "      <td>60th</td>\n",
              "      <td>0</td>\n",
              "      <td>0.0</td>\n",
              "      <td>0.0</td>\n",
              "      <td>0.0</td>\n",
              "      <td>0.0</td>\n",
              "      <td>1.0</td>\n",
              "      <td>1.0</td>\n",
              "      <td>0.0</td>\n",
              "      <td>0.0</td>\n",
              "      <td>1.0</td>\n",
              "      <td>NaN</td>\n",
              "      <td>NaN</td>\n",
              "      <td>NaN</td>\n",
              "      <td>NaN</td>\n",
              "      <td>NaN</td>\n",
              "      <td>NaN</td>\n",
              "      <td>NaN</td>\n",
              "      <td>NaN</td>\n",
              "      <td>NaN</td>\n",
              "      <td>NaN</td>\n",
              "      <td>NaN</td>\n",
              "      <td>NaN</td>\n",
              "      <td>NaN</td>\n",
              "      <td>NaN</td>\n",
              "      <td>NaN</td>\n",
              "      <td>NaN</td>\n",
              "      <td>NaN</td>\n",
              "      <td>NaN</td>\n",
              "      <td>NaN</td>\n",
              "      <td>NaN</td>\n",
              "      <td>NaN</td>\n",
              "      <td>NaN</td>\n",
              "      <td>NaN</td>\n",
              "      <td>NaN</td>\n",
              "      <td>NaN</td>\n",
              "      <td>NaN</td>\n",
              "      <td>NaN</td>\n",
              "      <td>...</td>\n",
              "      <td>NaN</td>\n",
              "      <td>NaN</td>\n",
              "      <td>0.086420</td>\n",
              "      <td>-0.230769</td>\n",
              "      <td>-0.283019</td>\n",
              "      <td>-0.593220</td>\n",
              "      <td>-0.285714</td>\n",
              "      <td>0.736842</td>\n",
              "      <td>0.086420</td>\n",
              "      <td>-0.230769</td>\n",
              "      <td>-0.283019</td>\n",
              "      <td>-0.586207</td>\n",
              "      <td>-0.285714</td>\n",
              "      <td>0.736842</td>\n",
              "      <td>0.237113</td>\n",
              "      <td>0.0000</td>\n",
              "      <td>-0.162393</td>\n",
              "      <td>-0.500000</td>\n",
              "      <td>0.208791</td>\n",
              "      <td>0.898990</td>\n",
              "      <td>-0.247863</td>\n",
              "      <td>-0.459459</td>\n",
              "      <td>-0.432836</td>\n",
              "      <td>-0.636364</td>\n",
              "      <td>-0.420290</td>\n",
              "      <td>0.736842</td>\n",
              "      <td>-1.00000</td>\n",
              "      <td>-1.000000</td>\n",
              "      <td>-1.000000</td>\n",
              "      <td>-1.000000</td>\n",
              "      <td>-1.000000</td>\n",
              "      <td>-1.000000</td>\n",
              "      <td>-1.000000</td>\n",
              "      <td>-1.000000</td>\n",
              "      <td>-1.000000</td>\n",
              "      <td>-1.000000</td>\n",
              "      <td>-1.000000</td>\n",
              "      <td>-1.000000</td>\n",
              "      <td>0-2</td>\n",
              "      <td>0</td>\n",
              "    </tr>\n",
              "    <tr>\n",
              "      <th>1</th>\n",
              "      <td>0</td>\n",
              "      <td>1</td>\n",
              "      <td>60th</td>\n",
              "      <td>0</td>\n",
              "      <td>0.0</td>\n",
              "      <td>0.0</td>\n",
              "      <td>0.0</td>\n",
              "      <td>0.0</td>\n",
              "      <td>1.0</td>\n",
              "      <td>1.0</td>\n",
              "      <td>0.0</td>\n",
              "      <td>0.0</td>\n",
              "      <td>1.0</td>\n",
              "      <td>NaN</td>\n",
              "      <td>NaN</td>\n",
              "      <td>NaN</td>\n",
              "      <td>NaN</td>\n",
              "      <td>NaN</td>\n",
              "      <td>NaN</td>\n",
              "      <td>NaN</td>\n",
              "      <td>NaN</td>\n",
              "      <td>NaN</td>\n",
              "      <td>NaN</td>\n",
              "      <td>NaN</td>\n",
              "      <td>NaN</td>\n",
              "      <td>NaN</td>\n",
              "      <td>NaN</td>\n",
              "      <td>NaN</td>\n",
              "      <td>NaN</td>\n",
              "      <td>NaN</td>\n",
              "      <td>NaN</td>\n",
              "      <td>NaN</td>\n",
              "      <td>NaN</td>\n",
              "      <td>NaN</td>\n",
              "      <td>NaN</td>\n",
              "      <td>NaN</td>\n",
              "      <td>NaN</td>\n",
              "      <td>NaN</td>\n",
              "      <td>NaN</td>\n",
              "      <td>NaN</td>\n",
              "      <td>...</td>\n",
              "      <td>NaN</td>\n",
              "      <td>NaN</td>\n",
              "      <td>0.333333</td>\n",
              "      <td>-0.230769</td>\n",
              "      <td>-0.132075</td>\n",
              "      <td>-0.593220</td>\n",
              "      <td>0.535714</td>\n",
              "      <td>0.578947</td>\n",
              "      <td>0.333333</td>\n",
              "      <td>-0.230769</td>\n",
              "      <td>-0.132075</td>\n",
              "      <td>-0.586207</td>\n",
              "      <td>0.535714</td>\n",
              "      <td>0.578947</td>\n",
              "      <td>0.443299</td>\n",
              "      <td>0.0000</td>\n",
              "      <td>-0.025641</td>\n",
              "      <td>-0.500000</td>\n",
              "      <td>0.714286</td>\n",
              "      <td>0.838384</td>\n",
              "      <td>-0.076923</td>\n",
              "      <td>-0.459459</td>\n",
              "      <td>-0.313433</td>\n",
              "      <td>-0.636364</td>\n",
              "      <td>0.246377</td>\n",
              "      <td>0.578947</td>\n",
              "      <td>-1.00000</td>\n",
              "      <td>-1.000000</td>\n",
              "      <td>-1.000000</td>\n",
              "      <td>-1.000000</td>\n",
              "      <td>-1.000000</td>\n",
              "      <td>-1.000000</td>\n",
              "      <td>-1.000000</td>\n",
              "      <td>-1.000000</td>\n",
              "      <td>-1.000000</td>\n",
              "      <td>-1.000000</td>\n",
              "      <td>-1.000000</td>\n",
              "      <td>-1.000000</td>\n",
              "      <td>2-4</td>\n",
              "      <td>0</td>\n",
              "    </tr>\n",
              "    <tr>\n",
              "      <th>2</th>\n",
              "      <td>0</td>\n",
              "      <td>1</td>\n",
              "      <td>60th</td>\n",
              "      <td>0</td>\n",
              "      <td>0.0</td>\n",
              "      <td>0.0</td>\n",
              "      <td>0.0</td>\n",
              "      <td>0.0</td>\n",
              "      <td>1.0</td>\n",
              "      <td>1.0</td>\n",
              "      <td>0.0</td>\n",
              "      <td>0.0</td>\n",
              "      <td>1.0</td>\n",
              "      <td>0.605263</td>\n",
              "      <td>0.605263</td>\n",
              "      <td>0.605263</td>\n",
              "      <td>0.605263</td>\n",
              "      <td>-1.0</td>\n",
              "      <td>-1.000000</td>\n",
              "      <td>-1.000000</td>\n",
              "      <td>-1.000000</td>\n",
              "      <td>-1.000000</td>\n",
              "      <td>-1.0</td>\n",
              "      <td>-1.000000</td>\n",
              "      <td>-1.000000</td>\n",
              "      <td>-1.000000</td>\n",
              "      <td>-1.000000</td>\n",
              "      <td>-1.0</td>\n",
              "      <td>-0.317073</td>\n",
              "      <td>-0.317073</td>\n",
              "      <td>-0.317073</td>\n",
              "      <td>-0.317073</td>\n",
              "      <td>-1.0</td>\n",
              "      <td>-0.317073</td>\n",
              "      <td>-0.317073</td>\n",
              "      <td>-0.317073</td>\n",
              "      <td>-0.317073</td>\n",
              "      <td>-1.0</td>\n",
              "      <td>-0.938950</td>\n",
              "      <td>-0.938950</td>\n",
              "      <td>...</td>\n",
              "      <td>-0.994912</td>\n",
              "      <td>-1.0</td>\n",
              "      <td>NaN</td>\n",
              "      <td>NaN</td>\n",
              "      <td>NaN</td>\n",
              "      <td>NaN</td>\n",
              "      <td>NaN</td>\n",
              "      <td>NaN</td>\n",
              "      <td>NaN</td>\n",
              "      <td>NaN</td>\n",
              "      <td>NaN</td>\n",
              "      <td>NaN</td>\n",
              "      <td>NaN</td>\n",
              "      <td>NaN</td>\n",
              "      <td>NaN</td>\n",
              "      <td>NaN</td>\n",
              "      <td>NaN</td>\n",
              "      <td>NaN</td>\n",
              "      <td>NaN</td>\n",
              "      <td>NaN</td>\n",
              "      <td>NaN</td>\n",
              "      <td>NaN</td>\n",
              "      <td>NaN</td>\n",
              "      <td>NaN</td>\n",
              "      <td>NaN</td>\n",
              "      <td>NaN</td>\n",
              "      <td>NaN</td>\n",
              "      <td>NaN</td>\n",
              "      <td>NaN</td>\n",
              "      <td>NaN</td>\n",
              "      <td>NaN</td>\n",
              "      <td>NaN</td>\n",
              "      <td>NaN</td>\n",
              "      <td>NaN</td>\n",
              "      <td>NaN</td>\n",
              "      <td>NaN</td>\n",
              "      <td>NaN</td>\n",
              "      <td>NaN</td>\n",
              "      <td>4-6</td>\n",
              "      <td>0</td>\n",
              "    </tr>\n",
              "    <tr>\n",
              "      <th>3</th>\n",
              "      <td>0</td>\n",
              "      <td>1</td>\n",
              "      <td>60th</td>\n",
              "      <td>0</td>\n",
              "      <td>0.0</td>\n",
              "      <td>0.0</td>\n",
              "      <td>0.0</td>\n",
              "      <td>0.0</td>\n",
              "      <td>1.0</td>\n",
              "      <td>1.0</td>\n",
              "      <td>0.0</td>\n",
              "      <td>0.0</td>\n",
              "      <td>1.0</td>\n",
              "      <td>NaN</td>\n",
              "      <td>NaN</td>\n",
              "      <td>NaN</td>\n",
              "      <td>NaN</td>\n",
              "      <td>NaN</td>\n",
              "      <td>NaN</td>\n",
              "      <td>NaN</td>\n",
              "      <td>NaN</td>\n",
              "      <td>NaN</td>\n",
              "      <td>NaN</td>\n",
              "      <td>NaN</td>\n",
              "      <td>NaN</td>\n",
              "      <td>NaN</td>\n",
              "      <td>NaN</td>\n",
              "      <td>NaN</td>\n",
              "      <td>NaN</td>\n",
              "      <td>NaN</td>\n",
              "      <td>NaN</td>\n",
              "      <td>NaN</td>\n",
              "      <td>NaN</td>\n",
              "      <td>NaN</td>\n",
              "      <td>NaN</td>\n",
              "      <td>NaN</td>\n",
              "      <td>NaN</td>\n",
              "      <td>NaN</td>\n",
              "      <td>NaN</td>\n",
              "      <td>NaN</td>\n",
              "      <td>...</td>\n",
              "      <td>NaN</td>\n",
              "      <td>NaN</td>\n",
              "      <td>NaN</td>\n",
              "      <td>NaN</td>\n",
              "      <td>NaN</td>\n",
              "      <td>NaN</td>\n",
              "      <td>-0.107143</td>\n",
              "      <td>0.736842</td>\n",
              "      <td>NaN</td>\n",
              "      <td>NaN</td>\n",
              "      <td>NaN</td>\n",
              "      <td>NaN</td>\n",
              "      <td>-0.107143</td>\n",
              "      <td>0.736842</td>\n",
              "      <td>NaN</td>\n",
              "      <td>NaN</td>\n",
              "      <td>NaN</td>\n",
              "      <td>NaN</td>\n",
              "      <td>0.318681</td>\n",
              "      <td>0.898990</td>\n",
              "      <td>NaN</td>\n",
              "      <td>NaN</td>\n",
              "      <td>NaN</td>\n",
              "      <td>NaN</td>\n",
              "      <td>-0.275362</td>\n",
              "      <td>0.736842</td>\n",
              "      <td>NaN</td>\n",
              "      <td>NaN</td>\n",
              "      <td>NaN</td>\n",
              "      <td>NaN</td>\n",
              "      <td>-1.000000</td>\n",
              "      <td>-1.000000</td>\n",
              "      <td>NaN</td>\n",
              "      <td>NaN</td>\n",
              "      <td>NaN</td>\n",
              "      <td>NaN</td>\n",
              "      <td>-1.000000</td>\n",
              "      <td>-1.000000</td>\n",
              "      <td>6-12</td>\n",
              "      <td>0</td>\n",
              "    </tr>\n",
              "    <tr>\n",
              "      <th>4</th>\n",
              "      <td>0</td>\n",
              "      <td>1</td>\n",
              "      <td>60th</td>\n",
              "      <td>0</td>\n",
              "      <td>0.0</td>\n",
              "      <td>0.0</td>\n",
              "      <td>0.0</td>\n",
              "      <td>0.0</td>\n",
              "      <td>1.0</td>\n",
              "      <td>1.0</td>\n",
              "      <td>0.0</td>\n",
              "      <td>0.0</td>\n",
              "      <td>1.0</td>\n",
              "      <td>0.000000</td>\n",
              "      <td>0.000000</td>\n",
              "      <td>0.000000</td>\n",
              "      <td>0.000000</td>\n",
              "      <td>-1.0</td>\n",
              "      <td>-0.871658</td>\n",
              "      <td>-0.871658</td>\n",
              "      <td>-0.871658</td>\n",
              "      <td>-0.871658</td>\n",
              "      <td>-1.0</td>\n",
              "      <td>-0.863874</td>\n",
              "      <td>-0.863874</td>\n",
              "      <td>-0.863874</td>\n",
              "      <td>-0.863874</td>\n",
              "      <td>-1.0</td>\n",
              "      <td>-0.317073</td>\n",
              "      <td>-0.317073</td>\n",
              "      <td>-0.317073</td>\n",
              "      <td>-0.317073</td>\n",
              "      <td>-1.0</td>\n",
              "      <td>-0.414634</td>\n",
              "      <td>-0.414634</td>\n",
              "      <td>-0.414634</td>\n",
              "      <td>-0.414634</td>\n",
              "      <td>-1.0</td>\n",
              "      <td>-0.979069</td>\n",
              "      <td>-0.979069</td>\n",
              "      <td>...</td>\n",
              "      <td>-0.996762</td>\n",
              "      <td>-1.0</td>\n",
              "      <td>-0.243021</td>\n",
              "      <td>-0.338537</td>\n",
              "      <td>-0.213031</td>\n",
              "      <td>-0.317859</td>\n",
              "      <td>0.033779</td>\n",
              "      <td>0.665932</td>\n",
              "      <td>-0.283951</td>\n",
              "      <td>-0.376923</td>\n",
              "      <td>-0.188679</td>\n",
              "      <td>-0.379310</td>\n",
              "      <td>0.035714</td>\n",
              "      <td>0.631579</td>\n",
              "      <td>-0.340206</td>\n",
              "      <td>-0.4875</td>\n",
              "      <td>-0.572650</td>\n",
              "      <td>-0.857143</td>\n",
              "      <td>0.098901</td>\n",
              "      <td>0.797980</td>\n",
              "      <td>-0.076923</td>\n",
              "      <td>0.286486</td>\n",
              "      <td>0.298507</td>\n",
              "      <td>0.272727</td>\n",
              "      <td>0.362319</td>\n",
              "      <td>0.947368</td>\n",
              "      <td>-0.33913</td>\n",
              "      <td>0.325153</td>\n",
              "      <td>0.114504</td>\n",
              "      <td>0.176471</td>\n",
              "      <td>-0.238095</td>\n",
              "      <td>-0.818182</td>\n",
              "      <td>-0.389967</td>\n",
              "      <td>0.407558</td>\n",
              "      <td>-0.230462</td>\n",
              "      <td>0.096774</td>\n",
              "      <td>-0.242282</td>\n",
              "      <td>-0.814433</td>\n",
              "      <td>ABOVE_12</td>\n",
              "      <td>1</td>\n",
              "    </tr>\n",
              "  </tbody>\n",
              "</table>\n",
              "<p>5 rows × 231 columns</p>\n",
              "</div>"
            ],
            "text/plain": [
              "   patient_visit_identifier  age_above65  ...    window  icu\n",
              "0                         0            1  ...       0-2    0\n",
              "1                         0            1  ...       2-4    0\n",
              "2                         0            1  ...       4-6    0\n",
              "3                         0            1  ...      6-12    0\n",
              "4                         0            1  ...  ABOVE_12    1\n",
              "\n",
              "[5 rows x 231 columns]"
            ]
          },
          "metadata": {
            "tags": []
          },
          "execution_count": 15
        }
      ]
    },
    {
      "cell_type": "code",
      "metadata": {
        "id": "ZlHaLBABA8Rp",
        "colab": {
          "base_uri": "https://localhost:8080/"
        },
        "outputId": "9ed7b8d4-a3bf-49c7-809e-2efc3e5c87a1"
      },
      "source": [
        "imprime_shape(dados_raw)"
      ],
      "execution_count": null,
      "outputs": [
        {
          "output_type": "stream",
          "text": [
            "O dataset agora possui 1925 registros e 231 colunas.\n"
          ],
          "name": "stdout"
        }
      ]
    },
    {
      "cell_type": "code",
      "metadata": {
        "id": "BLn9I8--A8Rp",
        "colab": {
          "base_uri": "https://localhost:8080/"
        },
        "outputId": "dd353a32-3dc8-4e4f-df42-81b51da8e6eb"
      },
      "source": [
        "print(f\"São fornecidos registros de {dados_raw['patient_visit_identifier'].nunique()} pacientes.\")"
      ],
      "execution_count": null,
      "outputs": [
        {
          "output_type": "stream",
          "text": [
            "São fornecidos registros de 385 pacientes.\n"
          ],
          "name": "stdout"
        }
      ]
    },
    {
      "cell_type": "code",
      "metadata": {
        "id": "vH1w-7kZA8Rp",
        "colab": {
          "base_uri": "https://localhost:8080/"
        },
        "outputId": "29d62a7c-588c-4e6e-a48f-7ba6d451f19f"
      },
      "source": [
        "dados_raw.info()"
      ],
      "execution_count": null,
      "outputs": [
        {
          "output_type": "stream",
          "text": [
            "<class 'pandas.core.frame.DataFrame'>\n",
            "RangeIndex: 1925 entries, 0 to 1924\n",
            "Columns: 231 entries, patient_visit_identifier to icu\n",
            "dtypes: float64(225), int64(4), object(2)\n",
            "memory usage: 3.4+ MB\n"
          ],
          "name": "stdout"
        }
      ]
    },
    {
      "cell_type": "markdown",
      "metadata": {
        "id": "1X3aTkgGEfG9"
      },
      "source": [
        "Para fazer a análise exploratória dos dados, apenas a janela \"ABOVE_12\" será utilizada, porque assim temos informação definitiva se o paciente foi para a UTI ou não."
      ]
    },
    {
      "cell_type": "code",
      "metadata": {
        "id": "YE9XwLE2EfG9"
      },
      "source": [
        "dados_eda = dados_raw.query(\"window=='ABOVE_12'\")"
      ],
      "execution_count": null,
      "outputs": []
    },
    {
      "cell_type": "code",
      "metadata": {
        "id": "uU4gEmSil8lL",
        "colab": {
          "base_uri": "https://localhost:8080/",
          "height": 391
        },
        "outputId": "3f1e0e98-0244-4583-9268-84b1eae03e59"
      },
      "source": [
        "plt.figure(figsize=(8,6))\n",
        "\n",
        "with plt.style.context('ggplot'):\n",
        "    ax = sns.countplot(data=dados_eda, x='icu')\n",
        "    ax.set_xlabel(\"UTI\", fontsize=12)\n",
        "    ax.set_ylabel(\"Contagem\", fontsize=12)\n",
        "    anotacao(ax)"
      ],
      "execution_count": null,
      "outputs": [
        {
          "output_type": "display_data",
          "data": {
            "image/png": "[encoded data removed]",
            "text/plain": [
              "<Figure size 576x432 with 1 Axes>"
            ]
          },
          "metadata": {
            "tags": [],
            "needs_background": "light"
          }
        }
      ]
    },
    {
      "cell_type": "code",
      "metadata": {
        "colab": {
          "base_uri": "https://localhost:8080/",
          "height": 391
        },
        "id": "mB0mRKZDEfG-",
        "outputId": "a4335864-ccd3-4936-847e-e8ef83a6bd3f"
      },
      "source": [
        "plt.figure(figsize=(8,6))\n",
        "\n",
        "with plt.style.context('ggplot'):\n",
        "    ax = sns.countplot(data=dados_eda, x=\"age_above65\")\n",
        "    ax.set_xlabel(\"Age Above 65\", fontsize=12)\n",
        "    ax.set_ylabel(\"Contagem\", fontsize=12)\n",
        "    anotacao(ax)"
      ],
      "execution_count": null,
      "outputs": [
        {
          "output_type": "display_data",
          "data": {
            "image/png": "[encoded data removed]",
            "text/plain": [
              "<Figure size 576x432 with 1 Axes>"
            ]
          },
          "metadata": {
            "tags": [],
            "needs_background": "light"
          }
        }
      ]
    },
    {
      "cell_type": "code",
      "metadata": {
        "colab": {
          "base_uri": "https://localhost:8080/",
          "height": 391
        },
        "id": "8329ELrAEfG-",
        "outputId": "1b62040f-f85f-4af0-ae09-29a083c97e3c"
      },
      "source": [
        "plt.figure(figsize=(8,6))\n",
        "\n",
        "with plt.style.context('ggplot'):\n",
        "    ax = sns.countplot(data=dados_eda, x=\"age_above65\", hue=\"icu\")\n",
        "    ax.set_xlabel(\"Age Above 65\", fontsize=12)\n",
        "    ax.set_ylabel(\"Contagem\", fontsize=12)\n",
        "    anotacao(ax)"
      ],
      "execution_count": null,
      "outputs": [
        {
          "output_type": "display_data",
          "data": {
            "image/png": "[encoded data removed]",
            "text/plain": [
              "<Figure size 576x432 with 1 Axes>"
            ]
          },
          "metadata": {
            "tags": [],
            "needs_background": "light"
          }
        }
      ]
    },
    {
      "cell_type": "code",
      "metadata": {
        "colab": {
          "base_uri": "https://localhost:8080/",
          "height": 391
        },
        "id": "Te72E4ODEfG_",
        "outputId": "2dd11291-848d-41d1-c617-3c61b4a3e894"
      },
      "source": [
        "plt.figure(figsize=(12,6))\n",
        "\n",
        "with plt.style.context('ggplot'):\n",
        "    ax = sns.countplot(data=dados_eda, x=\"age_percentil\", order=sorted(dados_raw[\"age_percentil\"].unique()))\n",
        "    ax.set_xlabel(\"Age Percentil\", fontsize=12)\n",
        "    ax.set_ylabel(\"Contagem\", fontsize=12)\n",
        "    anotacao(ax)"
      ],
      "execution_count": null,
      "outputs": [
        {
          "output_type": "display_data",
          "data": {
            "image/png": "[encoded data removed]",
            "text/plain": [
              "<Figure size 864x432 with 1 Axes>"
            ]
          },
          "metadata": {
            "tags": [],
            "needs_background": "light"
          }
        }
      ]
    },
    {
      "cell_type": "code",
      "metadata": {
        "colab": {
          "base_uri": "https://localhost:8080/",
          "height": 391
        },
        "id": "hG1jD8vYEfHA",
        "outputId": "ac90d363-1e1d-451b-a45e-5b09c08334ae"
      },
      "source": [
        "plt.figure(figsize=(12,6))\n",
        "\n",
        "with plt.style.context('ggplot'):\n",
        "    ax = sns.countplot(data=dados_eda, x=\"age_percentil\", hue=\"icu\", order=sorted(dados_raw[\"age_percentil\"].unique()))\n",
        "    ax.set_xlabel(\"Age Percentil\", fontsize=12)\n",
        "    ax.set_ylabel(\"Contagem\", fontsize=12)\n",
        "    anotacao(ax)"
      ],
      "execution_count": null,
      "outputs": [
        {
          "output_type": "display_data",
          "data": {
            "image/png": "[encoded data removed]",
            "text/plain": [
              "<Figure size 864x432 with 1 Axes>"
            ]
          },
          "metadata": {
            "tags": [],
            "needs_background": "light"
          }
        }
      ]
    },
    {
      "cell_type": "code",
      "metadata": {
        "colab": {
          "base_uri": "https://localhost:8080/",
          "height": 391
        },
        "id": "nZuVi6mlEfHB",
        "outputId": "f5057e15-c52b-4411-c262-4508f1c1d885"
      },
      "source": [
        "plt.figure(figsize=(8,6))\n",
        "\n",
        "with plt.style.context('ggplot'):\n",
        "    ax = sns.countplot(data=dados_eda, x='gender', hue=\"icu\")\n",
        "    ax.set_xlabel(\"Gênero\", fontsize=12)\n",
        "    ax.set_ylabel(\"Contagem\", fontsize=12)\n",
        "    anotacao(ax)"
      ],
      "execution_count": null,
      "outputs": [
        {
          "output_type": "display_data",
          "data": {
            "image/png": "[encoded data removed]",
            "text/plain": [
              "<Figure size 576x432 with 1 Axes>"
            ]
          },
          "metadata": {
            "tags": [],
            "needs_background": "light"
          }
        }
      ]
    },
    {
      "cell_type": "code",
      "metadata": {
        "colab": {
          "base_uri": "https://localhost:8080/",
          "height": 681
        },
        "id": "6HfTjxGlEfHC",
        "outputId": "27996971-0d9e-4dab-b384-ac3562763348"
      },
      "source": [
        "fig, axes = plt.subplots(3, 3, figsize=(12, 10), sharex=True, sharey=True)\n",
        "\n",
        "fig.suptitle(\"A\", fontsize = 16)\n",
        "\n",
        "with plt.style.context('ggplot'):\n",
        "    \n",
        "    ax = sns.countplot(ax=axes[0, 0], data=dados_eda[dados_eda[\"icu\"] == 1], x=\"disease_grouping_1\")\n",
        "    ax.set_xlabel(\"Disease Grouping 1\", fontsize=12)\n",
        "    ax.set_ylabel(\"Contagem\", fontsize=12)\n",
        "    anotacao(ax)\n",
        "\n",
        "    ax = sns.countplot(ax=axes[0, 1], data=dados_eda[dados_eda[\"icu\"] == 1], x=\"disease_grouping_2\")\n",
        "    ax.set_xlabel(\"Disease Grouping 2\", fontsize=12)\n",
        "    ax.set_ylabel(\"Contagem\", fontsize=12)\n",
        "    anotacao(ax)\n",
        "\n",
        "    ax = sns.countplot(ax=axes[0, 2], data=dados_eda[dados_eda[\"icu\"] == 1], x=\"disease_grouping_3\")\n",
        "    ax.set_xlabel(\"Disease Grouping 3\", fontsize=12)\n",
        "    ax.set_ylabel(\"Contagem\", fontsize=12)\n",
        "    anotacao(ax)\n",
        "\n",
        "    ax = sns.countplot(ax=axes[1, 0], data=dados_eda[dados_eda[\"icu\"] == 1], x=\"disease_grouping_4\")\n",
        "    ax.set_xlabel(\"Disease Grouping 4\", fontsize=12)\n",
        "    ax.set_ylabel(\"Contagem\", fontsize=12)\n",
        "    anotacao(ax)\n",
        "\n",
        "    ax = sns.countplot(ax=axes[1, 1], data=dados_eda[dados_eda[\"icu\"] == 1], x=\"disease_grouping_5\")\n",
        "    ax.set_xlabel(\"Disease Grouping 5\", fontsize=12)\n",
        "    ax.set_ylabel(\"Contagem\", fontsize=12)\n",
        "    anotacao(ax)\n",
        "\n",
        "    ax = sns.countplot(ax=axes[1, 2], data=dados_eda[dados_eda[\"icu\"] == 1], x=\"disease_grouping_6\")\n",
        "    ax.set_xlabel(\"Disease Grouping 6\", fontsize=12)\n",
        "    ax.set_ylabel(\"Contagem\", fontsize=12)\n",
        "    anotacao(ax)\n",
        "\n",
        "    ax = sns.countplot(ax=axes[2, 0], data=dados_eda[dados_eda[\"icu\"] == 1], x=\"htn\")\n",
        "    ax.set_xlabel(\"HTN\", fontsize=12)\n",
        "    ax.set_ylabel(\"Contagem\", fontsize=12)\n",
        "    anotacao(ax)\n",
        "\n",
        "    ax = sns.countplot(ax=axes[2, 1], data=dados_eda[dados_eda[\"icu\"] == 1], x=\"immunocompromised\")\n",
        "    ax.set_xlabel(\"Immunocompromised\", fontsize=12)\n",
        "    ax.set_ylabel(\"Contagem\", fontsize=12)\n",
        "    anotacao(ax)\n",
        "\n",
        "    ax = sns.countplot(ax=axes[2, 2], data=dados_eda[dados_eda[\"icu\"] == 1], x=\"other\")\n",
        "    ax.set_xlabel(\"Other\", fontsize=12)\n",
        "    ax.set_ylabel(\"Contagem\", fontsize=12)\n",
        "    anotacao(ax)\n",
        "    \n",
        "    ax.set_xticklabels([0, 1])\n",
        "\n",
        "plt.show()\n"
      ],
      "execution_count": null,
      "outputs": [
        {
          "output_type": "display_data",
          "data": {
            "image/png": "[encoded data removed]",
            "text/plain": [
              "<Figure size 864x720 with 9 Axes>"
            ]
          },
          "metadata": {
            "tags": [],
            "needs_background": "light"
          }
        }
      ]
    },
    {
      "cell_type": "code",
      "metadata": {
        "colab": {
          "base_uri": "https://localhost:8080/",
          "height": 1000
        },
        "id": "fGQ6oUJaEfHD",
        "outputId": "60586e21-d40d-4e30-c416-98be2eb6541c"
      },
      "source": [
        "fig, axes = plt.subplots(9, 4, figsize=(12, 18), sharex=True, sharey=True)\n",
        "\n",
        "fig.suptitle(\"A\", fontsize = 16)\n",
        "\n",
        "with plt.style.context('ggplot'):\n",
        "    \n",
        "    ax = sns.violinplot(ax=axes[0, 0], x=\"icu\", y=\"albumin_mean\", data=dados_eda, inner=\"quartile\")\n",
        "    ax = sns.violinplot(ax=axes[0, 1], x=\"icu\", y=\"be_arterial_mean\", data=dados_eda, inner=\"quartile\")\n",
        "    ax = sns.violinplot(ax=axes[0, 2], x=\"icu\", y=\"be_venous_mean\", data=dados_eda, inner=\"quartile\")\n",
        "    ax = sns.violinplot(ax=axes[0, 3], x=\"icu\", y=\"bic_arterial_mean\", data=dados_eda, inner=\"quartile\")    \n",
        "\n",
        "    ax = sns.violinplot(ax=axes[1, 0], x=\"icu\", y=\"bic_venous_mean\", data=dados_eda, inner=\"quartile\")\n",
        "    ax = sns.violinplot(ax=axes[1, 1], x=\"icu\", y=\"billirubin_mean\", data=dados_eda, inner=\"quartile\")    \n",
        "    ax = sns.violinplot(ax=axes[1, 2], x=\"icu\", y=\"blast_mean\", data=dados_eda, inner=\"quartile\")\n",
        "    ax = sns.violinplot(ax=axes[1, 3], x=\"icu\", y=\"calcium_mean\", data=dados_eda, inner=\"quartile\")\n",
        "\n",
        "    ax = sns.violinplot(ax=axes[2, 0], x=\"icu\", y=\"creatinin_mean\", data=dados_eda, inner=\"quartile\")    \n",
        "    ax = sns.violinplot(ax=axes[2, 1], x=\"icu\", y=\"ffa_mean\", data=dados_eda, inner=\"quartile\")\n",
        "    ax = sns.violinplot(ax=axes[2, 2], x=\"icu\", y=\"ggt_mean\", data=dados_eda, inner=\"quartile\")\n",
        "    ax = sns.violinplot(ax=axes[2, 3], x=\"icu\", y=\"glucose_mean\", data=dados_eda, inner=\"quartile\")\n",
        "\n",
        "    ax = sns.violinplot(ax=axes[3, 0], x=\"icu\", y=\"hematocrite_mean\", data=dados_eda, inner=\"quartile\")\n",
        "    ax = sns.violinplot(ax=axes[3, 1], x=\"icu\", y=\"hemoglobin_mean\", data=dados_eda, inner=\"quartile\")    \n",
        "    ax = sns.violinplot(ax=axes[3, 2], x=\"icu\", y=\"inr_mean\", data=dados_eda, inner=\"quartile\")    \n",
        "    ax = sns.violinplot(ax=axes[3, 3], x=\"icu\", y=\"lactate_mean\", data=dados_eda, inner=\"quartile\")\n",
        "\n",
        "    ax = sns.violinplot(ax=axes[4, 0], x=\"icu\", y=\"leukocytes_mean\", data=dados_eda, inner=\"quartile\")\n",
        "    ax = sns.violinplot(ax=axes[4, 1], x=\"icu\", y=\"linfocitos_mean\", data=dados_eda, inner=\"quartile\")\n",
        "    ax = sns.violinplot(ax=axes[4, 2], x=\"icu\", y=\"neutrophiles_mean\", data=dados_eda, inner=\"quartile\")\n",
        "    ax = sns.violinplot(ax=axes[4, 3], x=\"icu\", y=\"p02_arterial_mean\", data=dados_eda, inner=\"quartile\")\n",
        "\n",
        "    ax = sns.violinplot(ax=axes[5, 0], x=\"icu\", y=\"p02_venous_mean\", data=dados_eda, inner=\"quartile\")\n",
        "    ax = sns.violinplot(ax=axes[5, 1], x=\"icu\", y=\"pc02_arterial_mean\", data=dados_eda, inner=\"quartile\")\n",
        "    ax = sns.violinplot(ax=axes[5, 2], x=\"icu\", y=\"pc02_venous_mean\", data=dados_eda, inner=\"quartile\")\n",
        "    ax = sns.violinplot(ax=axes[5, 3], x=\"icu\", y=\"pcr_mean\", data=dados_eda, inner=\"quartile\")  \n",
        "\n",
        "    ax = sns.violinplot(ax=axes[6, 0], x=\"icu\", y=\"ph_arterial_mean\", data=dados_eda, inner=\"quartile\")\n",
        "    ax = sns.violinplot(ax=axes[6, 1], x=\"icu\", y=\"ph_venous_mean\", data=dados_eda, inner=\"quartile\")\n",
        "    ax = sns.violinplot(ax=axes[6, 2], x=\"icu\", y=\"platelets_mean\", data=dados_eda, inner=\"quartile\")    \n",
        "    ax = sns.violinplot(ax=axes[6, 3], x=\"icu\", y=\"potassium_mean\", data=dados_eda, inner=\"quartile\")\n",
        "\n",
        "    ax = sns.violinplot(ax=axes[7, 0], x=\"icu\", y=\"sat02_arterial_mean\", data=dados_eda, inner=\"quartile\")\n",
        "    ax = sns.violinplot(ax=axes[7, 1], x=\"icu\", y=\"sat02_venous_mean\", data=dados_eda, inner=\"quartile\")    \n",
        "    ax = sns.violinplot(ax=axes[7, 2], x=\"icu\", y=\"sodium_mean\", data=dados_eda, inner=\"quartile\")    \n",
        "    ax = sns.violinplot(ax=axes[7, 3], x=\"icu\", y=\"tgo_mean\", data=dados_eda, inner=\"quartile\")\n",
        "\n",
        "    ax = sns.violinplot(ax=axes[8, 0], x=\"icu\", y=\"tgp_mean\", data=dados_eda, inner=\"quartile\")\n",
        "    ax = sns.violinplot(ax=axes[8, 1], x=\"icu\", y=\"ttpa_mean\", data=dados_eda, inner=\"quartile\")    \n",
        "    ax = sns.violinplot(ax=axes[8, 2], x=\"icu\", y=\"urea_mean\", data=dados_eda, inner=\"quartile\")\n",
        "    ax = sns.violinplot(ax=axes[8, 3], x=\"icu\", y=\"dimer_mean\", data=dados_eda, inner=\"quartile\")\n",
        "\n",
        "plt.show()\n"
      ],
      "execution_count": null,
      "outputs": [
        {
          "output_type": "display_data",
          "data": {
            "image/png": "[encoded data removed]",
            "text/plain": [
              "<Figure size 864x1296 with 36 Axes>"
            ]
          },
          "metadata": {
            "tags": [],
            "needs_background": "light"
          }
        }
      ]
    },
    {
      "cell_type": "code",
      "metadata": {
        "colab": {
          "base_uri": "https://localhost:8080/",
          "height": 554
        },
        "id": "9pdSEl7QEfHE",
        "outputId": "4a549656-b8a6-4117-a82a-4b50707daae5"
      },
      "source": [
        "fig, axes = plt.subplots(2, 3, figsize=(12, 8), sharex=True, sharey=True)\n",
        "\n",
        "fig.suptitle(\"A\", fontsize = 16)\n",
        "\n",
        "with plt.style.context('ggplot'):\n",
        "    \n",
        "    ax = sns.violinplot(ax=axes[0, 0], x=\"icu\", y=\"bloodpressure_diastolic_mean\", data=dados_eda, inner=\"quartile\")\n",
        "    ax = sns.violinplot(ax=axes[0, 1], x=\"icu\", y=\"bloodpressure_sistolic_mean\", data=dados_eda, inner=\"quartile\")\n",
        "    ax = sns.violinplot(ax=axes[0, 2], x=\"icu\", y=\"heart_rate_mean\", data=dados_eda, inner=\"quartile\")\n",
        "    ax = sns.violinplot(ax=axes[1, 0], x=\"icu\", y=\"respiratory_rate_mean\", data=dados_eda, inner=\"quartile\") \n",
        "    ax = sns.violinplot(ax=axes[1, 1], x=\"icu\", y=\"temperature_mean\", data=dados_eda, inner=\"quartile\") \n",
        "    ax = sns.violinplot(ax=axes[1, 2], x=\"icu\", y=\"oxygen_saturation_mean\", data=dados_eda, inner=\"quartile\") "
      ],
      "execution_count": null,
      "outputs": [
        {
          "output_type": "display_data",
          "data": {
            "image/png": "[encoded data removed]",
            "text/plain": [
              "<Figure size 864x576 with 6 Axes>"
            ]
          },
          "metadata": {
            "tags": [],
            "needs_background": "light"
          }
        }
      ]
    },
    {
      "cell_type": "markdown",
      "metadata": {
        "id": "xq7Jaww1A8Ro"
      },
      "source": [
        "## **PRÉ-PROCESSAMENTO DOS DADOS**"
      ]
    },
    {
      "cell_type": "markdown",
      "metadata": {
        "id": "L4mzV356abq5"
      },
      "source": [
        "### **DADOS DE PACIENTES QUE FORAM ADMITIDOS NA UTI NA PRIMEIRA JANELA DE TEMPO (0-2)**"
      ]
    },
    {
      "cell_type": "markdown",
      "metadata": {
        "id": "kYDO4aEiA8Rq"
      },
      "source": [
        "Conforme as diretrizes do Hospital Sírio Libanês, os dados de pacientes que foram admitidos na UTI na primeira janela de tempo (0-2) não devem ser considerados nas análises.\n",
        "<br>Para simplificar, esses dados serão desconsiderados desde o primeiro momento."
      ]
    },
    {
      "cell_type": "code",
      "metadata": {
        "id": "yi_0YxxjA8Rq",
        "colab": {
          "base_uri": "https://localhost:8080/"
        },
        "outputId": "3538436c-0560-46bb-9c15-af9bd2a2064a"
      },
      "source": [
        "dados_primeira_janela_uti = dados_raw.query(\"window=='0-2' and icu==1\")[\"patient_visit_identifier\"].values\n",
        "dados_usaveis = dados_raw.query(\"patient_visit_identifier not in @dados_primeira_janela_uti\")\n",
        "print(f\"Desconsiderando os dados de pacientes que entraram na UTI na primeira janela de tempo (0-2), são {dados_usaveis.shape[0]} registros e {dados_usaveis.shape[1]} colunas.\")"
      ],
      "execution_count": null,
      "outputs": [
        {
          "output_type": "stream",
          "text": [
            "Desconsiderando os dados de pacientes que entraram na UTI na primeira janela de tempo (0-2), são 1765 registros e 231 colunas.\n"
          ],
          "name": "stdout"
        }
      ]
    },
    {
      "cell_type": "markdown",
      "metadata": {
        "id": "bZSkUiWXQAIR"
      },
      "source": [
        "### **DADOS FALTANTES**"
      ]
    },
    {
      "cell_type": "code",
      "metadata": {
        "id": "U-4AxPr4O4iD",
        "colab": {
          "base_uri": "https://localhost:8080/"
        },
        "outputId": "f53328ca-8747-400c-d9c0-1723a927c8f5"
      },
      "source": [
        "for coluna in dados_raw.columns:\n",
        "    print(f\"{coluna}: {round(dados_raw[coluna].isnull().mean() * 100,2)}%\")"
      ],
      "execution_count": null,
      "outputs": [
        {
          "output_type": "stream",
          "text": [
            "patient_visit_identifier: 0.0%\n",
            "age_above65: 0.0%\n",
            "age_percentil: 0.0%\n",
            "gender: 0.0%\n",
            "disease_grouping_1: 0.26%\n",
            "disease_grouping_2: 0.26%\n",
            "disease_grouping_3: 0.26%\n",
            "disease_grouping_4: 0.26%\n",
            "disease_grouping_5: 0.26%\n",
            "disease_grouping_6: 0.26%\n",
            "htn: 0.26%\n",
            "immunocompromised: 0.26%\n",
            "other: 0.26%\n",
            "albumin_median: 57.35%\n",
            "albumin_mean: 57.35%\n",
            "albumin_min: 57.35%\n",
            "albumin_max: 57.35%\n",
            "albumin_diff: 57.35%\n",
            "be_arterial_median: 57.35%\n",
            "be_arterial_mean: 57.35%\n",
            "be_arterial_min: 57.35%\n",
            "be_arterial_max: 57.35%\n",
            "be_arterial_diff: 57.35%\n",
            "be_venous_median: 57.35%\n",
            "be_venous_mean: 57.35%\n",
            "be_venous_min: 57.35%\n",
            "be_venous_max: 57.35%\n",
            "be_venous_diff: 57.35%\n",
            "bic_arterial_median: 57.35%\n",
            "bic_arterial_mean: 57.35%\n",
            "bic_arterial_min: 57.35%\n",
            "bic_arterial_max: 57.35%\n",
            "bic_arterial_diff: 57.35%\n",
            "bic_venous_median: 57.35%\n",
            "bic_venous_mean: 57.35%\n",
            "bic_venous_min: 57.35%\n",
            "bic_venous_max: 57.35%\n",
            "bic_venous_diff: 57.35%\n",
            "billirubin_median: 57.35%\n",
            "billirubin_mean: 57.35%\n",
            "billirubin_min: 57.35%\n",
            "billirubin_max: 57.35%\n",
            "billirubin_diff: 57.35%\n",
            "blast_median: 57.35%\n",
            "blast_mean: 57.35%\n",
            "blast_min: 57.35%\n",
            "blast_max: 57.35%\n",
            "blast_diff: 57.35%\n",
            "calcium_median: 57.35%\n",
            "calcium_mean: 57.35%\n",
            "calcium_min: 57.35%\n",
            "calcium_max: 57.35%\n",
            "calcium_diff: 57.35%\n",
            "creatinin_median: 57.35%\n",
            "creatinin_mean: 57.35%\n",
            "creatinin_min: 57.35%\n",
            "creatinin_max: 57.35%\n",
            "creatinin_diff: 57.35%\n",
            "ffa_median: 57.35%\n",
            "ffa_mean: 57.35%\n",
            "ffa_min: 57.35%\n",
            "ffa_max: 57.35%\n",
            "ffa_diff: 57.35%\n",
            "ggt_median: 57.35%\n",
            "ggt_mean: 57.35%\n",
            "ggt_min: 57.35%\n",
            "ggt_max: 57.35%\n",
            "ggt_diff: 57.35%\n",
            "glucose_median: 57.35%\n",
            "glucose_mean: 57.35%\n",
            "glucose_min: 57.35%\n",
            "glucose_max: 57.35%\n",
            "glucose_diff: 57.35%\n",
            "hematocrite_median: 57.35%\n",
            "hematocrite_mean: 57.35%\n",
            "hematocrite_min: 57.35%\n",
            "hematocrite_max: 57.35%\n",
            "hematocrite_diff: 57.35%\n",
            "hemoglobin_median: 57.35%\n",
            "hemoglobin_mean: 57.35%\n",
            "hemoglobin_min: 57.35%\n",
            "hemoglobin_max: 57.35%\n",
            "hemoglobin_diff: 57.35%\n",
            "inr_median: 57.35%\n",
            "inr_mean: 57.35%\n",
            "inr_min: 57.35%\n",
            "inr_max: 57.35%\n",
            "inr_diff: 57.35%\n",
            "lactate_median: 57.35%\n",
            "lactate_mean: 57.35%\n",
            "lactate_min: 57.35%\n",
            "lactate_max: 57.35%\n",
            "lactate_diff: 57.35%\n",
            "leukocytes_median: 57.35%\n",
            "leukocytes_mean: 57.35%\n",
            "leukocytes_min: 57.35%\n",
            "leukocytes_max: 57.35%\n",
            "leukocytes_diff: 57.35%\n",
            "linfocitos_median: 57.35%\n",
            "linfocitos_mean: 57.35%\n",
            "linfocitos_min: 57.35%\n",
            "linfocitos_max: 57.35%\n",
            "linfocitos_diff: 57.35%\n",
            "neutrophiles_median: 57.35%\n",
            "neutrophiles_mean: 57.35%\n",
            "neutrophiles_min: 57.35%\n",
            "neutrophiles_max: 57.35%\n",
            "neutrophiles_diff: 57.35%\n",
            "p02_arterial_median: 57.35%\n",
            "p02_arterial_mean: 57.35%\n",
            "p02_arterial_min: 57.35%\n",
            "p02_arterial_max: 57.35%\n",
            "p02_arterial_diff: 57.35%\n",
            "p02_venous_median: 57.35%\n",
            "p02_venous_mean: 57.35%\n",
            "p02_venous_min: 57.35%\n",
            "p02_venous_max: 57.35%\n",
            "p02_venous_diff: 57.35%\n",
            "pc02_arterial_median: 57.35%\n",
            "pc02_arterial_mean: 57.35%\n",
            "pc02_arterial_min: 57.35%\n",
            "pc02_arterial_max: 57.35%\n",
            "pc02_arterial_diff: 57.35%\n",
            "pc02_venous_median: 57.35%\n",
            "pc02_venous_mean: 57.35%\n",
            "pc02_venous_min: 57.35%\n",
            "pc02_venous_max: 57.35%\n",
            "pc02_venous_diff: 57.35%\n",
            "pcr_median: 57.35%\n",
            "pcr_mean: 57.35%\n",
            "pcr_min: 57.35%\n",
            "pcr_max: 57.35%\n",
            "pcr_diff: 57.35%\n",
            "ph_arterial_median: 57.35%\n",
            "ph_arterial_mean: 57.35%\n",
            "ph_arterial_min: 57.35%\n",
            "ph_arterial_max: 57.35%\n",
            "ph_arterial_diff: 57.35%\n",
            "ph_venous_median: 57.35%\n",
            "ph_venous_mean: 57.35%\n",
            "ph_venous_min: 57.35%\n",
            "ph_venous_max: 57.35%\n",
            "ph_venous_diff: 57.35%\n",
            "platelets_median: 57.35%\n",
            "platelets_mean: 57.35%\n",
            "platelets_min: 57.35%\n",
            "platelets_max: 57.35%\n",
            "platelets_diff: 57.35%\n",
            "potassium_median: 57.35%\n",
            "potassium_mean: 57.35%\n",
            "potassium_min: 57.35%\n",
            "potassium_max: 57.35%\n",
            "potassium_diff: 57.35%\n",
            "sat02_arterial_median: 57.35%\n",
            "sat02_arterial_mean: 57.35%\n",
            "sat02_arterial_min: 57.35%\n",
            "sat02_arterial_max: 57.35%\n",
            "sat02_arterial_diff: 57.35%\n",
            "sat02_venous_median: 57.35%\n",
            "sat02_venous_mean: 57.35%\n",
            "sat02_venous_min: 57.35%\n",
            "sat02_venous_max: 57.35%\n",
            "sat02_venous_diff: 57.35%\n",
            "sodium_median: 57.35%\n",
            "sodium_mean: 57.35%\n",
            "sodium_min: 57.35%\n",
            "sodium_max: 57.35%\n",
            "sodium_diff: 57.35%\n",
            "tgo_median: 57.35%\n",
            "tgo_mean: 57.35%\n",
            "tgo_min: 57.35%\n",
            "tgo_max: 57.35%\n",
            "tgo_diff: 57.35%\n",
            "tgp_median: 57.35%\n",
            "tgp_mean: 57.35%\n",
            "tgp_min: 57.35%\n",
            "tgp_max: 57.35%\n",
            "tgp_diff: 57.35%\n",
            "ttpa_median: 57.35%\n",
            "ttpa_mean: 57.35%\n",
            "ttpa_min: 57.35%\n",
            "ttpa_max: 57.35%\n",
            "ttpa_diff: 57.35%\n",
            "urea_median: 57.35%\n",
            "urea_mean: 57.35%\n",
            "urea_min: 57.35%\n",
            "urea_max: 57.35%\n",
            "urea_diff: 57.35%\n",
            "dimer_median: 57.35%\n",
            "dimer_mean: 57.35%\n",
            "dimer_min: 57.35%\n",
            "dimer_max: 57.35%\n",
            "dimer_diff: 57.35%\n",
            "bloodpressure_diastolic_mean: 35.58%\n",
            "bloodpressure_sistolic_mean: 35.58%\n",
            "heart_rate_mean: 35.58%\n",
            "respiratory_rate_mean: 38.86%\n",
            "temperature_mean: 36.05%\n",
            "oxygen_saturation_mean: 35.64%\n",
            "bloodpressure_diastolic_median: 35.58%\n",
            "bloodpressure_sistolic_median: 35.58%\n",
            "heart_rate_median: 35.58%\n",
            "respiratory_rate_median: 38.86%\n",
            "temperature_median: 36.05%\n",
            "oxygen_saturation_median: 35.64%\n",
            "bloodpressure_diastolic_min: 35.58%\n",
            "bloodpressure_sistolic_min: 35.58%\n",
            "heart_rate_min: 35.58%\n",
            "respiratory_rate_min: 38.86%\n",
            "temperature_min: 36.05%\n",
            "oxygen_saturation_min: 35.64%\n",
            "bloodpressure_diastolic_max: 35.58%\n",
            "bloodpressure_sistolic_max: 35.58%\n",
            "heart_rate_max: 35.58%\n",
            "respiratory_rate_max: 38.86%\n",
            "temperature_max: 36.05%\n",
            "oxygen_saturation_max: 35.64%\n",
            "bloodpressure_diastolic_diff: 35.58%\n",
            "bloodpressure_sistolic_diff: 35.58%\n",
            "heart_rate_diff: 35.58%\n",
            "respiratory_rate_diff: 38.86%\n",
            "temperature_diff: 36.05%\n",
            "oxygen_saturation_diff: 35.64%\n",
            "bloodpressure_diastolic_diff_rel: 35.58%\n",
            "bloodpressure_sistolic_diff_rel: 35.58%\n",
            "heart_rate_diff_rel: 35.58%\n",
            "respiratory_rate_diff_rel: 38.86%\n",
            "temperature_diff_rel: 36.05%\n",
            "oxygen_saturation_diff_rel: 35.64%\n",
            "window: 0.0%\n",
            "icu: 0.0%\n"
          ],
          "name": "stdout"
        }
      ]
    },
    {
      "cell_type": "markdown",
      "metadata": {
        "id": "NK2NO96FA8Rr"
      },
      "source": [
        "A equipe do Hospital Sírio Libanês sugere a melhor maneira de lidar com os valores faltantes:\n",
        "\n",
        ">É razoável presumir que um paciente que não tem uma medição registrada em uma determinada janela de tempo esteja clinicamente estável, podendo apresentar sinais vitais e exames de sangue semelhantes às janelas vizinhas. Portanto, pode-se preencher os valores faltantes usando os valores da janela anterior ou posterior. Atenção aos problemas de multicolinearidade e variância zero nesses dados ao escolher seu algoritmo."
      ]
    },
    {
      "cell_type": "code",
      "metadata": {
        "id": "mtCPv6kLA8Rr",
        "colab": {
          "base_uri": "https://localhost:8080/"
        },
        "outputId": "44e313af-2cdd-4018-c419-ea37c5044f2c"
      },
      "source": [
        "print(f\"O dataset possui {round(100*dados_usaveis.isna().to_numpy().sum()/(dados_usaveis.shape[0]*dados_usaveis.shape[1]), 2)}% de valores faltantes.\\n\")\n",
        "\n",
        "print(f\"Número de colunas que possuem valores faltantes: {len(dados_usaveis.columns[dados_usaveis.isna().any()])}\")\n",
        "\n",
        "print(f\"\\nNúmero de colunas que não possuem valores faltantes: {len(dados_usaveis.columns[dados_usaveis.notna().all()])}\")\n"
      ],
      "execution_count": null,
      "outputs": [
        {
          "output_type": "stream",
          "text": [
            "O dataset possui 51.19% de valores faltantes.\n",
            "\n",
            "Número de colunas que possuem valores faltantes: 225\n",
            "\n",
            "Número de colunas que não possuem valores faltantes: 6\n"
          ],
          "name": "stdout"
        }
      ]
    },
    {
      "cell_type": "markdown",
      "metadata": {
        "id": "Lc0jyGu8XnDI"
      },
      "source": [
        "explicar como funciona a função de preencher a tabela"
      ]
    },
    {
      "cell_type": "code",
      "metadata": {
        "id": "mangxdV5A8Rr",
        "colab": {
          "base_uri": "https://localhost:8080/",
          "height": 253
        },
        "outputId": "69e04849-96ba-40ae-aaf3-7c2742f90b36"
      },
      "source": [
        "dados_sem_nan = preenche_tabela(dados_usaveis)\n",
        "dados_sem_nan.head()"
      ],
      "execution_count": null,
      "outputs": [
        {
          "output_type": "execute_result",
          "data": {
            "text/html": [
              "<div>\n",
              "<style scoped>\n",
              "    .dataframe tbody tr th:only-of-type {\n",
              "        vertical-align: middle;\n",
              "    }\n",
              "\n",
              "    .dataframe tbody tr th {\n",
              "        vertical-align: top;\n",
              "    }\n",
              "\n",
              "    .dataframe thead th {\n",
              "        text-align: right;\n",
              "    }\n",
              "</style>\n",
              "<table border=\"1\" class=\"dataframe\">\n",
              "  <thead>\n",
              "    <tr style=\"text-align: right;\">\n",
              "      <th></th>\n",
              "      <th>patient_visit_identifier</th>\n",
              "      <th>age_above65</th>\n",
              "      <th>age_percentil</th>\n",
              "      <th>gender</th>\n",
              "      <th>disease_grouping_1</th>\n",
              "      <th>disease_grouping_2</th>\n",
              "      <th>disease_grouping_3</th>\n",
              "      <th>disease_grouping_4</th>\n",
              "      <th>disease_grouping_5</th>\n",
              "      <th>disease_grouping_6</th>\n",
              "      <th>htn</th>\n",
              "      <th>immunocompromised</th>\n",
              "      <th>other</th>\n",
              "      <th>albumin_median</th>\n",
              "      <th>albumin_mean</th>\n",
              "      <th>albumin_min</th>\n",
              "      <th>albumin_max</th>\n",
              "      <th>albumin_diff</th>\n",
              "      <th>be_arterial_median</th>\n",
              "      <th>be_arterial_mean</th>\n",
              "      <th>be_arterial_min</th>\n",
              "      <th>be_arterial_max</th>\n",
              "      <th>be_arterial_diff</th>\n",
              "      <th>be_venous_median</th>\n",
              "      <th>be_venous_mean</th>\n",
              "      <th>be_venous_min</th>\n",
              "      <th>be_venous_max</th>\n",
              "      <th>be_venous_diff</th>\n",
              "      <th>bic_arterial_median</th>\n",
              "      <th>bic_arterial_mean</th>\n",
              "      <th>bic_arterial_min</th>\n",
              "      <th>bic_arterial_max</th>\n",
              "      <th>bic_arterial_diff</th>\n",
              "      <th>bic_venous_median</th>\n",
              "      <th>bic_venous_mean</th>\n",
              "      <th>bic_venous_min</th>\n",
              "      <th>bic_venous_max</th>\n",
              "      <th>bic_venous_diff</th>\n",
              "      <th>billirubin_median</th>\n",
              "      <th>billirubin_mean</th>\n",
              "      <th>...</th>\n",
              "      <th>dimer_max</th>\n",
              "      <th>dimer_diff</th>\n",
              "      <th>bloodpressure_diastolic_mean</th>\n",
              "      <th>bloodpressure_sistolic_mean</th>\n",
              "      <th>heart_rate_mean</th>\n",
              "      <th>respiratory_rate_mean</th>\n",
              "      <th>temperature_mean</th>\n",
              "      <th>oxygen_saturation_mean</th>\n",
              "      <th>bloodpressure_diastolic_median</th>\n",
              "      <th>bloodpressure_sistolic_median</th>\n",
              "      <th>heart_rate_median</th>\n",
              "      <th>respiratory_rate_median</th>\n",
              "      <th>temperature_median</th>\n",
              "      <th>oxygen_saturation_median</th>\n",
              "      <th>bloodpressure_diastolic_min</th>\n",
              "      <th>bloodpressure_sistolic_min</th>\n",
              "      <th>heart_rate_min</th>\n",
              "      <th>respiratory_rate_min</th>\n",
              "      <th>temperature_min</th>\n",
              "      <th>oxygen_saturation_min</th>\n",
              "      <th>bloodpressure_diastolic_max</th>\n",
              "      <th>bloodpressure_sistolic_max</th>\n",
              "      <th>heart_rate_max</th>\n",
              "      <th>respiratory_rate_max</th>\n",
              "      <th>temperature_max</th>\n",
              "      <th>oxygen_saturation_max</th>\n",
              "      <th>bloodpressure_diastolic_diff</th>\n",
              "      <th>bloodpressure_sistolic_diff</th>\n",
              "      <th>heart_rate_diff</th>\n",
              "      <th>respiratory_rate_diff</th>\n",
              "      <th>temperature_diff</th>\n",
              "      <th>oxygen_saturation_diff</th>\n",
              "      <th>bloodpressure_diastolic_diff_rel</th>\n",
              "      <th>bloodpressure_sistolic_diff_rel</th>\n",
              "      <th>heart_rate_diff_rel</th>\n",
              "      <th>respiratory_rate_diff_rel</th>\n",
              "      <th>temperature_diff_rel</th>\n",
              "      <th>oxygen_saturation_diff_rel</th>\n",
              "      <th>window</th>\n",
              "      <th>icu</th>\n",
              "    </tr>\n",
              "  </thead>\n",
              "  <tbody>\n",
              "    <tr>\n",
              "      <th>0</th>\n",
              "      <td>0</td>\n",
              "      <td>1</td>\n",
              "      <td>60th</td>\n",
              "      <td>0</td>\n",
              "      <td>0.0</td>\n",
              "      <td>0.0</td>\n",
              "      <td>0.0</td>\n",
              "      <td>0.0</td>\n",
              "      <td>1.0</td>\n",
              "      <td>1.0</td>\n",
              "      <td>0.0</td>\n",
              "      <td>0.0</td>\n",
              "      <td>1.0</td>\n",
              "      <td>0.605263</td>\n",
              "      <td>0.605263</td>\n",
              "      <td>0.605263</td>\n",
              "      <td>0.605263</td>\n",
              "      <td>-1.0</td>\n",
              "      <td>-1.000000</td>\n",
              "      <td>-1.000000</td>\n",
              "      <td>-1.000000</td>\n",
              "      <td>-1.000000</td>\n",
              "      <td>-1.0</td>\n",
              "      <td>-1.000000</td>\n",
              "      <td>-1.000000</td>\n",
              "      <td>-1.000000</td>\n",
              "      <td>-1.000000</td>\n",
              "      <td>-1.0</td>\n",
              "      <td>-0.317073</td>\n",
              "      <td>-0.317073</td>\n",
              "      <td>-0.317073</td>\n",
              "      <td>-0.317073</td>\n",
              "      <td>-1.0</td>\n",
              "      <td>-0.317073</td>\n",
              "      <td>-0.317073</td>\n",
              "      <td>-0.317073</td>\n",
              "      <td>-0.317073</td>\n",
              "      <td>-1.0</td>\n",
              "      <td>-0.938950</td>\n",
              "      <td>-0.938950</td>\n",
              "      <td>...</td>\n",
              "      <td>-0.994912</td>\n",
              "      <td>-1.0</td>\n",
              "      <td>0.086420</td>\n",
              "      <td>-0.230769</td>\n",
              "      <td>-0.283019</td>\n",
              "      <td>-0.593220</td>\n",
              "      <td>-0.285714</td>\n",
              "      <td>0.736842</td>\n",
              "      <td>0.086420</td>\n",
              "      <td>-0.230769</td>\n",
              "      <td>-0.283019</td>\n",
              "      <td>-0.586207</td>\n",
              "      <td>-0.285714</td>\n",
              "      <td>0.736842</td>\n",
              "      <td>0.237113</td>\n",
              "      <td>0.0000</td>\n",
              "      <td>-0.162393</td>\n",
              "      <td>-0.500000</td>\n",
              "      <td>0.208791</td>\n",
              "      <td>0.898990</td>\n",
              "      <td>-0.247863</td>\n",
              "      <td>-0.459459</td>\n",
              "      <td>-0.432836</td>\n",
              "      <td>-0.636364</td>\n",
              "      <td>-0.420290</td>\n",
              "      <td>0.736842</td>\n",
              "      <td>-1.00000</td>\n",
              "      <td>-1.000000</td>\n",
              "      <td>-1.000000</td>\n",
              "      <td>-1.000000</td>\n",
              "      <td>-1.000000</td>\n",
              "      <td>-1.000000</td>\n",
              "      <td>-1.000000</td>\n",
              "      <td>-1.000000</td>\n",
              "      <td>-1.000000</td>\n",
              "      <td>-1.000000</td>\n",
              "      <td>-1.000000</td>\n",
              "      <td>-1.000000</td>\n",
              "      <td>0-2</td>\n",
              "      <td>0</td>\n",
              "    </tr>\n",
              "    <tr>\n",
              "      <th>1</th>\n",
              "      <td>0</td>\n",
              "      <td>1</td>\n",
              "      <td>60th</td>\n",
              "      <td>0</td>\n",
              "      <td>0.0</td>\n",
              "      <td>0.0</td>\n",
              "      <td>0.0</td>\n",
              "      <td>0.0</td>\n",
              "      <td>1.0</td>\n",
              "      <td>1.0</td>\n",
              "      <td>0.0</td>\n",
              "      <td>0.0</td>\n",
              "      <td>1.0</td>\n",
              "      <td>0.605263</td>\n",
              "      <td>0.605263</td>\n",
              "      <td>0.605263</td>\n",
              "      <td>0.605263</td>\n",
              "      <td>-1.0</td>\n",
              "      <td>-1.000000</td>\n",
              "      <td>-1.000000</td>\n",
              "      <td>-1.000000</td>\n",
              "      <td>-1.000000</td>\n",
              "      <td>-1.0</td>\n",
              "      <td>-1.000000</td>\n",
              "      <td>-1.000000</td>\n",
              "      <td>-1.000000</td>\n",
              "      <td>-1.000000</td>\n",
              "      <td>-1.0</td>\n",
              "      <td>-0.317073</td>\n",
              "      <td>-0.317073</td>\n",
              "      <td>-0.317073</td>\n",
              "      <td>-0.317073</td>\n",
              "      <td>-1.0</td>\n",
              "      <td>-0.317073</td>\n",
              "      <td>-0.317073</td>\n",
              "      <td>-0.317073</td>\n",
              "      <td>-0.317073</td>\n",
              "      <td>-1.0</td>\n",
              "      <td>-0.938950</td>\n",
              "      <td>-0.938950</td>\n",
              "      <td>...</td>\n",
              "      <td>-0.994912</td>\n",
              "      <td>-1.0</td>\n",
              "      <td>0.333333</td>\n",
              "      <td>-0.230769</td>\n",
              "      <td>-0.132075</td>\n",
              "      <td>-0.593220</td>\n",
              "      <td>0.535714</td>\n",
              "      <td>0.578947</td>\n",
              "      <td>0.333333</td>\n",
              "      <td>-0.230769</td>\n",
              "      <td>-0.132075</td>\n",
              "      <td>-0.586207</td>\n",
              "      <td>0.535714</td>\n",
              "      <td>0.578947</td>\n",
              "      <td>0.443299</td>\n",
              "      <td>0.0000</td>\n",
              "      <td>-0.025641</td>\n",
              "      <td>-0.500000</td>\n",
              "      <td>0.714286</td>\n",
              "      <td>0.838384</td>\n",
              "      <td>-0.076923</td>\n",
              "      <td>-0.459459</td>\n",
              "      <td>-0.313433</td>\n",
              "      <td>-0.636364</td>\n",
              "      <td>0.246377</td>\n",
              "      <td>0.578947</td>\n",
              "      <td>-1.00000</td>\n",
              "      <td>-1.000000</td>\n",
              "      <td>-1.000000</td>\n",
              "      <td>-1.000000</td>\n",
              "      <td>-1.000000</td>\n",
              "      <td>-1.000000</td>\n",
              "      <td>-1.000000</td>\n",
              "      <td>-1.000000</td>\n",
              "      <td>-1.000000</td>\n",
              "      <td>-1.000000</td>\n",
              "      <td>-1.000000</td>\n",
              "      <td>-1.000000</td>\n",
              "      <td>2-4</td>\n",
              "      <td>0</td>\n",
              "    </tr>\n",
              "    <tr>\n",
              "      <th>2</th>\n",
              "      <td>0</td>\n",
              "      <td>1</td>\n",
              "      <td>60th</td>\n",
              "      <td>0</td>\n",
              "      <td>0.0</td>\n",
              "      <td>0.0</td>\n",
              "      <td>0.0</td>\n",
              "      <td>0.0</td>\n",
              "      <td>1.0</td>\n",
              "      <td>1.0</td>\n",
              "      <td>0.0</td>\n",
              "      <td>0.0</td>\n",
              "      <td>1.0</td>\n",
              "      <td>0.605263</td>\n",
              "      <td>0.605263</td>\n",
              "      <td>0.605263</td>\n",
              "      <td>0.605263</td>\n",
              "      <td>-1.0</td>\n",
              "      <td>-1.000000</td>\n",
              "      <td>-1.000000</td>\n",
              "      <td>-1.000000</td>\n",
              "      <td>-1.000000</td>\n",
              "      <td>-1.0</td>\n",
              "      <td>-1.000000</td>\n",
              "      <td>-1.000000</td>\n",
              "      <td>-1.000000</td>\n",
              "      <td>-1.000000</td>\n",
              "      <td>-1.0</td>\n",
              "      <td>-0.317073</td>\n",
              "      <td>-0.317073</td>\n",
              "      <td>-0.317073</td>\n",
              "      <td>-0.317073</td>\n",
              "      <td>-1.0</td>\n",
              "      <td>-0.317073</td>\n",
              "      <td>-0.317073</td>\n",
              "      <td>-0.317073</td>\n",
              "      <td>-0.317073</td>\n",
              "      <td>-1.0</td>\n",
              "      <td>-0.938950</td>\n",
              "      <td>-0.938950</td>\n",
              "      <td>...</td>\n",
              "      <td>-0.994912</td>\n",
              "      <td>-1.0</td>\n",
              "      <td>-0.243021</td>\n",
              "      <td>-0.338537</td>\n",
              "      <td>-0.213031</td>\n",
              "      <td>-0.317859</td>\n",
              "      <td>-0.107143</td>\n",
              "      <td>0.736842</td>\n",
              "      <td>-0.283951</td>\n",
              "      <td>-0.376923</td>\n",
              "      <td>-0.188679</td>\n",
              "      <td>-0.379310</td>\n",
              "      <td>-0.107143</td>\n",
              "      <td>0.736842</td>\n",
              "      <td>-0.340206</td>\n",
              "      <td>-0.4875</td>\n",
              "      <td>-0.572650</td>\n",
              "      <td>-0.857143</td>\n",
              "      <td>0.318681</td>\n",
              "      <td>0.898990</td>\n",
              "      <td>-0.076923</td>\n",
              "      <td>0.286486</td>\n",
              "      <td>0.298507</td>\n",
              "      <td>0.272727</td>\n",
              "      <td>-0.275362</td>\n",
              "      <td>0.736842</td>\n",
              "      <td>-0.33913</td>\n",
              "      <td>0.325153</td>\n",
              "      <td>0.114504</td>\n",
              "      <td>0.176471</td>\n",
              "      <td>-1.000000</td>\n",
              "      <td>-1.000000</td>\n",
              "      <td>-0.389967</td>\n",
              "      <td>0.407558</td>\n",
              "      <td>-0.230462</td>\n",
              "      <td>0.096774</td>\n",
              "      <td>-1.000000</td>\n",
              "      <td>-1.000000</td>\n",
              "      <td>4-6</td>\n",
              "      <td>0</td>\n",
              "    </tr>\n",
              "    <tr>\n",
              "      <th>3</th>\n",
              "      <td>0</td>\n",
              "      <td>1</td>\n",
              "      <td>60th</td>\n",
              "      <td>0</td>\n",
              "      <td>0.0</td>\n",
              "      <td>0.0</td>\n",
              "      <td>0.0</td>\n",
              "      <td>0.0</td>\n",
              "      <td>1.0</td>\n",
              "      <td>1.0</td>\n",
              "      <td>0.0</td>\n",
              "      <td>0.0</td>\n",
              "      <td>1.0</td>\n",
              "      <td>0.000000</td>\n",
              "      <td>0.000000</td>\n",
              "      <td>0.000000</td>\n",
              "      <td>0.000000</td>\n",
              "      <td>-1.0</td>\n",
              "      <td>-0.871658</td>\n",
              "      <td>-0.871658</td>\n",
              "      <td>-0.871658</td>\n",
              "      <td>-0.871658</td>\n",
              "      <td>-1.0</td>\n",
              "      <td>-0.863874</td>\n",
              "      <td>-0.863874</td>\n",
              "      <td>-0.863874</td>\n",
              "      <td>-0.863874</td>\n",
              "      <td>-1.0</td>\n",
              "      <td>-0.317073</td>\n",
              "      <td>-0.317073</td>\n",
              "      <td>-0.317073</td>\n",
              "      <td>-0.317073</td>\n",
              "      <td>-1.0</td>\n",
              "      <td>-0.414634</td>\n",
              "      <td>-0.414634</td>\n",
              "      <td>-0.414634</td>\n",
              "      <td>-0.414634</td>\n",
              "      <td>-1.0</td>\n",
              "      <td>-0.979069</td>\n",
              "      <td>-0.979069</td>\n",
              "      <td>...</td>\n",
              "      <td>-0.996762</td>\n",
              "      <td>-1.0</td>\n",
              "      <td>-0.243021</td>\n",
              "      <td>-0.338537</td>\n",
              "      <td>-0.213031</td>\n",
              "      <td>-0.317859</td>\n",
              "      <td>-0.107143</td>\n",
              "      <td>0.736842</td>\n",
              "      <td>-0.283951</td>\n",
              "      <td>-0.376923</td>\n",
              "      <td>-0.188679</td>\n",
              "      <td>-0.379310</td>\n",
              "      <td>-0.107143</td>\n",
              "      <td>0.736842</td>\n",
              "      <td>-0.340206</td>\n",
              "      <td>-0.4875</td>\n",
              "      <td>-0.572650</td>\n",
              "      <td>-0.857143</td>\n",
              "      <td>0.318681</td>\n",
              "      <td>0.898990</td>\n",
              "      <td>-0.076923</td>\n",
              "      <td>0.286486</td>\n",
              "      <td>0.298507</td>\n",
              "      <td>0.272727</td>\n",
              "      <td>-0.275362</td>\n",
              "      <td>0.736842</td>\n",
              "      <td>-0.33913</td>\n",
              "      <td>0.325153</td>\n",
              "      <td>0.114504</td>\n",
              "      <td>0.176471</td>\n",
              "      <td>-1.000000</td>\n",
              "      <td>-1.000000</td>\n",
              "      <td>-0.389967</td>\n",
              "      <td>0.407558</td>\n",
              "      <td>-0.230462</td>\n",
              "      <td>0.096774</td>\n",
              "      <td>-1.000000</td>\n",
              "      <td>-1.000000</td>\n",
              "      <td>6-12</td>\n",
              "      <td>0</td>\n",
              "    </tr>\n",
              "    <tr>\n",
              "      <th>4</th>\n",
              "      <td>0</td>\n",
              "      <td>1</td>\n",
              "      <td>60th</td>\n",
              "      <td>0</td>\n",
              "      <td>0.0</td>\n",
              "      <td>0.0</td>\n",
              "      <td>0.0</td>\n",
              "      <td>0.0</td>\n",
              "      <td>1.0</td>\n",
              "      <td>1.0</td>\n",
              "      <td>0.0</td>\n",
              "      <td>0.0</td>\n",
              "      <td>1.0</td>\n",
              "      <td>0.000000</td>\n",
              "      <td>0.000000</td>\n",
              "      <td>0.000000</td>\n",
              "      <td>0.000000</td>\n",
              "      <td>-1.0</td>\n",
              "      <td>-0.871658</td>\n",
              "      <td>-0.871658</td>\n",
              "      <td>-0.871658</td>\n",
              "      <td>-0.871658</td>\n",
              "      <td>-1.0</td>\n",
              "      <td>-0.863874</td>\n",
              "      <td>-0.863874</td>\n",
              "      <td>-0.863874</td>\n",
              "      <td>-0.863874</td>\n",
              "      <td>-1.0</td>\n",
              "      <td>-0.317073</td>\n",
              "      <td>-0.317073</td>\n",
              "      <td>-0.317073</td>\n",
              "      <td>-0.317073</td>\n",
              "      <td>-1.0</td>\n",
              "      <td>-0.414634</td>\n",
              "      <td>-0.414634</td>\n",
              "      <td>-0.414634</td>\n",
              "      <td>-0.414634</td>\n",
              "      <td>-1.0</td>\n",
              "      <td>-0.979069</td>\n",
              "      <td>-0.979069</td>\n",
              "      <td>...</td>\n",
              "      <td>-0.996762</td>\n",
              "      <td>-1.0</td>\n",
              "      <td>-0.243021</td>\n",
              "      <td>-0.338537</td>\n",
              "      <td>-0.213031</td>\n",
              "      <td>-0.317859</td>\n",
              "      <td>0.033779</td>\n",
              "      <td>0.665932</td>\n",
              "      <td>-0.283951</td>\n",
              "      <td>-0.376923</td>\n",
              "      <td>-0.188679</td>\n",
              "      <td>-0.379310</td>\n",
              "      <td>0.035714</td>\n",
              "      <td>0.631579</td>\n",
              "      <td>-0.340206</td>\n",
              "      <td>-0.4875</td>\n",
              "      <td>-0.572650</td>\n",
              "      <td>-0.857143</td>\n",
              "      <td>0.098901</td>\n",
              "      <td>0.797980</td>\n",
              "      <td>-0.076923</td>\n",
              "      <td>0.286486</td>\n",
              "      <td>0.298507</td>\n",
              "      <td>0.272727</td>\n",
              "      <td>0.362319</td>\n",
              "      <td>0.947368</td>\n",
              "      <td>-0.33913</td>\n",
              "      <td>0.325153</td>\n",
              "      <td>0.114504</td>\n",
              "      <td>0.176471</td>\n",
              "      <td>-0.238095</td>\n",
              "      <td>-0.818182</td>\n",
              "      <td>-0.389967</td>\n",
              "      <td>0.407558</td>\n",
              "      <td>-0.230462</td>\n",
              "      <td>0.096774</td>\n",
              "      <td>-0.242282</td>\n",
              "      <td>-0.814433</td>\n",
              "      <td>ABOVE_12</td>\n",
              "      <td>1</td>\n",
              "    </tr>\n",
              "  </tbody>\n",
              "</table>\n",
              "<p>5 rows × 231 columns</p>\n",
              "</div>"
            ],
            "text/plain": [
              "   patient_visit_identifier  age_above65  ...    window  icu\n",
              "0                         0            1  ...       0-2    0\n",
              "1                         0            1  ...       2-4    0\n",
              "2                         0            1  ...       4-6    0\n",
              "3                         0            1  ...      6-12    0\n",
              "4                         0            1  ...  ABOVE_12    1\n",
              "\n",
              "[5 rows x 231 columns]"
            ]
          },
          "metadata": {
            "tags": []
          },
          "execution_count": 32
        }
      ]
    },
    {
      "cell_type": "code",
      "metadata": {
        "id": "BNGASxvNA8Rs",
        "colab": {
          "base_uri": "https://localhost:8080/",
          "height": 253
        },
        "outputId": "1f3bacef-67be-40cd-dc8e-1bbb078dd1a7"
      },
      "source": [
        "dados_sem_nan[dados_sem_nan.isna().any(axis=1)]"
      ],
      "execution_count": null,
      "outputs": [
        {
          "output_type": "execute_result",
          "data": {
            "text/html": [
              "<div>\n",
              "<style scoped>\n",
              "    .dataframe tbody tr th:only-of-type {\n",
              "        vertical-align: middle;\n",
              "    }\n",
              "\n",
              "    .dataframe tbody tr th {\n",
              "        vertical-align: top;\n",
              "    }\n",
              "\n",
              "    .dataframe thead th {\n",
              "        text-align: right;\n",
              "    }\n",
              "</style>\n",
              "<table border=\"1\" class=\"dataframe\">\n",
              "  <thead>\n",
              "    <tr style=\"text-align: right;\">\n",
              "      <th></th>\n",
              "      <th>patient_visit_identifier</th>\n",
              "      <th>age_above65</th>\n",
              "      <th>age_percentil</th>\n",
              "      <th>gender</th>\n",
              "      <th>disease_grouping_1</th>\n",
              "      <th>disease_grouping_2</th>\n",
              "      <th>disease_grouping_3</th>\n",
              "      <th>disease_grouping_4</th>\n",
              "      <th>disease_grouping_5</th>\n",
              "      <th>disease_grouping_6</th>\n",
              "      <th>htn</th>\n",
              "      <th>immunocompromised</th>\n",
              "      <th>other</th>\n",
              "      <th>albumin_median</th>\n",
              "      <th>albumin_mean</th>\n",
              "      <th>albumin_min</th>\n",
              "      <th>albumin_max</th>\n",
              "      <th>albumin_diff</th>\n",
              "      <th>be_arterial_median</th>\n",
              "      <th>be_arterial_mean</th>\n",
              "      <th>be_arterial_min</th>\n",
              "      <th>be_arterial_max</th>\n",
              "      <th>be_arterial_diff</th>\n",
              "      <th>be_venous_median</th>\n",
              "      <th>be_venous_mean</th>\n",
              "      <th>be_venous_min</th>\n",
              "      <th>be_venous_max</th>\n",
              "      <th>be_venous_diff</th>\n",
              "      <th>bic_arterial_median</th>\n",
              "      <th>bic_arterial_mean</th>\n",
              "      <th>bic_arterial_min</th>\n",
              "      <th>bic_arterial_max</th>\n",
              "      <th>bic_arterial_diff</th>\n",
              "      <th>bic_venous_median</th>\n",
              "      <th>bic_venous_mean</th>\n",
              "      <th>bic_venous_min</th>\n",
              "      <th>bic_venous_max</th>\n",
              "      <th>bic_venous_diff</th>\n",
              "      <th>billirubin_median</th>\n",
              "      <th>billirubin_mean</th>\n",
              "      <th>...</th>\n",
              "      <th>dimer_max</th>\n",
              "      <th>dimer_diff</th>\n",
              "      <th>bloodpressure_diastolic_mean</th>\n",
              "      <th>bloodpressure_sistolic_mean</th>\n",
              "      <th>heart_rate_mean</th>\n",
              "      <th>respiratory_rate_mean</th>\n",
              "      <th>temperature_mean</th>\n",
              "      <th>oxygen_saturation_mean</th>\n",
              "      <th>bloodpressure_diastolic_median</th>\n",
              "      <th>bloodpressure_sistolic_median</th>\n",
              "      <th>heart_rate_median</th>\n",
              "      <th>respiratory_rate_median</th>\n",
              "      <th>temperature_median</th>\n",
              "      <th>oxygen_saturation_median</th>\n",
              "      <th>bloodpressure_diastolic_min</th>\n",
              "      <th>bloodpressure_sistolic_min</th>\n",
              "      <th>heart_rate_min</th>\n",
              "      <th>respiratory_rate_min</th>\n",
              "      <th>temperature_min</th>\n",
              "      <th>oxygen_saturation_min</th>\n",
              "      <th>bloodpressure_diastolic_max</th>\n",
              "      <th>bloodpressure_sistolic_max</th>\n",
              "      <th>heart_rate_max</th>\n",
              "      <th>respiratory_rate_max</th>\n",
              "      <th>temperature_max</th>\n",
              "      <th>oxygen_saturation_max</th>\n",
              "      <th>bloodpressure_diastolic_diff</th>\n",
              "      <th>bloodpressure_sistolic_diff</th>\n",
              "      <th>heart_rate_diff</th>\n",
              "      <th>respiratory_rate_diff</th>\n",
              "      <th>temperature_diff</th>\n",
              "      <th>oxygen_saturation_diff</th>\n",
              "      <th>bloodpressure_diastolic_diff_rel</th>\n",
              "      <th>bloodpressure_sistolic_diff_rel</th>\n",
              "      <th>heart_rate_diff_rel</th>\n",
              "      <th>respiratory_rate_diff_rel</th>\n",
              "      <th>temperature_diff_rel</th>\n",
              "      <th>oxygen_saturation_diff_rel</th>\n",
              "      <th>window</th>\n",
              "      <th>icu</th>\n",
              "    </tr>\n",
              "  </thead>\n",
              "  <tbody>\n",
              "    <tr>\n",
              "      <th>995</th>\n",
              "      <td>199</td>\n",
              "      <td>0</td>\n",
              "      <td>10th</td>\n",
              "      <td>0</td>\n",
              "      <td>NaN</td>\n",
              "      <td>NaN</td>\n",
              "      <td>NaN</td>\n",
              "      <td>NaN</td>\n",
              "      <td>NaN</td>\n",
              "      <td>NaN</td>\n",
              "      <td>NaN</td>\n",
              "      <td>NaN</td>\n",
              "      <td>NaN</td>\n",
              "      <td>0.605263</td>\n",
              "      <td>0.605263</td>\n",
              "      <td>0.605263</td>\n",
              "      <td>0.605263</td>\n",
              "      <td>-1.0</td>\n",
              "      <td>-1.0</td>\n",
              "      <td>-1.0</td>\n",
              "      <td>-1.0</td>\n",
              "      <td>-1.0</td>\n",
              "      <td>-1.0</td>\n",
              "      <td>-1.0</td>\n",
              "      <td>-1.0</td>\n",
              "      <td>-1.0</td>\n",
              "      <td>-1.0</td>\n",
              "      <td>-1.0</td>\n",
              "      <td>-0.317073</td>\n",
              "      <td>-0.317073</td>\n",
              "      <td>-0.317073</td>\n",
              "      <td>-0.317073</td>\n",
              "      <td>-1.0</td>\n",
              "      <td>-0.317073</td>\n",
              "      <td>-0.317073</td>\n",
              "      <td>-0.317073</td>\n",
              "      <td>-0.317073</td>\n",
              "      <td>-1.0</td>\n",
              "      <td>-0.93895</td>\n",
              "      <td>-0.93895</td>\n",
              "      <td>...</td>\n",
              "      <td>-0.978029</td>\n",
              "      <td>-1.0</td>\n",
              "      <td>0.100944</td>\n",
              "      <td>-0.355656</td>\n",
              "      <td>-0.012209</td>\n",
              "      <td>-0.577268</td>\n",
              "      <td>0.07563</td>\n",
              "      <td>0.653251</td>\n",
              "      <td>0.08642</td>\n",
              "      <td>-0.384615</td>\n",
              "      <td>0.056604</td>\n",
              "      <td>-0.517241</td>\n",
              "      <td>0.107143</td>\n",
              "      <td>0.684211</td>\n",
              "      <td>-0.175258</td>\n",
              "      <td>-0.25</td>\n",
              "      <td>-0.213675</td>\n",
              "      <td>-0.571429</td>\n",
              "      <td>0.252747</td>\n",
              "      <td>0.818182</td>\n",
              "      <td>-0.076923</td>\n",
              "      <td>-0.351351</td>\n",
              "      <td>-0.134328</td>\n",
              "      <td>-0.515152</td>\n",
              "      <td>0.130435</td>\n",
              "      <td>0.736842</td>\n",
              "      <td>-0.478261</td>\n",
              "      <td>-0.631902</td>\n",
              "      <td>-0.648855</td>\n",
              "      <td>-0.823529</td>\n",
              "      <td>-0.595238</td>\n",
              "      <td>-0.919192</td>\n",
              "      <td>-0.608696</td>\n",
              "      <td>-0.607383</td>\n",
              "      <td>-0.790037</td>\n",
              "      <td>-0.817204</td>\n",
              "      <td>-0.599662</td>\n",
              "      <td>-0.918403</td>\n",
              "      <td>0-2</td>\n",
              "      <td>0</td>\n",
              "    </tr>\n",
              "    <tr>\n",
              "      <th>996</th>\n",
              "      <td>199</td>\n",
              "      <td>0</td>\n",
              "      <td>10th</td>\n",
              "      <td>0</td>\n",
              "      <td>NaN</td>\n",
              "      <td>NaN</td>\n",
              "      <td>NaN</td>\n",
              "      <td>NaN</td>\n",
              "      <td>NaN</td>\n",
              "      <td>NaN</td>\n",
              "      <td>NaN</td>\n",
              "      <td>NaN</td>\n",
              "      <td>NaN</td>\n",
              "      <td>0.605263</td>\n",
              "      <td>0.605263</td>\n",
              "      <td>0.605263</td>\n",
              "      <td>0.605263</td>\n",
              "      <td>-1.0</td>\n",
              "      <td>-1.0</td>\n",
              "      <td>-1.0</td>\n",
              "      <td>-1.0</td>\n",
              "      <td>-1.0</td>\n",
              "      <td>-1.0</td>\n",
              "      <td>-1.0</td>\n",
              "      <td>-1.0</td>\n",
              "      <td>-1.0</td>\n",
              "      <td>-1.0</td>\n",
              "      <td>-1.0</td>\n",
              "      <td>-0.317073</td>\n",
              "      <td>-0.317073</td>\n",
              "      <td>-0.317073</td>\n",
              "      <td>-0.317073</td>\n",
              "      <td>-1.0</td>\n",
              "      <td>-0.317073</td>\n",
              "      <td>-0.317073</td>\n",
              "      <td>-0.317073</td>\n",
              "      <td>-0.317073</td>\n",
              "      <td>-1.0</td>\n",
              "      <td>-0.93895</td>\n",
              "      <td>-0.93895</td>\n",
              "      <td>...</td>\n",
              "      <td>-0.978029</td>\n",
              "      <td>-1.0</td>\n",
              "      <td>0.100944</td>\n",
              "      <td>-0.355656</td>\n",
              "      <td>-0.012209</td>\n",
              "      <td>-0.577268</td>\n",
              "      <td>0.07563</td>\n",
              "      <td>0.653251</td>\n",
              "      <td>0.08642</td>\n",
              "      <td>-0.384615</td>\n",
              "      <td>0.056604</td>\n",
              "      <td>-0.517241</td>\n",
              "      <td>0.107143</td>\n",
              "      <td>0.684211</td>\n",
              "      <td>-0.175258</td>\n",
              "      <td>-0.25</td>\n",
              "      <td>-0.213675</td>\n",
              "      <td>-0.571429</td>\n",
              "      <td>0.252747</td>\n",
              "      <td>0.818182</td>\n",
              "      <td>-0.076923</td>\n",
              "      <td>-0.351351</td>\n",
              "      <td>-0.134328</td>\n",
              "      <td>-0.515152</td>\n",
              "      <td>0.130435</td>\n",
              "      <td>0.736842</td>\n",
              "      <td>-0.478261</td>\n",
              "      <td>-0.631902</td>\n",
              "      <td>-0.648855</td>\n",
              "      <td>-0.823529</td>\n",
              "      <td>-0.595238</td>\n",
              "      <td>-0.919192</td>\n",
              "      <td>-0.608696</td>\n",
              "      <td>-0.607383</td>\n",
              "      <td>-0.790037</td>\n",
              "      <td>-0.817204</td>\n",
              "      <td>-0.599662</td>\n",
              "      <td>-0.918403</td>\n",
              "      <td>2-4</td>\n",
              "      <td>0</td>\n",
              "    </tr>\n",
              "    <tr>\n",
              "      <th>997</th>\n",
              "      <td>199</td>\n",
              "      <td>0</td>\n",
              "      <td>10th</td>\n",
              "      <td>0</td>\n",
              "      <td>NaN</td>\n",
              "      <td>NaN</td>\n",
              "      <td>NaN</td>\n",
              "      <td>NaN</td>\n",
              "      <td>NaN</td>\n",
              "      <td>NaN</td>\n",
              "      <td>NaN</td>\n",
              "      <td>NaN</td>\n",
              "      <td>NaN</td>\n",
              "      <td>0.605263</td>\n",
              "      <td>0.605263</td>\n",
              "      <td>0.605263</td>\n",
              "      <td>0.605263</td>\n",
              "      <td>-1.0</td>\n",
              "      <td>-1.0</td>\n",
              "      <td>-1.0</td>\n",
              "      <td>-1.0</td>\n",
              "      <td>-1.0</td>\n",
              "      <td>-1.0</td>\n",
              "      <td>-1.0</td>\n",
              "      <td>-1.0</td>\n",
              "      <td>-1.0</td>\n",
              "      <td>-1.0</td>\n",
              "      <td>-1.0</td>\n",
              "      <td>-0.317073</td>\n",
              "      <td>-0.317073</td>\n",
              "      <td>-0.317073</td>\n",
              "      <td>-0.317073</td>\n",
              "      <td>-1.0</td>\n",
              "      <td>-0.317073</td>\n",
              "      <td>-0.317073</td>\n",
              "      <td>-0.317073</td>\n",
              "      <td>-0.317073</td>\n",
              "      <td>-1.0</td>\n",
              "      <td>-0.93895</td>\n",
              "      <td>-0.93895</td>\n",
              "      <td>...</td>\n",
              "      <td>-0.978029</td>\n",
              "      <td>-1.0</td>\n",
              "      <td>0.100944</td>\n",
              "      <td>-0.355656</td>\n",
              "      <td>-0.012209</td>\n",
              "      <td>-0.577268</td>\n",
              "      <td>0.07563</td>\n",
              "      <td>0.653251</td>\n",
              "      <td>0.08642</td>\n",
              "      <td>-0.384615</td>\n",
              "      <td>0.056604</td>\n",
              "      <td>-0.517241</td>\n",
              "      <td>0.107143</td>\n",
              "      <td>0.684211</td>\n",
              "      <td>-0.175258</td>\n",
              "      <td>-0.25</td>\n",
              "      <td>-0.213675</td>\n",
              "      <td>-0.571429</td>\n",
              "      <td>0.252747</td>\n",
              "      <td>0.818182</td>\n",
              "      <td>-0.076923</td>\n",
              "      <td>-0.351351</td>\n",
              "      <td>-0.134328</td>\n",
              "      <td>-0.515152</td>\n",
              "      <td>0.130435</td>\n",
              "      <td>0.736842</td>\n",
              "      <td>-0.478261</td>\n",
              "      <td>-0.631902</td>\n",
              "      <td>-0.648855</td>\n",
              "      <td>-0.823529</td>\n",
              "      <td>-0.595238</td>\n",
              "      <td>-0.919192</td>\n",
              "      <td>-0.608696</td>\n",
              "      <td>-0.607383</td>\n",
              "      <td>-0.790037</td>\n",
              "      <td>-0.817204</td>\n",
              "      <td>-0.599662</td>\n",
              "      <td>-0.918403</td>\n",
              "      <td>4-6</td>\n",
              "      <td>0</td>\n",
              "    </tr>\n",
              "    <tr>\n",
              "      <th>998</th>\n",
              "      <td>199</td>\n",
              "      <td>0</td>\n",
              "      <td>10th</td>\n",
              "      <td>0</td>\n",
              "      <td>NaN</td>\n",
              "      <td>NaN</td>\n",
              "      <td>NaN</td>\n",
              "      <td>NaN</td>\n",
              "      <td>NaN</td>\n",
              "      <td>NaN</td>\n",
              "      <td>NaN</td>\n",
              "      <td>NaN</td>\n",
              "      <td>NaN</td>\n",
              "      <td>0.605263</td>\n",
              "      <td>0.605263</td>\n",
              "      <td>0.605263</td>\n",
              "      <td>0.605263</td>\n",
              "      <td>-1.0</td>\n",
              "      <td>-1.0</td>\n",
              "      <td>-1.0</td>\n",
              "      <td>-1.0</td>\n",
              "      <td>-1.0</td>\n",
              "      <td>-1.0</td>\n",
              "      <td>-1.0</td>\n",
              "      <td>-1.0</td>\n",
              "      <td>-1.0</td>\n",
              "      <td>-1.0</td>\n",
              "      <td>-1.0</td>\n",
              "      <td>-0.317073</td>\n",
              "      <td>-0.317073</td>\n",
              "      <td>-0.317073</td>\n",
              "      <td>-0.317073</td>\n",
              "      <td>-1.0</td>\n",
              "      <td>-0.317073</td>\n",
              "      <td>-0.317073</td>\n",
              "      <td>-0.317073</td>\n",
              "      <td>-0.317073</td>\n",
              "      <td>-1.0</td>\n",
              "      <td>-0.93895</td>\n",
              "      <td>-0.93895</td>\n",
              "      <td>...</td>\n",
              "      <td>-0.978029</td>\n",
              "      <td>-1.0</td>\n",
              "      <td>0.100944</td>\n",
              "      <td>-0.355656</td>\n",
              "      <td>-0.012209</td>\n",
              "      <td>-0.577268</td>\n",
              "      <td>0.07563</td>\n",
              "      <td>0.653251</td>\n",
              "      <td>0.08642</td>\n",
              "      <td>-0.384615</td>\n",
              "      <td>0.056604</td>\n",
              "      <td>-0.517241</td>\n",
              "      <td>0.107143</td>\n",
              "      <td>0.684211</td>\n",
              "      <td>-0.175258</td>\n",
              "      <td>-0.25</td>\n",
              "      <td>-0.213675</td>\n",
              "      <td>-0.571429</td>\n",
              "      <td>0.252747</td>\n",
              "      <td>0.818182</td>\n",
              "      <td>-0.076923</td>\n",
              "      <td>-0.351351</td>\n",
              "      <td>-0.134328</td>\n",
              "      <td>-0.515152</td>\n",
              "      <td>0.130435</td>\n",
              "      <td>0.736842</td>\n",
              "      <td>-0.478261</td>\n",
              "      <td>-0.631902</td>\n",
              "      <td>-0.648855</td>\n",
              "      <td>-0.823529</td>\n",
              "      <td>-0.595238</td>\n",
              "      <td>-0.919192</td>\n",
              "      <td>-0.608696</td>\n",
              "      <td>-0.607383</td>\n",
              "      <td>-0.790037</td>\n",
              "      <td>-0.817204</td>\n",
              "      <td>-0.599662</td>\n",
              "      <td>-0.918403</td>\n",
              "      <td>6-12</td>\n",
              "      <td>0</td>\n",
              "    </tr>\n",
              "    <tr>\n",
              "      <th>999</th>\n",
              "      <td>199</td>\n",
              "      <td>0</td>\n",
              "      <td>10th</td>\n",
              "      <td>0</td>\n",
              "      <td>NaN</td>\n",
              "      <td>NaN</td>\n",
              "      <td>NaN</td>\n",
              "      <td>NaN</td>\n",
              "      <td>NaN</td>\n",
              "      <td>NaN</td>\n",
              "      <td>NaN</td>\n",
              "      <td>NaN</td>\n",
              "      <td>NaN</td>\n",
              "      <td>0.605263</td>\n",
              "      <td>0.605263</td>\n",
              "      <td>0.605263</td>\n",
              "      <td>0.605263</td>\n",
              "      <td>-1.0</td>\n",
              "      <td>-1.0</td>\n",
              "      <td>-1.0</td>\n",
              "      <td>-1.0</td>\n",
              "      <td>-1.0</td>\n",
              "      <td>-1.0</td>\n",
              "      <td>-1.0</td>\n",
              "      <td>-1.0</td>\n",
              "      <td>-1.0</td>\n",
              "      <td>-1.0</td>\n",
              "      <td>-1.0</td>\n",
              "      <td>-0.317073</td>\n",
              "      <td>-0.317073</td>\n",
              "      <td>-0.317073</td>\n",
              "      <td>-0.317073</td>\n",
              "      <td>-1.0</td>\n",
              "      <td>-0.317073</td>\n",
              "      <td>-0.317073</td>\n",
              "      <td>-0.317073</td>\n",
              "      <td>-0.317073</td>\n",
              "      <td>-1.0</td>\n",
              "      <td>-0.93895</td>\n",
              "      <td>-0.93895</td>\n",
              "      <td>...</td>\n",
              "      <td>-0.978029</td>\n",
              "      <td>-1.0</td>\n",
              "      <td>0.100944</td>\n",
              "      <td>-0.355656</td>\n",
              "      <td>-0.012209</td>\n",
              "      <td>-0.577268</td>\n",
              "      <td>0.07563</td>\n",
              "      <td>0.653251</td>\n",
              "      <td>0.08642</td>\n",
              "      <td>-0.384615</td>\n",
              "      <td>0.056604</td>\n",
              "      <td>-0.517241</td>\n",
              "      <td>0.107143</td>\n",
              "      <td>0.684211</td>\n",
              "      <td>-0.175258</td>\n",
              "      <td>-0.25</td>\n",
              "      <td>-0.213675</td>\n",
              "      <td>-0.571429</td>\n",
              "      <td>0.252747</td>\n",
              "      <td>0.818182</td>\n",
              "      <td>-0.076923</td>\n",
              "      <td>-0.351351</td>\n",
              "      <td>-0.134328</td>\n",
              "      <td>-0.515152</td>\n",
              "      <td>0.130435</td>\n",
              "      <td>0.736842</td>\n",
              "      <td>-0.478261</td>\n",
              "      <td>-0.631902</td>\n",
              "      <td>-0.648855</td>\n",
              "      <td>-0.823529</td>\n",
              "      <td>-0.595238</td>\n",
              "      <td>-0.919192</td>\n",
              "      <td>-0.608696</td>\n",
              "      <td>-0.607383</td>\n",
              "      <td>-0.790037</td>\n",
              "      <td>-0.817204</td>\n",
              "      <td>-0.599662</td>\n",
              "      <td>-0.918403</td>\n",
              "      <td>ABOVE_12</td>\n",
              "      <td>0</td>\n",
              "    </tr>\n",
              "  </tbody>\n",
              "</table>\n",
              "<p>5 rows × 231 columns</p>\n",
              "</div>"
            ],
            "text/plain": [
              "     patient_visit_identifier  age_above65  ...    window  icu\n",
              "995                       199            0  ...       0-2    0\n",
              "996                       199            0  ...       2-4    0\n",
              "997                       199            0  ...       4-6    0\n",
              "998                       199            0  ...      6-12    0\n",
              "999                       199            0  ...  ABOVE_12    0\n",
              "\n",
              "[5 rows x 231 columns]"
            ]
          },
          "metadata": {
            "tags": []
          },
          "execution_count": 33
        }
      ]
    },
    {
      "cell_type": "markdown",
      "metadata": {
        "id": "OSlnE1qrgXtk"
      },
      "source": [
        "Como os dados faltantes correspondem a um único paciente, esse paciente será excluído da análise."
      ]
    },
    {
      "cell_type": "code",
      "metadata": {
        "id": "Zk-i0PLngrwV",
        "colab": {
          "base_uri": "https://localhost:8080/"
        },
        "outputId": "5f553691-1aa4-4895-c153-fac823c76209"
      },
      "source": [
        "dados_sem_nan = dados_sem_nan.dropna()\n",
        "imprime_shape(dados_sem_nan)"
      ],
      "execution_count": null,
      "outputs": [
        {
          "output_type": "stream",
          "text": [
            "O dataset agora possui 1760 registros e 231 colunas.\n"
          ],
          "name": "stdout"
        }
      ]
    },
    {
      "cell_type": "markdown",
      "metadata": {
        "id": "CjEpL0lQxBw4"
      },
      "source": [
        "### **SELEÇÃO DA JANELA DE TEMPO**"
      ]
    },
    {
      "cell_type": "markdown",
      "metadata": {
        "id": "y9N50yUqA8Rr"
      },
      "source": [
        "O ideal para o hospital é que já nas primeiras horas seja possível identificar se o paciente vai ou não para a UTI.\n",
        "<br>Segundo a equipe do Hospital Sírio Libanês:\n",
        ">Ainda que um modelo preditivo usando todas as janelas de tempo provavelmente resulte em uma maior acurácia, um bom modelo usando apenas a primeira janela (0-2) provavelmente será mais relevante clinicamente."
      ]
    },
    {
      "cell_type": "markdown",
      "metadata": {
        "id": "_XZYB7lWjNpj"
      },
      "source": [
        "explicar como funciona a função de preparar a tabela"
      ]
    },
    {
      "cell_type": "code",
      "metadata": {
        "id": "QG73Zi1krq23"
      },
      "source": [
        "dados_limpos = dados_sem_nan.groupby(\"patient_visit_identifier\").apply(prepara_janela)"
      ],
      "execution_count": null,
      "outputs": []
    },
    {
      "cell_type": "markdown",
      "metadata": {
        "id": "_oqy_mBQyMc8"
      },
      "source": [
        "Como a janela de tempo é a mesma para todos os pacientes, a coluna \"window\" não será relevante para o treinamento dos modelos de Machine Learning e será excluída do dataset."
      ]
    },
    {
      "cell_type": "code",
      "metadata": {
        "id": "o5HCeT_Px_Ob"
      },
      "source": [
        "dados_limpos = dados_limpos.drop([\"window\"], axis=1)"
      ],
      "execution_count": null,
      "outputs": []
    },
    {
      "cell_type": "markdown",
      "metadata": {
        "id": "5cBuMvjz5CkB"
      },
      "source": [
        "O número identificador do paciente também não é relevante para os modelos de Machine Learning e será utilizado com índice."
      ]
    },
    {
      "cell_type": "code",
      "metadata": {
        "id": "PojckNC0J8Hq"
      },
      "source": [
        "dados_limpos.set_index(\"patient_visit_identifier\", inplace=True)"
      ],
      "execution_count": null,
      "outputs": []
    },
    {
      "cell_type": "code",
      "metadata": {
        "id": "DEXSR3MR8lkh",
        "colab": {
          "base_uri": "https://localhost:8080/"
        },
        "outputId": "86b2ab68-92b4-48bd-c32f-8114d86c317d"
      },
      "source": [
        "imprime_shape(dados_limpos)"
      ],
      "execution_count": null,
      "outputs": [
        {
          "output_type": "stream",
          "text": [
            "O dataset agora possui 352 registros e 229 colunas.\n"
          ],
          "name": "stdout"
        }
      ]
    },
    {
      "cell_type": "markdown",
      "metadata": {
        "id": "zN7yOaekuqE-"
      },
      "source": [
        "### **TRANSFORMAÇÃO DA COLUNA AGE_PERCENTIL**"
      ]
    },
    {
      "cell_type": "code",
      "metadata": {
        "id": "5jWvFJWu8XWD",
        "colab": {
          "base_uri": "https://localhost:8080/"
        },
        "outputId": "2470196e-7f66-400b-e8b7-f592a46437a5"
      },
      "source": [
        "dados_limpos[\"age_percentil\"]"
      ],
      "execution_count": null,
      "outputs": [
        {
          "output_type": "execute_result",
          "data": {
            "text/plain": [
              "patient_visit_identifier\n",
              "0            60th\n",
              "2            10th\n",
              "3            40th\n",
              "4            10th\n",
              "5            10th\n",
              "          ...    \n",
              "380          40th\n",
              "381    Above 90th\n",
              "382          50th\n",
              "383          40th\n",
              "384          50th\n",
              "Name: age_percentil, Length: 352, dtype: object"
            ]
          },
          "metadata": {
            "tags": []
          },
          "execution_count": 39
        }
      ]
    },
    {
      "cell_type": "code",
      "metadata": {
        "id": "o42UdFhS6tnh"
      },
      "source": [
        "dados_limpos[\"age_percentil\"] = dados_limpos[\"age_percentil\"].str.replace(r'\\D', '').astype(\"int64\")"
      ],
      "execution_count": null,
      "outputs": []
    },
    {
      "cell_type": "code",
      "metadata": {
        "id": "CuqsYiXEACOF"
      },
      "source": [
        "dados_limpos[\"age_percentil\"] = normalize_data(dados_limpos[\"age_percentil\"])"
      ],
      "execution_count": null,
      "outputs": []
    },
    {
      "cell_type": "code",
      "metadata": {
        "colab": {
          "base_uri": "https://localhost:8080/"
        },
        "id": "ZpX1swSNEfHP",
        "outputId": "5eeb4e45-9bce-4f9c-83d4-e3382b4dc4e1"
      },
      "source": [
        "dados_limpos[\"age_percentil\"]"
      ],
      "execution_count": null,
      "outputs": [
        {
          "output_type": "execute_result",
          "data": {
            "text/plain": [
              "patient_visit_identifier\n",
              "0      0.625\n",
              "2      0.000\n",
              "3      0.375\n",
              "4      0.000\n",
              "5      0.000\n",
              "       ...  \n",
              "380    0.375\n",
              "381    1.000\n",
              "382    0.500\n",
              "383    0.375\n",
              "384    0.500\n",
              "Name: age_percentil, Length: 352, dtype: float64"
            ]
          },
          "metadata": {
            "tags": []
          },
          "execution_count": 42
        }
      ]
    },
    {
      "cell_type": "code",
      "metadata": {
        "colab": {
          "base_uri": "https://localhost:8080/"
        },
        "id": "hcw1BbLLEfHP",
        "outputId": "fd51acae-e633-4890-f9ad-4f2392a19e14"
      },
      "source": [
        "imprime_shape(dados_limpos)"
      ],
      "execution_count": null,
      "outputs": [
        {
          "output_type": "stream",
          "text": [
            "O dataset agora possui 352 registros e 229 colunas.\n"
          ],
          "name": "stdout"
        }
      ]
    },
    {
      "cell_type": "markdown",
      "metadata": {
        "id": "_f5ThAqyEfHP"
      },
      "source": [
        "## **SELEÇÃO DE ATRIBUTOS**"
      ]
    },
    {
      "cell_type": "markdown",
      "metadata": {
        "id": "-pgwC8uwwRdX"
      },
      "source": [
        "### **ATRIBUTOS COM VALORES ÚNICOS**"
      ]
    },
    {
      "cell_type": "markdown",
      "metadata": {
        "id": "jYi0Ab5q6lX1"
      },
      "source": [
        "As colunas com valores únicos serão excluídas do dataset por não serem relevantes para diferenciar os pacientes que foram admitidos ou não na UTI."
      ]
    },
    {
      "cell_type": "code",
      "metadata": {
        "id": "fUTfpRjp6Ne_",
        "colab": {
          "base_uri": "https://localhost:8080/"
        },
        "outputId": "0f756e4e-8016-441f-8a44-78130daf2bb6"
      },
      "source": [
        "for coluna in dados_limpos.columns:\n",
        "    if len(dados_limpos[coluna].unique()) == 1:\n",
        "      print(coluna)\n",
        "      dados_limpos.drop(coluna,inplace=True,axis=1)"
      ],
      "execution_count": null,
      "outputs": [
        {
          "output_type": "stream",
          "text": [
            "albumin_diff\n",
            "be_arterial_diff\n",
            "be_venous_diff\n",
            "bic_arterial_diff\n",
            "bic_venous_diff\n",
            "billirubin_diff\n",
            "blast_diff\n",
            "calcium_diff\n",
            "creatinin_diff\n",
            "ffa_diff\n",
            "ggt_diff\n",
            "glucose_diff\n",
            "hematocrite_diff\n",
            "hemoglobin_diff\n",
            "inr_diff\n",
            "lactate_diff\n",
            "leukocytes_diff\n",
            "linfocitos_diff\n",
            "neutrophiles_diff\n",
            "p02_arterial_diff\n",
            "p02_venous_diff\n",
            "pc02_arterial_diff\n",
            "pc02_venous_diff\n",
            "pcr_diff\n",
            "ph_arterial_diff\n",
            "ph_venous_diff\n",
            "platelets_diff\n",
            "potassium_diff\n",
            "sat02_arterial_diff\n",
            "sat02_venous_diff\n",
            "sodium_diff\n",
            "tgo_diff\n",
            "tgp_diff\n",
            "ttpa_diff\n",
            "urea_diff\n",
            "dimer_diff\n"
          ],
          "name": "stdout"
        }
      ]
    },
    {
      "cell_type": "markdown",
      "metadata": {
        "id": "mJS3vTu4gd4-"
      },
      "source": [
        "### **ATRIBUTOS COM VALORES IDÊNTICOS**"
      ]
    },
    {
      "cell_type": "code",
      "metadata": {
        "id": "EDnpplbUdG3i"
      },
      "source": [
        "colunas_valores_identicos = getDuplicateColumns(dados_limpos)\n",
        "dados_limpos = dados_limpos.drop(colunas_valores_identicos, axis=1)"
      ],
      "execution_count": null,
      "outputs": []
    },
    {
      "cell_type": "markdown",
      "metadata": {
        "id": "FMvi6kLMA8Rs"
      },
      "source": [
        "### **COLUNAS COLINEARES**"
      ]
    },
    {
      "cell_type": "code",
      "metadata": {
        "colab": {
          "base_uri": "https://localhost:8080/",
          "height": 761
        },
        "id": "IsXjt7EDEfHR",
        "outputId": "6f38fd07-a8c5-4092-d455-9806f847178e"
      },
      "source": [
        "colunas_colineares = colunas_correlacao(dados_limpos, 0.95) \n",
        "dados_sem_correlacao = dados_limpos.drop(colunas_colineares, axis=1)\n",
        "plota_correlacao(dados_sem_correlacao, 0.95)"
      ],
      "execution_count": null,
      "outputs": [
        {
          "output_type": "display_data",
          "data": {
            "image/png": "[encoded data removed]",
            "text/plain": [
              "<Figure size 1296x864 with 2 Axes>"
            ]
          },
          "metadata": {
            "tags": [],
            "needs_background": "light"
          }
        },
        {
          "output_type": "execute_result",
          "data": {
            "text/plain": [
              "<matplotlib.axes._subplots.AxesSubplot at 0x7f41415a1250>"
            ]
          },
          "metadata": {
            "tags": []
          },
          "execution_count": 46
        }
      ]
    },
    {
      "cell_type": "code",
      "metadata": {
        "colab": {
          "base_uri": "https://localhost:8080/"
        },
        "id": "y95vEgk5EfHR",
        "outputId": "c7dfdcda-48b2-48d6-a01b-523f37e49bf2"
      },
      "source": [
        "imprime_shape(dados_sem_correlacao)"
      ],
      "execution_count": null,
      "outputs": [
        {
          "output_type": "stream",
          "text": [
            "O dataset agora possui 352 registros e 62 colunas.\n"
          ],
          "name": "stdout"
        }
      ]
    },
    {
      "cell_type": "markdown",
      "metadata": {
        "id": "CGxp6rAUEfHR"
      },
      "source": [
        "### **ELIMINAÇÃO RECURSIVA DE ATRIBUTOS**"
      ]
    },
    {
      "cell_type": "code",
      "metadata": {
        "id": "4K_p-RLVEfHR"
      },
      "source": [
        "x_columns = dados_sem_correlacao.columns\n",
        "y = dados_sem_correlacao[\"icu\"]\n",
        "x = dados_sem_correlacao[x_columns].drop([\"icu\"], axis=1)\n",
        "x_train, x_test, y_train, y_test = train_test_split(x, y, stratify=y)"
      ],
      "execution_count": null,
      "outputs": []
    },
    {
      "cell_type": "markdown",
      "metadata": {
        "id": "ifasazWrEfHR"
      },
      "source": [
        "### **Random Forest Classifier**"
      ]
    },
    {
      "cell_type": "code",
      "metadata": {
        "colab": {
          "base_uri": "https://localhost:8080/"
        },
        "id": "v2gNpGHyEfHS",
        "outputId": "f1fd1662-0351-4734-86d8-4ea46cae380f"
      },
      "source": [
        "rfc = RandomForestClassifier(random_state=1458)\n",
        "rfecv = RFECV(estimator=rfc, step=1, cv=StratifiedKFold(10), scoring=\"accuracy\")\n",
        "rfecv.fit (x, y)"
      ],
      "execution_count": null,
      "outputs": [
        {
          "output_type": "execute_result",
          "data": {
            "text/plain": [
              "RFECV(cv=StratifiedKFold(n_splits=10, random_state=None, shuffle=False),\n",
              "      estimator=RandomForestClassifier(bootstrap=True, ccp_alpha=0.0,\n",
              "                                       class_weight=None, criterion='gini',\n",
              "                                       max_depth=None, max_features='auto',\n",
              "                                       max_leaf_nodes=None, max_samples=None,\n",
              "                                       min_impurity_decrease=0.0,\n",
              "                                       min_impurity_split=None,\n",
              "                                       min_samples_leaf=1, min_samples_split=2,\n",
              "                                       min_weight_fraction_leaf=0.0,\n",
              "                                       n_estimators=100, n_jobs=None,\n",
              "                                       oob_score=False, random_state=1458,\n",
              "                                       verbose=0, warm_start=False),\n",
              "      min_features_to_select=1, n_jobs=None, scoring='accuracy', step=1,\n",
              "      verbose=0)"
            ]
          },
          "metadata": {
            "tags": []
          },
          "execution_count": 50
        }
      ]
    },
    {
      "cell_type": "code",
      "metadata": {
        "colab": {
          "base_uri": "https://localhost:8080/"
        },
        "id": "Tb8qcG50EfHS",
        "outputId": "ff0e5da0-aedb-4c94-b1d5-26f39b7b520b"
      },
      "source": [
        "print (\"Número ideal de atributos:\", rfecv.n_features_)"
      ],
      "execution_count": null,
      "outputs": [
        {
          "output_type": "stream",
          "text": [
            "Número ideal de atributos: 60\n"
          ],
          "name": "stdout"
        }
      ]
    },
    {
      "cell_type": "code",
      "metadata": {
        "colab": {
          "base_uri": "https://localhost:8080/",
          "height": 409
        },
        "id": "Ag3gxs85EfHS",
        "outputId": "62621aa0-7cc0-4628-a517-d05e855b9ed8"
      },
      "source": [
        "plt.figure(figsize=(12,6))\n",
        "\n",
        "with plt.style.context('ggplot'):\n",
        "\n",
        "  plt.plot (range (1, 62), rfecv.grid_scores_) \n",
        "  plt.xlabel (\"Número de atributos selecionados\", fontsize=12) \n",
        "  plt.ylabel (\"Cross Validation Score\", fontsize=12) \n",
        "  plt.title(\"RFECV - Random Forest Classifier\", fontsize=16)\n",
        "\n",
        "plt.show ()"
      ],
      "execution_count": null,
      "outputs": [
        {
          "output_type": "display_data",
          "data": {
            "image/png": "[encoded data removed]",
            "text/plain": [
              "<Figure size 864x432 with 1 Axes>"
            ]
          },
          "metadata": {
            "tags": [],
            "needs_background": "light"
          }
        }
      ]
    },
    {
      "cell_type": "code",
      "metadata": {
        "id": "hdYPEtCqK0pt"
      },
      "source": [
        ""
      ],
      "execution_count": null,
      "outputs": []
    },
    {
      "cell_type": "code",
      "metadata": {
        "id": "lYmTEt8oKrp-"
      },
      "source": [
        ""
      ],
      "execution_count": null,
      "outputs": []
    },
    {
      "cell_type": "code",
      "metadata": {
        "id": "D1czDyxnEfHS"
      },
      "source": [
        ""
      ],
      "execution_count": null,
      "outputs": []
    }
  ]
}