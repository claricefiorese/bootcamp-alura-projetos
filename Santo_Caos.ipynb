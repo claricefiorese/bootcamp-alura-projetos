{
  "nbformat": 4,
  "nbformat_minor": 0,
  "metadata": {
    "colab": {
      "name": "Santo Caos.ipynb",
      "provenance": [],
      "collapsed_sections": [
        "zlP1s18O0qVS",
        "6dLSF7puR0fm",
        "_mg2TF2w1orX",
        "fBOflgOX1220",
        "EpCl-KXlDI1z",
        "f-e99kSZ2JQP",
        "il_oHDb-EUin",
        "irKeKNtSFbkD",
        "gGfRfpNuXTuX",
        "iXCBs0Z9Y1AU"
      ],
      "toc_visible": true
    },
    "kernelspec": {
      "name": "python3",
      "display_name": "Python 3"
    }
  },
  "cells": [
    {
      "cell_type": "markdown",
      "metadata": {
        "id": "4lH_QFcwzG5B"
      },
      "source": [
        "# [Santo Caos] Vaga Analista de dados"
      ]
    },
    {
      "cell_type": "markdown",
      "metadata": {
        "id": "GsB_vUtQzQX4"
      },
      "source": [
        "Contexto: este é um recorte da base de respostas de uma empresa de 49 funcionários.\r\n",
        "\r\n",
        "Autora: Clarice Fiorese\r\n",
        "<br>E-mail: clarice.fiorese@gmail.com\r\n",
        "<br>GitHub: https://github.com/claricefiorese\r\n",
        "<br>LinkedIn: https://www.linkedin.com/in/clarice-fiorese-a0021a37/\r\n"
      ]
    },
    {
      "cell_type": "markdown",
      "metadata": {
        "id": "zlP1s18O0qVS"
      },
      "source": [
        "## Tratamento dos dados"
      ]
    },
    {
      "cell_type": "code",
      "metadata": {
        "id": "DA2SoLtzVQaK"
      },
      "source": [
        "#Importando as bibliotecas\r\n",
        "import pandas as pd\r\n",
        "import matplotlib.pyplot as plt\r\n",
        "import matplotlib.ticker as ticker\r\n",
        "import numpy as np\r\n",
        "import seaborn as sns\r\n",
        "import warnings\r\n",
        "warnings.filterwarnings('ignore')"
      ],
      "execution_count": 1,
      "outputs": []
    },
    {
      "cell_type": "code",
      "metadata": {
        "id": "Dm--raWqVjuN"
      },
      "source": [
        "#Importando os dados\r\n",
        "dados = pd.read_excel(\"/content/drive/MyDrive/exercicio - analise de dados.xlsx\", sheet_name=\"bd\")"
      ],
      "execution_count": 2,
      "outputs": []
    },
    {
      "cell_type": "code",
      "metadata": {
        "colab": {
          "base_uri": "https://localhost:8080/"
        },
        "id": "ygBAa_qSXGCL",
        "outputId": "bc9f9d3d-c84c-4a4c-eecf-070eddaa71e7"
      },
      "source": [
        "#Consultando o número de linhas e colunas da base de dados\r\n",
        "dados.shape"
      ],
      "execution_count": 3,
      "outputs": [
        {
          "output_type": "execute_result",
          "data": {
            "text/plain": [
              "(49, 23)"
            ]
          },
          "metadata": {
            "tags": []
          },
          "execution_count": 3
        }
      ]
    },
    {
      "cell_type": "code",
      "metadata": {
        "colab": {
          "base_uri": "https://localhost:8080/"
        },
        "id": "AXM_hZ9_XL2r",
        "outputId": "9c77a1c1-6376-497b-a33f-eeba8e3af2ad"
      },
      "source": [
        "#Consultando as colunas\r\n",
        "dados.columns"
      ],
      "execution_count": 4,
      "outputs": [
        {
          "output_type": "execute_result",
          "data": {
            "text/plain": [
              "Index(['Numero do funcionário',\n",
              "       'Abaixo temos alguns grupos com funções. Em qual grupo sua função está?',\n",
              "       'Quantos anos você tem?', 'Com qual gênero você se identifica?',\n",
              "       'Há quanto tempo você trabalha na empresa?',\n",
              "       'Em poucas palavras, quais eram suas expectativas quando veio trabalhar aqui?',\n",
              "       'Considerando suas expectativas, você considera que trabalhar aqui é:',\n",
              "       'Pensando na apresentação do lugar, do trabalho e das pessoas, como você considera que a sua empresa te recebeu quando você entrou?',\n",
              "       'Você conhece os procedimentos (tarefas, processos, conhecimentos) da sua função?',\n",
              "       'As metas e objetivos da sua área são claras para você?',\n",
              "       'Como é para você acompanhar o andamento das suas metas?',\n",
              "       'Quanto você se considera informado sobre o que acontece na empresa atualmente?',\n",
              "       'Por onde/quem você se informa?(selecione quantas opções achar importante)',\n",
              "       'Gestor/líder', 'Colegas', 'E-mail', 'Informativos da empresa',\n",
              "       'WhatsApp', 'Outro (especifique)',\n",
              "       'A relação entre o seu trabalho e os resultados da empresa é clara?',\n",
              "       'NOTA ENGAJAMENTO',\n",
              "       'Pensando no momento atual da empresa, qual sentimento você acredita que melhor representa a visão da maioria dos funcionários:',\n",
              "       'E para você, qual sentimento melhor representa esse momento atual da empresa?'],\n",
              "      dtype='object')"
            ]
          },
          "metadata": {
            "tags": []
          },
          "execution_count": 4
        }
      ]
    },
    {
      "cell_type": "code",
      "metadata": {
        "colab": {
          "base_uri": "https://localhost:8080/"
        },
        "id": "xXnicbIJXTtd",
        "outputId": "70f82f7d-e33f-4094-aca4-3d7af98d2706"
      },
      "source": [
        "#Consultando as informações sobre os dados\r\n",
        "dados.info()"
      ],
      "execution_count": 5,
      "outputs": [
        {
          "output_type": "stream",
          "text": [
            "<class 'pandas.core.frame.DataFrame'>\n",
            "RangeIndex: 49 entries, 0 to 48\n",
            "Data columns (total 23 columns):\n",
            " #   Column                                                                                                                              Non-Null Count  Dtype  \n",
            "---  ------                                                                                                                              --------------  -----  \n",
            " 0   Numero do funcionário                                                                                                               49 non-null     int64  \n",
            " 1   Abaixo temos alguns grupos com funções. Em qual grupo sua função está?                                                              49 non-null     object \n",
            " 2   Quantos anos você tem?                                                                                                              49 non-null     object \n",
            " 3   Com qual gênero você se identifica?                                                                                                 49 non-null     object \n",
            " 4   Há quanto tempo você trabalha na empresa?                                                                                           49 non-null     object \n",
            " 5   Em poucas palavras, quais eram suas expectativas quando veio trabalhar aqui?                                                        48 non-null     object \n",
            " 6   Considerando suas expectativas, você considera que trabalhar aqui é:                                                                49 non-null     object \n",
            " 7   Pensando na apresentação do lugar, do trabalho e das pessoas, como você considera que a sua empresa te recebeu quando você entrou?  49 non-null     int64  \n",
            " 8   Você conhece os procedimentos (tarefas, processos, conhecimentos) da sua função?                                                    49 non-null     int64  \n",
            " 9   As metas e objetivos da sua área são claras para você?                                                                              49 non-null     int64  \n",
            " 10  Como é para você acompanhar o andamento das suas metas?                                                                             49 non-null     int64  \n",
            " 11  Quanto você se considera informado sobre o que acontece na empresa atualmente?                                                      49 non-null     int64  \n",
            " 12  Por onde/quem você se informa?(selecione quantas opções achar importante)                                                           0 non-null      float64\n",
            " 13  Gestor/líder                                                                                                                        37 non-null     object \n",
            " 14  Colegas                                                                                                                             18 non-null     object \n",
            " 15  E-mail                                                                                                                              11 non-null     object \n",
            " 16  Informativos da empresa                                                                                                             16 non-null     object \n",
            " 17  WhatsApp                                                                                                                            15 non-null     object \n",
            " 18  Outro (especifique)                                                                                                                 0 non-null      float64\n",
            " 19  A relação entre o seu trabalho e os resultados da empresa é clara?                                                                  49 non-null     int64  \n",
            " 20  NOTA ENGAJAMENTO                                                                                                                    49 non-null     float64\n",
            " 21  Pensando no momento atual da empresa, qual sentimento você acredita que melhor representa a visão da maioria dos funcionários:      49 non-null     object \n",
            " 22  E para você, qual sentimento melhor representa esse momento atual da empresa?                                                       49 non-null     object \n",
            "dtypes: float64(3), int64(7), object(13)\n",
            "memory usage: 8.9+ KB\n"
          ],
          "name": "stdout"
        }
      ]
    },
    {
      "cell_type": "code",
      "metadata": {
        "id": "8qQEaN-EXxdT"
      },
      "source": [
        "#Definindo a coluna \"Numero do funcionário\" como índice\r\n",
        "dados = dados.set_index(\"Numero do funcionário\")"
      ],
      "execution_count": 3,
      "outputs": []
    },
    {
      "cell_type": "code",
      "metadata": {
        "colab": {
          "base_uri": "https://localhost:8080/"
        },
        "id": "uF3glga6iLZn",
        "outputId": "4c25883e-8c2f-41ac-a184-2debdc1f0ec4"
      },
      "source": [
        "#Checando existência de NaN\r\n",
        "with pd.option_context(\"display.float_format\", \"{:.2f}%\".format):\r\n",
        "    val_NaN = pd.DataFrame()\r\n",
        "    val_NaN[\"Qtd. linhas faltantes\"] = dados.isnull().sum()\r\n",
        "    val_NaN[\"% linhas laltantes\"] = (dados.isnull().sum()/\r\n",
        "                                    dados.shape[0]*100)\r\n",
        "    print(val_NaN,\"\\n\",\"\\n\")"
      ],
      "execution_count": 7,
      "outputs": [
        {
          "output_type": "stream",
          "text": [
            "                                                    Qtd. linhas faltantes  % linhas laltantes\n",
            "Abaixo temos alguns grupos com funções. Em qual...                      0               0.00%\n",
            "Quantos anos você tem?                                                  0               0.00%\n",
            "Com qual gênero você se identifica?                                     0               0.00%\n",
            "Há quanto tempo você trabalha na empresa?                               0               0.00%\n",
            "Em poucas palavras, quais eram suas expectativa...                      1               2.04%\n",
            "Considerando suas expectativas, você considera ...                      0               0.00%\n",
            "Pensando na apresentação do lugar, do trabalho ...                      0               0.00%\n",
            "Você conhece os procedimentos (tarefas, process...                      0               0.00%\n",
            "As metas e objetivos da sua área são claras par...                      0               0.00%\n",
            "Como é para você acompanhar o andamento das sua...                      0               0.00%\n",
            "Quanto você se considera informado sobre o que ...                      0               0.00%\n",
            "Por onde/quem você se informa?(selecione quanta...                     49             100.00%\n",
            "Gestor/líder                                                           12              24.49%\n",
            "Colegas                                                                31              63.27%\n",
            "E-mail                                                                 38              77.55%\n",
            "Informativos da empresa                                                33              67.35%\n",
            "WhatsApp                                                               34              69.39%\n",
            "Outro (especifique)                                                    49             100.00%\n",
            "A relação entre o seu trabalho e os resultados ...                      0               0.00%\n",
            "NOTA ENGAJAMENTO                                                        0               0.00%\n",
            "Pensando no momento atual da empresa, qual sent...                      0               0.00%\n",
            "E para você, qual sentimento melhor representa ...                      0               0.00% \n",
            " \n",
            "\n"
          ],
          "name": "stdout"
        }
      ]
    },
    {
      "cell_type": "code",
      "metadata": {
        "colab": {
          "base_uri": "https://localhost:8080/",
          "height": 216
        },
        "id": "9tQ7z8syJt4T",
        "outputId": "6af5687f-3377-4ffe-c32a-c90c581bd11d"
      },
      "source": [
        "#Renomeando as colunas com números para facilitar as consultas\r\n",
        "dados.columns = range(1, 23)\r\n",
        "dados.head(1)"
      ],
      "execution_count": 4,
      "outputs": [
        {
          "output_type": "execute_result",
          "data": {
            "text/html": [
              "<div>\n",
              "<style scoped>\n",
              "    .dataframe tbody tr th:only-of-type {\n",
              "        vertical-align: middle;\n",
              "    }\n",
              "\n",
              "    .dataframe tbody tr th {\n",
              "        vertical-align: top;\n",
              "    }\n",
              "\n",
              "    .dataframe thead th {\n",
              "        text-align: right;\n",
              "    }\n",
              "</style>\n",
              "<table border=\"1\" class=\"dataframe\">\n",
              "  <thead>\n",
              "    <tr style=\"text-align: right;\">\n",
              "      <th></th>\n",
              "      <th>1</th>\n",
              "      <th>2</th>\n",
              "      <th>3</th>\n",
              "      <th>4</th>\n",
              "      <th>5</th>\n",
              "      <th>6</th>\n",
              "      <th>7</th>\n",
              "      <th>8</th>\n",
              "      <th>9</th>\n",
              "      <th>10</th>\n",
              "      <th>11</th>\n",
              "      <th>12</th>\n",
              "      <th>13</th>\n",
              "      <th>14</th>\n",
              "      <th>15</th>\n",
              "      <th>16</th>\n",
              "      <th>17</th>\n",
              "      <th>18</th>\n",
              "      <th>19</th>\n",
              "      <th>20</th>\n",
              "      <th>21</th>\n",
              "      <th>22</th>\n",
              "    </tr>\n",
              "    <tr>\n",
              "      <th>Numero do funcionário</th>\n",
              "      <th></th>\n",
              "      <th></th>\n",
              "      <th></th>\n",
              "      <th></th>\n",
              "      <th></th>\n",
              "      <th></th>\n",
              "      <th></th>\n",
              "      <th></th>\n",
              "      <th></th>\n",
              "      <th></th>\n",
              "      <th></th>\n",
              "      <th></th>\n",
              "      <th></th>\n",
              "      <th></th>\n",
              "      <th></th>\n",
              "      <th></th>\n",
              "      <th></th>\n",
              "      <th></th>\n",
              "      <th></th>\n",
              "      <th></th>\n",
              "      <th></th>\n",
              "      <th></th>\n",
              "    </tr>\n",
              "  </thead>\n",
              "  <tbody>\n",
              "    <tr>\n",
              "      <th>1</th>\n",
              "      <td>GRUPO 3 Agente, Analista, Assessor, Assistente...</td>\n",
              "      <td>entre 39 e 45 anos</td>\n",
              "      <td>Masculino</td>\n",
              "      <td>De 10 a 15 anos</td>\n",
              "      <td>Crescer Junto  com o Grupo</td>\n",
              "      <td>É melhor do que esperava</td>\n",
              "      <td>5</td>\n",
              "      <td>5</td>\n",
              "      <td>5</td>\n",
              "      <td>5</td>\n",
              "      <td>4</td>\n",
              "      <td>NaN</td>\n",
              "      <td>Gestor/líder</td>\n",
              "      <td>Colegas</td>\n",
              "      <td>E-mail</td>\n",
              "      <td>Informativos da empresa</td>\n",
              "      <td>NaN</td>\n",
              "      <td>NaN</td>\n",
              "      <td>5</td>\n",
              "      <td>4.383911</td>\n",
              "      <td>Empolgação (comprometimento, determinação)</td>\n",
              "      <td>Empolgação (comprometimento, determinação)</td>\n",
              "    </tr>\n",
              "  </tbody>\n",
              "</table>\n",
              "</div>"
            ],
            "text/plain": [
              "                                                                      1   ...                                          22\n",
              "Numero do funcionário                                                     ...                                            \n",
              "1                      GRUPO 3 Agente, Analista, Assessor, Assistente...  ...  Empolgação (comprometimento, determinação)\n",
              "\n",
              "[1 rows x 22 columns]"
            ]
          },
          "metadata": {
            "tags": []
          },
          "execution_count": 4
        }
      ]
    },
    {
      "cell_type": "code",
      "metadata": {
        "colab": {
          "base_uri": "https://localhost:8080/",
          "height": 315
        },
        "id": "Br3KMQUjmzyf",
        "outputId": "89d6595d-b4d3-4086-fc1f-7bf407be9090"
      },
      "source": [
        "#Formatando as colunas que informam por onde os funcionários se informam\r\n",
        "dados.fillna({13: 0, 14: 0, 15: 0, 16: 0, 17: 0}, inplace=True)\r\n",
        "dados.replace([\"Gestor/líder\", \"Colegas\", \"E-mail\", \"Informativos da empresa\", \"WhatsApp\"], 1, inplace=True)\r\n",
        "dados.head(2)"
      ],
      "execution_count": 5,
      "outputs": [
        {
          "output_type": "execute_result",
          "data": {
            "text/html": [
              "<div>\n",
              "<style scoped>\n",
              "    .dataframe tbody tr th:only-of-type {\n",
              "        vertical-align: middle;\n",
              "    }\n",
              "\n",
              "    .dataframe tbody tr th {\n",
              "        vertical-align: top;\n",
              "    }\n",
              "\n",
              "    .dataframe thead th {\n",
              "        text-align: right;\n",
              "    }\n",
              "</style>\n",
              "<table border=\"1\" class=\"dataframe\">\n",
              "  <thead>\n",
              "    <tr style=\"text-align: right;\">\n",
              "      <th></th>\n",
              "      <th>1</th>\n",
              "      <th>2</th>\n",
              "      <th>3</th>\n",
              "      <th>4</th>\n",
              "      <th>5</th>\n",
              "      <th>6</th>\n",
              "      <th>7</th>\n",
              "      <th>8</th>\n",
              "      <th>9</th>\n",
              "      <th>10</th>\n",
              "      <th>11</th>\n",
              "      <th>12</th>\n",
              "      <th>13</th>\n",
              "      <th>14</th>\n",
              "      <th>15</th>\n",
              "      <th>16</th>\n",
              "      <th>17</th>\n",
              "      <th>18</th>\n",
              "      <th>19</th>\n",
              "      <th>20</th>\n",
              "      <th>21</th>\n",
              "      <th>22</th>\n",
              "    </tr>\n",
              "    <tr>\n",
              "      <th>Numero do funcionário</th>\n",
              "      <th></th>\n",
              "      <th></th>\n",
              "      <th></th>\n",
              "      <th></th>\n",
              "      <th></th>\n",
              "      <th></th>\n",
              "      <th></th>\n",
              "      <th></th>\n",
              "      <th></th>\n",
              "      <th></th>\n",
              "      <th></th>\n",
              "      <th></th>\n",
              "      <th></th>\n",
              "      <th></th>\n",
              "      <th></th>\n",
              "      <th></th>\n",
              "      <th></th>\n",
              "      <th></th>\n",
              "      <th></th>\n",
              "      <th></th>\n",
              "      <th></th>\n",
              "      <th></th>\n",
              "    </tr>\n",
              "  </thead>\n",
              "  <tbody>\n",
              "    <tr>\n",
              "      <th>1</th>\n",
              "      <td>GRUPO 3 Agente, Analista, Assessor, Assistente...</td>\n",
              "      <td>entre 39 e 45 anos</td>\n",
              "      <td>Masculino</td>\n",
              "      <td>De 10 a 15 anos</td>\n",
              "      <td>Crescer Junto  com o Grupo</td>\n",
              "      <td>É melhor do que esperava</td>\n",
              "      <td>5</td>\n",
              "      <td>5</td>\n",
              "      <td>5</td>\n",
              "      <td>5</td>\n",
              "      <td>4</td>\n",
              "      <td>NaN</td>\n",
              "      <td>1</td>\n",
              "      <td>1</td>\n",
              "      <td>1</td>\n",
              "      <td>1</td>\n",
              "      <td>0</td>\n",
              "      <td>NaN</td>\n",
              "      <td>5</td>\n",
              "      <td>4.383911</td>\n",
              "      <td>Empolgação (comprometimento, determinação)</td>\n",
              "      <td>Empolgação (comprometimento, determinação)</td>\n",
              "    </tr>\n",
              "    <tr>\n",
              "      <th>2</th>\n",
              "      <td>GRUPO 1 Alinhador, Almoxarife, Auxiliar, Balan...</td>\n",
              "      <td>entre 39 e 45 anos</td>\n",
              "      <td>Masculino</td>\n",
              "      <td>De 5 a 10 anos</td>\n",
              "      <td>CRESCIMENTO PROFISSIONAL</td>\n",
              "      <td>É muito melhor do que esperava</td>\n",
              "      <td>5</td>\n",
              "      <td>4</td>\n",
              "      <td>4</td>\n",
              "      <td>5</td>\n",
              "      <td>3</td>\n",
              "      <td>NaN</td>\n",
              "      <td>1</td>\n",
              "      <td>0</td>\n",
              "      <td>1</td>\n",
              "      <td>1</td>\n",
              "      <td>0</td>\n",
              "      <td>NaN</td>\n",
              "      <td>3</td>\n",
              "      <td>4.115007</td>\n",
              "      <td>Interesse (esperança, vontade)</td>\n",
              "      <td>Interesse (esperança, vontade)</td>\n",
              "    </tr>\n",
              "  </tbody>\n",
              "</table>\n",
              "</div>"
            ],
            "text/plain": [
              "                                                                      1   ...                                          22\n",
              "Numero do funcionário                                                     ...                                            \n",
              "1                      GRUPO 3 Agente, Analista, Assessor, Assistente...  ...  Empolgação (comprometimento, determinação)\n",
              "2                      GRUPO 1 Alinhador, Almoxarife, Auxiliar, Balan...  ...              Interesse (esperança, vontade)\n",
              "\n",
              "[2 rows x 22 columns]"
            ]
          },
          "metadata": {
            "tags": []
          },
          "execution_count": 5
        }
      ]
    },
    {
      "cell_type": "code",
      "metadata": {
        "colab": {
          "base_uri": "https://localhost:8080/"
        },
        "id": "INmI80CMYKjU",
        "outputId": "1e54158f-f005-4297-9209-025f39ef799b"
      },
      "source": [
        "#Formatando a coluna \"Abaixo temos alguns grupos com funções. Em qual grupo sua função está?\" para simplificar\r\n",
        "dados[1].unique()"
      ],
      "execution_count": 6,
      "outputs": [
        {
          "output_type": "execute_result",
          "data": {
            "text/plain": [
              "array(['GRUPO 3 Agente, Analista, Assessor, Assistente, Avaliador, Chefe, Comprador, Consultor, Designer, Entregador, Especialista, Garantista, Orçamentista, Promotor, Recuperador, Vendedor',\n",
              "       'GRUPO 1 Alinhador, Almoxarife, Auxiliar, Balanceador, Balconista, Borracheiro, Capoteiro, Coletador, Copeira, Eletricista, Estagiário, Estoquista, Ferramenteiro, Hostess, Instalador, Instrutor, Lanterneiro, Latoeiro, Lavador, Manobrista, Mecânico, Mecatrônico, Montador, Motorista, Operador, Pintor, Polidor, Porteiro, Preparador, Técnico, Telefonista',\n",
              "       'GRUPO 2 Agendamento, Apontador, Assistente Técnico, Caixa, Controlador, Encarregado, Líder, Líder Kaizen, Lqs, Programador, Recepcionista, Secretaria',\n",
              "       'GRUPO 5 Advogado, Gerentes, Diretores',\n",
              "       'GRUPO 4 Auditoria, Coordenador, Supervisor'], dtype=object)"
            ]
          },
          "metadata": {
            "tags": []
          },
          "execution_count": 6
        }
      ]
    },
    {
      "cell_type": "code",
      "metadata": {
        "id": "VBMDrnP_g07b"
      },
      "source": [
        "rotulos = {'GRUPO 3 Agente, Analista, Assessor, Assistente, Avaliador, Chefe, Comprador, Consultor, Designer, Entregador, Especialista, Garantista, Orçamentista, Promotor, Recuperador, Vendedor': \"Grupo 3\",\r\n",
        "       'GRUPO 1 Alinhador, Almoxarife, Auxiliar, Balanceador, Balconista, Borracheiro, Capoteiro, Coletador, Copeira, Eletricista, Estagiário, Estoquista, Ferramenteiro, Hostess, Instalador, Instrutor, Lanterneiro, Latoeiro, Lavador, Manobrista, Mecânico, Mecatrônico, Montador, Motorista, Operador, Pintor, Polidor, Porteiro, Preparador, Técnico, Telefonista': \"Grupo 1\",\r\n",
        "       'GRUPO 2 Agendamento, Apontador, Assistente Técnico, Caixa, Controlador, Encarregado, Líder, Líder Kaizen, Lqs, Programador, Recepcionista, Secretaria': \"Grupo 2\",\r\n",
        "       'GRUPO 5 Advogado, Gerentes, Diretores': \"Grupo 5\",\r\n",
        "       'GRUPO 4 Auditoria, Coordenador, Supervisor': \"Grupo 4\"}\r\n",
        "\r\n",
        "dados[1] = dados[1].map(rotulos)"
      ],
      "execution_count": 7,
      "outputs": []
    },
    {
      "cell_type": "markdown",
      "metadata": {
        "id": "YoL9leKxRa4l"
      },
      "source": [
        "## Dicionário das perguntas para consulta\r\n",
        "\r\n",
        "1- Abaixo temos alguns grupos com funções. Em qual grupo sua função está?\r\n",
        "<br>2- Quantos anos você tem? \r\n",
        "<br>3- Com qual gênero você se identifica?\r\n",
        "<br>4- Há quanto tempo você trabalha na empresa?\r\n",
        "<br>5- Em poucas palavras, quais eram suas expectativas quando veio trabalhar aqui?\r\n",
        "<br>6- Considerando suas expectativas, você considera que trabalhar aqui é:\r\n",
        "<br>7- Pensando na apresentação do lugar, do trabalho e das pessoas, como você considera que a sua empresa te recebeu quando você entrou?\r\n",
        "<br>8- Você conhece os procedimentos (tarefas, processos, conhecimentos) da sua função?\r\n",
        "<br>9- As metas e objetivos da sua área são claras para você?\r\n",
        "<br>10- Como é para você acompanhar o andamento das suas metas?\r\n",
        "<br>11- Quanto você se considera informado sobre o que acontece na empresa atualmente?\r\n",
        "<br>12- Por onde/quem você se informa?(selecione quantas opções achar importante)\r\n",
        "<br>13- Gestor/líder\r\n",
        "<br>14- Colegas\r\n",
        "<br>15- E-mail\r\n",
        "<br>16- Informativos da empresa\r\n",
        "<br>17- WhatsApp\r\n",
        "<br>18- Outro (especifique)\r\n",
        "<br>19- A relação entre o seu trabalho e os resultados da empresa é clara?\r\n",
        "<br>20- NOTA ENGAJAMENTO\r\n",
        "<br>21- Pensando no momento atual da empresa, qual sentimento você acredita que melhor representa a visão da maioria dos funcionários:\r\n",
        "<br>22- E para você, qual sentimento melhor representa esse momento atual da empresa?"
      ]
    },
    {
      "cell_type": "markdown",
      "metadata": {
        "id": "kdSKbsh_3oVu"
      },
      "source": [
        "## Dicionário dos grupos de funções para consulta\r\n",
        "\r\n",
        "- GRUPO 1: Alinhador, Almoxarife, Auxiliar, Balanceador, Balconista, Borracheiro, Capoteiro, Coletador, Copeira, Eletricista, Estagiário, Estoquista, Ferramenteiro, Hostess, Instalador, Instrutor, Lanterneiro, Latoeiro, Lavador, Manobrista, Mecânico, Mecatrônico, Montador, Motorista, Operador, Pintor, Polidor, Porteiro, Preparador, Técnico, Telefonista\r\n",
        "- GRUPO 2: Agendamento, Apontador, Assistente Técnico, Caixa, Controlador, Encarregado, Líder, Líder Kaizen, Lqs, Programador, Recepcionista, Secretaria\r\n",
        "- GRUPO 3: Agente, Analista, Assessor, Assistente, Avaliador, Chefe, Comprador, Consultor, Designer, Entregador, Especialista, Garantista, Orçamentista, Promotor, Recuperador, Vendedor\r\n",
        "- GRUPO 4: Auditoria, Coordenador, Supervisor\r\n",
        "- GRUPO 5: Advogado, Gerentes, Diretores\r\n",
        "       \r\n",
        "     "
      ]
    },
    {
      "cell_type": "markdown",
      "metadata": {
        "id": "6dLSF7puR0fm"
      },
      "source": [
        "##Análise geral dos funcionários da empresa"
      ]
    },
    {
      "cell_type": "code",
      "metadata": {
        "colab": {
          "base_uri": "https://localhost:8080/",
          "height": 0
        },
        "id": "qM0iu9v0uYbL",
        "outputId": "f5fa110f-6f69-4877-c30a-f6386056264c"
      },
      "source": [
        "#Plotando o gráfico\r\n",
        "plt.figure(figsize=(12,8))\r\n",
        "\r\n",
        "with plt.style.context('ggplot'):\r\n",
        "  ax = sns.countplot(x=1, data=dados, \r\n",
        "                   order =[\"Grupo 1\", \"Grupo 2\", \"Grupo 3\", \"Grupo 4\", \"Grupo 5\"])\r\n",
        "\r\n",
        "for p in ax.patches:\r\n",
        "  ax.annotate(format(p.get_height(), '.0f'), (p.get_x() + p.get_width() / 2., p.get_height()), ha = 'center', va = 'center', xytext = (0, 10), \r\n",
        "                 textcoords = 'offset points')\r\n",
        "\r\n",
        "#Formatando o gráfico\r\n",
        "plt.ylim(0, 30) \r\n",
        "plt.xlabel(\"\", color = \"k\", size=14)\r\n",
        "plt.ylabel(\"Contagem\", color = \"k\", size=14)\r\n",
        "plt.xticks(color=\"k\", fontsize=12)\r\n",
        "plt.yticks(color=\"k\", fontsize=12)\r\n",
        "plt.title(\"Grupos de funções dos funcionários\", fontsize=18)\r\n",
        "\r\n",
        "plt.show()"
      ],
      "execution_count": 12,
      "outputs": [
        {
          "output_type": "display_data",
          "data": {
            "image/png": "[encoded data removed]",
            "text/plain": [
              "<Figure size 864x576 with 1 Axes>"
            ]
          },
          "metadata": {
            "tags": [],
            "needs_background": "light"
          }
        }
      ]
    },
    {
      "cell_type": "code",
      "metadata": {
        "colab": {
          "base_uri": "https://localhost:8080/",
          "height": 0
        },
        "id": "b8XxTFlAxmde",
        "outputId": "4dc7d074-2f2f-4262-f8c8-d56a9950fa36"
      },
      "source": [
        "#Plotando o gráfico\r\n",
        "plt.figure(figsize=(12,8))\r\n",
        "\r\n",
        "with plt.style.context('ggplot'):\r\n",
        "  ax = sns.countplot(x=2, data=dados, \r\n",
        "                   order =[\"menos de 18 anos\", \"entre 18 e 24 anos\", \"entre 25 e 31 anos\", \"entre 32 e 38 anos\", \"entre 39 e 45 anos\",\"entre 46 e 52 anos\",\"entre 53 e 59 anos\"])\r\n",
        "\r\n",
        "for p in ax.patches:\r\n",
        "  ax.annotate(format(p.get_height(), '.0f'), (p.get_x() + p.get_width() / 2., p.get_height()), ha = 'center', va = 'center', xytext = (0, 10), \r\n",
        "                 textcoords = 'offset points')\r\n",
        "\r\n",
        "#Formatando o gráfico\r\n",
        "ax.yaxis.set_major_formatter(ticker.StrMethodFormatter(\"{x:,.0f}\"))\r\n",
        "plt.xticks(rotation=45)\r\n",
        "plt.ylim(0, 18) \r\n",
        "plt.xlabel(\"\", color = \"k\", size=14)\r\n",
        "plt.ylabel(\"Contagem\", color = \"k\", size=14)\r\n",
        "plt.xticks(color=\"k\", fontsize=12)\r\n",
        "plt.yticks(color=\"k\", fontsize=12)\r\n",
        "plt.title(\"Faixa etária dos funcionários\", fontsize=18)\r\n",
        "\r\n",
        "plt.show()"
      ],
      "execution_count": 13,
      "outputs": [
        {
          "output_type": "display_data",
          "data": {
            "image/png": "[encoded data removed]",
            "text/plain": [
              "<Figure size 864x576 with 1 Axes>"
            ]
          },
          "metadata": {
            "tags": [],
            "needs_background": "light"
          }
        }
      ]
    },
    {
      "cell_type": "code",
      "metadata": {
        "colab": {
          "base_uri": "https://localhost:8080/",
          "height": 0
        },
        "id": "RyZTA02f63tu",
        "outputId": "e93f6a9a-c7db-4a55-af1e-7188ff64b409"
      },
      "source": [
        "#Calculando a tabela de frequência\r\n",
        "frequencia = round(dados[3].value_counts(), 2)\r\n",
        "percentual = round(dados[3].value_counts(normalize = True) * 100, 2)\r\n",
        "tabela_frequencia = pd.DataFrame({\"Frequência\" : frequencia, \"Percentual\" : percentual})\r\n",
        "index = tabela_frequencia.index\r\n",
        "index.name = \"Gênero\"\r\n",
        "tabela_frequencia"
      ],
      "execution_count": 14,
      "outputs": [
        {
          "output_type": "execute_result",
          "data": {
            "text/html": [
              "<div>\n",
              "<style scoped>\n",
              "    .dataframe tbody tr th:only-of-type {\n",
              "        vertical-align: middle;\n",
              "    }\n",
              "\n",
              "    .dataframe tbody tr th {\n",
              "        vertical-align: top;\n",
              "    }\n",
              "\n",
              "    .dataframe thead th {\n",
              "        text-align: right;\n",
              "    }\n",
              "</style>\n",
              "<table border=\"1\" class=\"dataframe\">\n",
              "  <thead>\n",
              "    <tr style=\"text-align: right;\">\n",
              "      <th></th>\n",
              "      <th>Frequência</th>\n",
              "      <th>Percentual</th>\n",
              "    </tr>\n",
              "    <tr>\n",
              "      <th>Gênero</th>\n",
              "      <th></th>\n",
              "      <th></th>\n",
              "    </tr>\n",
              "  </thead>\n",
              "  <tbody>\n",
              "    <tr>\n",
              "      <th>Masculino</th>\n",
              "      <td>32</td>\n",
              "      <td>65.31</td>\n",
              "    </tr>\n",
              "    <tr>\n",
              "      <th>Feminino</th>\n",
              "      <td>15</td>\n",
              "      <td>30.61</td>\n",
              "    </tr>\n",
              "    <tr>\n",
              "      <th>Prefiro não declarar</th>\n",
              "      <td>2</td>\n",
              "      <td>4.08</td>\n",
              "    </tr>\n",
              "  </tbody>\n",
              "</table>\n",
              "</div>"
            ],
            "text/plain": [
              "                      Frequência  Percentual\n",
              "Gênero                                      \n",
              "Masculino                     32       65.31\n",
              "Feminino                      15       30.61\n",
              "Prefiro não declarar           2        4.08"
            ]
          },
          "metadata": {
            "tags": []
          },
          "execution_count": 14
        }
      ]
    },
    {
      "cell_type": "code",
      "metadata": {
        "colab": {
          "base_uri": "https://localhost:8080/",
          "height": 0
        },
        "id": "BTDVDTfM5fCD",
        "outputId": "d5be955f-6ab1-4866-b40c-0abe40c9aa22"
      },
      "source": [
        "#Plotando o gráfico\r\n",
        "plt.figure(figsize=(12,8))\r\n",
        "\r\n",
        "with plt.style.context('ggplot'):\r\n",
        "  ax = sns.countplot(x=3, data=dados)\r\n",
        "\r\n",
        "for p in ax.patches:\r\n",
        "  ax.annotate(format(p.get_height(), '.0f'), (p.get_x() + p.get_width() / 2., p.get_height()), ha = 'center', va = 'center', xytext = (0, 10), \r\n",
        "                 textcoords = 'offset points')\r\n",
        "\r\n",
        "#Formatando o gráfico\r\n",
        "ax.yaxis.set_major_formatter(ticker.StrMethodFormatter(\"{x:,.0f}\"))\r\n",
        "plt.ylim(0, 35) \r\n",
        "plt.xlabel(\"\", color = \"k\", size=14)\r\n",
        "plt.ylabel(\"Contagem\", color = \"k\", size=14)\r\n",
        "plt.xticks(color=\"k\", fontsize=12)\r\n",
        "plt.yticks(color=\"k\", fontsize=12)\r\n",
        "plt.title(\"Gênero dos funcionários\", fontsize=18)\r\n",
        "\r\n",
        "plt.show()"
      ],
      "execution_count": 15,
      "outputs": [
        {
          "output_type": "display_data",
          "data": {
            "image/png": "[encoded data removed]",
            "text/plain": [
              "<Figure size 864x576 with 1 Axes>"
            ]
          },
          "metadata": {
            "tags": [],
            "needs_background": "light"
          }
        }
      ]
    },
    {
      "cell_type": "code",
      "metadata": {
        "colab": {
          "base_uri": "https://localhost:8080/",
          "height": 0
        },
        "id": "fZJiKpfU89AK",
        "outputId": "66baca55-db76-41d1-85ce-ae5b626f6b4a"
      },
      "source": [
        "#Plotando o gráfico\r\n",
        "plt.figure(figsize=(12,8))\r\n",
        "\r\n",
        "with plt.style.context('ggplot'):\r\n",
        "  ax = sns.countplot(x=4, data=dados, \r\n",
        "                     order =[\"Até 1 ano\", \"De 1 a 2 anos\", \"De 2 a 5 anos\", \"De 5 a 10 anos\", \"De 10 a 15 anos\", \"Mais de 20 anos\"])\r\n",
        "\r\n",
        "for p in ax.patches:\r\n",
        "  ax.annotate(format(p.get_height(), '.0f'), (p.get_x() + p.get_width() / 2., p.get_height()), ha = 'center', va = 'center', xytext = (0, 10), \r\n",
        "                 textcoords = 'offset points')\r\n",
        "\r\n",
        "#Formatando o gráfico\r\n",
        "ax.yaxis.set_major_formatter(ticker.StrMethodFormatter(\"{x:,.0f}\"))\r\n",
        "plt.ylim(0, 15) \r\n",
        "plt.xlabel(\"\", color = \"k\", size=14)\r\n",
        "plt.ylabel(\"Contagem\", color = \"k\", size=14)\r\n",
        "plt.xticks(color=\"k\", fontsize=12)\r\n",
        "plt.yticks(color=\"k\", fontsize=12)\r\n",
        "plt.title(\"Tempo de trabalho dos funcionários na empresa\", fontsize=18)\r\n",
        "\r\n",
        "plt.show()"
      ],
      "execution_count": 16,
      "outputs": [
        {
          "output_type": "display_data",
          "data": {
            "image/png": "[encoded data removed]",
            "text/plain": [
              "<Figure size 864x576 with 1 Axes>"
            ]
          },
          "metadata": {
            "tags": [],
            "needs_background": "light"
          }
        }
      ]
    },
    {
      "cell_type": "markdown",
      "metadata": {
        "id": "MHYTdm2u6_8b"
      },
      "source": [
        "*** \r\n",
        "Conclusões:\r\n",
        "- A empresa é composta em sua maioria por funcionários do Grupo 1 de funções, e em sua minoria por funcionários dos Grupos 4 e 5. É de se esperar que em uma empresa existam menos funcionários em cargos mais altos, ainda mais se tratando de uma empresa com apenas 49 funcionários.\r\n",
        "- Cerca de um terço dos funcionários (15 funcionários) tem idade entre 39 e 45 anos. 13 tem idade entre 32 e 28 anos, e 8 tem entre 25 e 31 anos.\r\n",
        "- Os funcionários com idade maior que 46 anos e com menos de 18 anos totalizam 6 duncionários.\r\n",
        "- Dos funcionários da amostra, 32 declararam o gênero como masculino, 15 declararam o gênero como feminino e apenas 2 preferiram não declarar.\r\n",
        "- A desigualdade entre o número de funcionários do gênero masculino e feminino é algo a se considerar.\r\n",
        "- Apenas um funcionário trabalha na empresa há mais de 20 anos.\r\n",
        "- A maior parte dos funcionários (34 funcionários) foram contratados nos últimos 5 anos.\r\n",
        "***"
      ]
    },
    {
      "cell_type": "markdown",
      "metadata": {
        "id": "yK6EzBY-WC97"
      },
      "source": [
        "# Respondendo algumas questões..."
      ]
    },
    {
      "cell_type": "markdown",
      "metadata": {
        "id": "_mg2TF2w1orX"
      },
      "source": [
        "### Existe alguma diferença entre os gêneros em cada grupo de funções?"
      ]
    },
    {
      "cell_type": "code",
      "metadata": {
        "colab": {
          "base_uri": "https://localhost:8080/",
          "height": 0
        },
        "id": "RTObk_PI-w_S",
        "outputId": "bdf464da-b1f9-4294-b7d4-76fc0bab47a6"
      },
      "source": [
        "frequencia_cruzada = pd.crosstab(dados[1], dados[3])\r\n",
        "\r\n",
        "frequencia_cruzada.rename_axis(\"Em qual grupo sua função está?\", axis=0, inplace = True)\r\n",
        "frequencia_cruzada.rename_axis(\"Gênero\", axis=1, inplace = True)\r\n",
        "\r\n",
        "frequencia_cruzada.round(2)"
      ],
      "execution_count": 17,
      "outputs": [
        {
          "output_type": "execute_result",
          "data": {
            "text/html": [
              "<div>\n",
              "<style scoped>\n",
              "    .dataframe tbody tr th:only-of-type {\n",
              "        vertical-align: middle;\n",
              "    }\n",
              "\n",
              "    .dataframe tbody tr th {\n",
              "        vertical-align: top;\n",
              "    }\n",
              "\n",
              "    .dataframe thead th {\n",
              "        text-align: right;\n",
              "    }\n",
              "</style>\n",
              "<table border=\"1\" class=\"dataframe\">\n",
              "  <thead>\n",
              "    <tr style=\"text-align: right;\">\n",
              "      <th>Gênero</th>\n",
              "      <th>Feminino</th>\n",
              "      <th>Masculino</th>\n",
              "      <th>Prefiro não declarar</th>\n",
              "    </tr>\n",
              "    <tr>\n",
              "      <th>Em qual grupo sua função está?</th>\n",
              "      <th></th>\n",
              "      <th></th>\n",
              "      <th></th>\n",
              "    </tr>\n",
              "  </thead>\n",
              "  <tbody>\n",
              "    <tr>\n",
              "      <th>Grupo 1</th>\n",
              "      <td>4</td>\n",
              "      <td>20</td>\n",
              "      <td>2</td>\n",
              "    </tr>\n",
              "    <tr>\n",
              "      <th>Grupo 2</th>\n",
              "      <td>4</td>\n",
              "      <td>3</td>\n",
              "      <td>0</td>\n",
              "    </tr>\n",
              "    <tr>\n",
              "      <th>Grupo 3</th>\n",
              "      <td>7</td>\n",
              "      <td>7</td>\n",
              "      <td>0</td>\n",
              "    </tr>\n",
              "    <tr>\n",
              "      <th>Grupo 4</th>\n",
              "      <td>0</td>\n",
              "      <td>1</td>\n",
              "      <td>0</td>\n",
              "    </tr>\n",
              "    <tr>\n",
              "      <th>Grupo 5</th>\n",
              "      <td>0</td>\n",
              "      <td>1</td>\n",
              "      <td>0</td>\n",
              "    </tr>\n",
              "  </tbody>\n",
              "</table>\n",
              "</div>"
            ],
            "text/plain": [
              "Gênero                          Feminino  Masculino  Prefiro não declarar\n",
              "Em qual grupo sua função está?                                           \n",
              "Grupo 1                                4         20                     2\n",
              "Grupo 2                                4          3                     0\n",
              "Grupo 3                                7          7                     0\n",
              "Grupo 4                                0          1                     0\n",
              "Grupo 5                                0          1                     0"
            ]
          },
          "metadata": {
            "tags": []
          },
          "execution_count": 17
        }
      ]
    },
    {
      "cell_type": "markdown",
      "metadata": {
        "id": "aeF3Ir-M-Fqq"
      },
      "source": [
        "- Nos grupos com funções mais altas na empresa, os funcionários são apenas do gênero masculino.\r\n",
        "- Nos Grupos 2 e 3 existe uma igualdade entre a quantidade de funcionários do gênero masculino e feminino.\r\n",
        "- No Grupo 1, que apresenta funções tidas como \"masculinas\", dos 26 funcionários, apenas 4 são do gênero feminino."
      ]
    },
    {
      "cell_type": "markdown",
      "metadata": {
        "id": "fBOflgOX1220"
      },
      "source": [
        "### E em relação à faixa etária dos funcionários?"
      ]
    },
    {
      "cell_type": "code",
      "metadata": {
        "colab": {
          "base_uri": "https://localhost:8080/",
          "height": 0
        },
        "id": "VerM3LB9EFcq",
        "outputId": "2812d6de-277f-479c-9884-28911e65025d"
      },
      "source": [
        "frequencia_cruzada = pd.crosstab(dados[2], dados[1])\r\n",
        "\r\n",
        "frequencia_cruzada.rename_axis(\"Faixa etária\", axis=0, inplace = True)\r\n",
        "frequencia_cruzada.rename_axis(\"Em qual grupo sua função está?\", axis=1, inplace = True)\r\n",
        "\r\n",
        "frequencia_cruzada.round(2)"
      ],
      "execution_count": 18,
      "outputs": [
        {
          "output_type": "execute_result",
          "data": {
            "text/html": [
              "<div>\n",
              "<style scoped>\n",
              "    .dataframe tbody tr th:only-of-type {\n",
              "        vertical-align: middle;\n",
              "    }\n",
              "\n",
              "    .dataframe tbody tr th {\n",
              "        vertical-align: top;\n",
              "    }\n",
              "\n",
              "    .dataframe thead th {\n",
              "        text-align: right;\n",
              "    }\n",
              "</style>\n",
              "<table border=\"1\" class=\"dataframe\">\n",
              "  <thead>\n",
              "    <tr style=\"text-align: right;\">\n",
              "      <th>Em qual grupo sua função está?</th>\n",
              "      <th>Grupo 1</th>\n",
              "      <th>Grupo 2</th>\n",
              "      <th>Grupo 3</th>\n",
              "      <th>Grupo 4</th>\n",
              "      <th>Grupo 5</th>\n",
              "    </tr>\n",
              "    <tr>\n",
              "      <th>Faixa etária</th>\n",
              "      <th></th>\n",
              "      <th></th>\n",
              "      <th></th>\n",
              "      <th></th>\n",
              "      <th></th>\n",
              "    </tr>\n",
              "  </thead>\n",
              "  <tbody>\n",
              "    <tr>\n",
              "      <th>entre 18 e 24 anos</th>\n",
              "      <td>2</td>\n",
              "      <td>4</td>\n",
              "      <td>1</td>\n",
              "      <td>0</td>\n",
              "      <td>0</td>\n",
              "    </tr>\n",
              "    <tr>\n",
              "      <th>entre 25 e 31 anos</th>\n",
              "      <td>3</td>\n",
              "      <td>1</td>\n",
              "      <td>4</td>\n",
              "      <td>0</td>\n",
              "      <td>0</td>\n",
              "    </tr>\n",
              "    <tr>\n",
              "      <th>entre 32 e 38 anos</th>\n",
              "      <td>6</td>\n",
              "      <td>2</td>\n",
              "      <td>5</td>\n",
              "      <td>0</td>\n",
              "      <td>0</td>\n",
              "    </tr>\n",
              "    <tr>\n",
              "      <th>entre 39 e 45 anos</th>\n",
              "      <td>10</td>\n",
              "      <td>0</td>\n",
              "      <td>3</td>\n",
              "      <td>1</td>\n",
              "      <td>1</td>\n",
              "    </tr>\n",
              "    <tr>\n",
              "      <th>entre 46 e 52 anos</th>\n",
              "      <td>2</td>\n",
              "      <td>0</td>\n",
              "      <td>0</td>\n",
              "      <td>0</td>\n",
              "      <td>0</td>\n",
              "    </tr>\n",
              "    <tr>\n",
              "      <th>entre 53 e 59 anos</th>\n",
              "      <td>2</td>\n",
              "      <td>0</td>\n",
              "      <td>1</td>\n",
              "      <td>0</td>\n",
              "      <td>0</td>\n",
              "    </tr>\n",
              "    <tr>\n",
              "      <th>menos de 18 anos</th>\n",
              "      <td>1</td>\n",
              "      <td>0</td>\n",
              "      <td>0</td>\n",
              "      <td>0</td>\n",
              "      <td>0</td>\n",
              "    </tr>\n",
              "  </tbody>\n",
              "</table>\n",
              "</div>"
            ],
            "text/plain": [
              "Em qual grupo sua função está?  Grupo 1  Grupo 2  Grupo 3  Grupo 4  Grupo 5\n",
              "Faixa etária                                                               \n",
              "entre 18 e 24 anos                    2        4        1        0        0\n",
              "entre 25 e 31 anos                    3        1        4        0        0\n",
              "entre 32 e 38 anos                    6        2        5        0        0\n",
              "entre 39 e 45 anos                   10        0        3        1        1\n",
              "entre 46 e 52 anos                    2        0        0        0        0\n",
              "entre 53 e 59 anos                    2        0        1        0        0\n",
              "menos de 18 anos                      1        0        0        0        0"
            ]
          },
          "metadata": {
            "tags": []
          },
          "execution_count": 18
        }
      ]
    },
    {
      "cell_type": "markdown",
      "metadata": {
        "id": "58Ekan5FAFg5"
      },
      "source": [
        "- Nos cargos mais altos da empresa, os funcionários têm entre 39 e 45 anos.\r\n",
        "- Os funcionários mais velhos, com idade entre 53 e 59 anos, estão nos Grupos 1 e 3."
      ]
    },
    {
      "cell_type": "markdown",
      "metadata": {
        "id": "EpCl-KXlDI1z"
      },
      "source": [
        "### E em relação ao tempo de trabalho na empresa?"
      ]
    },
    {
      "cell_type": "code",
      "metadata": {
        "colab": {
          "base_uri": "https://localhost:8080/",
          "height": 0
        },
        "id": "DBprQacAEwVb",
        "outputId": "1ec9ed9d-2b0a-4848-833c-d2e0211f2f5f"
      },
      "source": [
        "frequencia_cruzada = pd.crosstab(dados[4], dados[1])\r\n",
        "\r\n",
        "frequencia_cruzada.rename_axis(\"Tempo de trabalho na empresa\", axis=0, inplace = True)\r\n",
        "frequencia_cruzada.rename_axis(\"Gênero\", axis=1, inplace = True)\r\n",
        "\r\n",
        "frequencia_cruzada.round(2)"
      ],
      "execution_count": 19,
      "outputs": [
        {
          "output_type": "execute_result",
          "data": {
            "text/html": [
              "<div>\n",
              "<style scoped>\n",
              "    .dataframe tbody tr th:only-of-type {\n",
              "        vertical-align: middle;\n",
              "    }\n",
              "\n",
              "    .dataframe tbody tr th {\n",
              "        vertical-align: top;\n",
              "    }\n",
              "\n",
              "    .dataframe thead th {\n",
              "        text-align: right;\n",
              "    }\n",
              "</style>\n",
              "<table border=\"1\" class=\"dataframe\">\n",
              "  <thead>\n",
              "    <tr style=\"text-align: right;\">\n",
              "      <th>Gênero</th>\n",
              "      <th>Grupo 1</th>\n",
              "      <th>Grupo 2</th>\n",
              "      <th>Grupo 3</th>\n",
              "      <th>Grupo 4</th>\n",
              "      <th>Grupo 5</th>\n",
              "    </tr>\n",
              "    <tr>\n",
              "      <th>Tempo de trabalho na empresa</th>\n",
              "      <th></th>\n",
              "      <th></th>\n",
              "      <th></th>\n",
              "      <th></th>\n",
              "      <th></th>\n",
              "    </tr>\n",
              "  </thead>\n",
              "  <tbody>\n",
              "    <tr>\n",
              "      <th>Até 1 ano</th>\n",
              "      <td>8</td>\n",
              "      <td>2</td>\n",
              "      <td>1</td>\n",
              "      <td>1</td>\n",
              "      <td>0</td>\n",
              "    </tr>\n",
              "    <tr>\n",
              "      <th>De 1 a 2 anos</th>\n",
              "      <td>5</td>\n",
              "      <td>3</td>\n",
              "      <td>3</td>\n",
              "      <td>0</td>\n",
              "      <td>0</td>\n",
              "    </tr>\n",
              "    <tr>\n",
              "      <th>De 10 a 15 anos</th>\n",
              "      <td>3</td>\n",
              "      <td>1</td>\n",
              "      <td>4</td>\n",
              "      <td>0</td>\n",
              "      <td>1</td>\n",
              "    </tr>\n",
              "    <tr>\n",
              "      <th>De 2 a 5 anos</th>\n",
              "      <td>5</td>\n",
              "      <td>1</td>\n",
              "      <td>5</td>\n",
              "      <td>0</td>\n",
              "      <td>0</td>\n",
              "    </tr>\n",
              "    <tr>\n",
              "      <th>De 5 a 10 anos</th>\n",
              "      <td>4</td>\n",
              "      <td>0</td>\n",
              "      <td>1</td>\n",
              "      <td>0</td>\n",
              "      <td>0</td>\n",
              "    </tr>\n",
              "    <tr>\n",
              "      <th>Mais de 20 anos</th>\n",
              "      <td>1</td>\n",
              "      <td>0</td>\n",
              "      <td>0</td>\n",
              "      <td>0</td>\n",
              "      <td>0</td>\n",
              "    </tr>\n",
              "  </tbody>\n",
              "</table>\n",
              "</div>"
            ],
            "text/plain": [
              "Gênero                        Grupo 1  Grupo 2  Grupo 3  Grupo 4  Grupo 5\n",
              "Tempo de trabalho na empresa                                             \n",
              "Até 1 ano                           8        2        1        1        0\n",
              "De 1 a 2 anos                       5        3        3        0        0\n",
              "De 10 a 15 anos                     3        1        4        0        1\n",
              "De 2 a 5 anos                       5        1        5        0        0\n",
              "De 5 a 10 anos                      4        0        1        0        0\n",
              "Mais de 20 anos                     1        0        0        0        0"
            ]
          },
          "metadata": {
            "tags": []
          },
          "execution_count": 19
        }
      ]
    },
    {
      "cell_type": "markdown",
      "metadata": {
        "id": "gAMp8PpYB3Mi"
      },
      "source": [
        "- É interessante notar que o funcionário do Grupo 4 foi contratado recentemente.\r\n",
        "- Já o funcionário do Grupo 5, tem de 10 a 15 anos na empresa.\r\n",
        "- Dos 26 funcionários do Grupo 1, 18 tem menos de 5 anos de trabalho na empresa.\r\n",
        "- Os Grupos 1 e 3 concentram o maior número de funcionários com mais tempo na empresa.\r\n",
        "- As funções do Grupo 1 talvez tenham mais rotatividade."
      ]
    },
    {
      "cell_type": "markdown",
      "metadata": {
        "id": "f-e99kSZ2JQP"
      },
      "source": [
        "### Será que a empresa recebe melhor ou pior os funcionários de algum grupo?"
      ]
    },
    {
      "cell_type": "code",
      "metadata": {
        "colab": {
          "base_uri": "https://localhost:8080/",
          "height": 0
        },
        "id": "iuyg9ODyDlFa",
        "outputId": "e2be476e-eba1-4fc1-8dfd-affab0f18995"
      },
      "source": [
        "frequencia = round(dados[7].value_counts(), 2)\r\n",
        "percentual = round(dados[7].value_counts(normalize = True) * 100, 2)\r\n",
        "tabela_frequencia = pd.DataFrame({\"Frequência\" : frequencia, \"Percentual\" : percentual})\r\n",
        "index = tabela_frequencia.index\r\n",
        "index.name = \"Como você considera que a empresa te recebeu quando você entrou?\"\r\n",
        "tabela_frequencia"
      ],
      "execution_count": 20,
      "outputs": [
        {
          "output_type": "execute_result",
          "data": {
            "text/html": [
              "<div>\n",
              "<style scoped>\n",
              "    .dataframe tbody tr th:only-of-type {\n",
              "        vertical-align: middle;\n",
              "    }\n",
              "\n",
              "    .dataframe tbody tr th {\n",
              "        vertical-align: top;\n",
              "    }\n",
              "\n",
              "    .dataframe thead th {\n",
              "        text-align: right;\n",
              "    }\n",
              "</style>\n",
              "<table border=\"1\" class=\"dataframe\">\n",
              "  <thead>\n",
              "    <tr style=\"text-align: right;\">\n",
              "      <th></th>\n",
              "      <th>Frequência</th>\n",
              "      <th>Percentual</th>\n",
              "    </tr>\n",
              "    <tr>\n",
              "      <th>Como você considera que a empresa te recebeu quando você entrou?</th>\n",
              "      <th></th>\n",
              "      <th></th>\n",
              "    </tr>\n",
              "  </thead>\n",
              "  <tbody>\n",
              "    <tr>\n",
              "      <th>5</th>\n",
              "      <td>39</td>\n",
              "      <td>79.59</td>\n",
              "    </tr>\n",
              "    <tr>\n",
              "      <th>3</th>\n",
              "      <td>5</td>\n",
              "      <td>10.20</td>\n",
              "    </tr>\n",
              "    <tr>\n",
              "      <th>4</th>\n",
              "      <td>3</td>\n",
              "      <td>6.12</td>\n",
              "    </tr>\n",
              "    <tr>\n",
              "      <th>2</th>\n",
              "      <td>2</td>\n",
              "      <td>4.08</td>\n",
              "    </tr>\n",
              "  </tbody>\n",
              "</table>\n",
              "</div>"
            ],
            "text/plain": [
              "                                                    Frequência  Percentual\n",
              "Como você considera que a empresa te recebeu qu...                        \n",
              "5                                                           39       79.59\n",
              "3                                                            5       10.20\n",
              "4                                                            3        6.12\n",
              "2                                                            2        4.08"
            ]
          },
          "metadata": {
            "tags": []
          },
          "execution_count": 20
        }
      ]
    },
    {
      "cell_type": "code",
      "metadata": {
        "colab": {
          "base_uri": "https://localhost:8080/",
          "height": 0
        },
        "id": "0dT6lS2xIDlB",
        "outputId": "43fbaa60-3c7c-476d-f1e7-72c1275be293"
      },
      "source": [
        "frequencia_cruzada = pd.crosstab(dados[1], dados[7])\r\n",
        "\r\n",
        "frequencia_cruzada.rename_axis(\"Em qual grupo sua função está?\", axis=0, inplace = True)\r\n",
        "frequencia_cruzada.rename_axis(\"Como você considera que a empresa te recebeu quando você entrou?\", axis=1, inplace = True)\r\n",
        "\r\n",
        "frequencia_cruzada.round(2)"
      ],
      "execution_count": 21,
      "outputs": [
        {
          "output_type": "execute_result",
          "data": {
            "text/html": [
              "<div>\n",
              "<style scoped>\n",
              "    .dataframe tbody tr th:only-of-type {\n",
              "        vertical-align: middle;\n",
              "    }\n",
              "\n",
              "    .dataframe tbody tr th {\n",
              "        vertical-align: top;\n",
              "    }\n",
              "\n",
              "    .dataframe thead th {\n",
              "        text-align: right;\n",
              "    }\n",
              "</style>\n",
              "<table border=\"1\" class=\"dataframe\">\n",
              "  <thead>\n",
              "    <tr style=\"text-align: right;\">\n",
              "      <th>Como você considera que a empresa te recebeu quando você entrou?</th>\n",
              "      <th>2</th>\n",
              "      <th>3</th>\n",
              "      <th>4</th>\n",
              "      <th>5</th>\n",
              "    </tr>\n",
              "    <tr>\n",
              "      <th>Em qual grupo sua função está?</th>\n",
              "      <th></th>\n",
              "      <th></th>\n",
              "      <th></th>\n",
              "      <th></th>\n",
              "    </tr>\n",
              "  </thead>\n",
              "  <tbody>\n",
              "    <tr>\n",
              "      <th>Grupo 1</th>\n",
              "      <td>1</td>\n",
              "      <td>2</td>\n",
              "      <td>2</td>\n",
              "      <td>21</td>\n",
              "    </tr>\n",
              "    <tr>\n",
              "      <th>Grupo 2</th>\n",
              "      <td>1</td>\n",
              "      <td>0</td>\n",
              "      <td>1</td>\n",
              "      <td>5</td>\n",
              "    </tr>\n",
              "    <tr>\n",
              "      <th>Grupo 3</th>\n",
              "      <td>0</td>\n",
              "      <td>3</td>\n",
              "      <td>0</td>\n",
              "      <td>11</td>\n",
              "    </tr>\n",
              "    <tr>\n",
              "      <th>Grupo 4</th>\n",
              "      <td>0</td>\n",
              "      <td>0</td>\n",
              "      <td>0</td>\n",
              "      <td>1</td>\n",
              "    </tr>\n",
              "    <tr>\n",
              "      <th>Grupo 5</th>\n",
              "      <td>0</td>\n",
              "      <td>0</td>\n",
              "      <td>0</td>\n",
              "      <td>1</td>\n",
              "    </tr>\n",
              "  </tbody>\n",
              "</table>\n",
              "</div>"
            ],
            "text/plain": [
              "Como você considera que a empresa te recebeu quando você entrou?  2  3  4   5\n",
              "Em qual grupo sua função está?                                               \n",
              "Grupo 1                                                           1  2  2  21\n",
              "Grupo 2                                                           1  0  1   5\n",
              "Grupo 3                                                           0  3  0  11\n",
              "Grupo 4                                                           0  0  0   1\n",
              "Grupo 5                                                           0  0  0   1"
            ]
          },
          "metadata": {
            "tags": []
          },
          "execution_count": 21
        }
      ]
    },
    {
      "cell_type": "markdown",
      "metadata": {
        "id": "GPjYALrSDhNN"
      },
      "source": [
        "- Cerca de 80% dos funcionários da amostra declararam terem sido muito bem recebidos quando entraram na empresa independente do grupo de funções.\r\n",
        "- O maior descontentamento está entre os funcionários do Grupo 1 e 2.\r\n",
        "- Os funcionários de cargos mais altos declararam terem sido muito bem recebidos."
      ]
    },
    {
      "cell_type": "markdown",
      "metadata": {
        "id": "il_oHDb-EUin"
      },
      "source": [
        "### Qual eram as expectativas dos funcionários quando foram trabalhar na empresa?"
      ]
    },
    {
      "cell_type": "code",
      "metadata": {
        "colab": {
          "base_uri": "https://localhost:8080/"
        },
        "id": "4GdiCcpqExUW",
        "outputId": "9723f164-14d2-4e05-f2ce-5b9248d3c572"
      },
      "source": [
        "#Importando as bibliotecas\r\n",
        "import nltk\r\n",
        "\r\n",
        "#Fazendo o download necessário\r\n",
        "nltk.download([\"averaged_perceptron_tagger\", \"floresta\", \"mac_morpho\", \"machado\", \"punkt\", \"stopwords\", \"wordnet\", \"words\"])"
      ],
      "execution_count": 22,
      "outputs": [
        {
          "output_type": "stream",
          "text": [
            "[nltk_data] Downloading package averaged_perceptron_tagger to\n",
            "[nltk_data]     /root/nltk_data...\n",
            "[nltk_data]   Package averaged_perceptron_tagger is already up-to-\n",
            "[nltk_data]       date!\n",
            "[nltk_data] Downloading package floresta to /root/nltk_data...\n",
            "[nltk_data]   Package floresta is already up-to-date!\n",
            "[nltk_data] Downloading package mac_morpho to /root/nltk_data...\n",
            "[nltk_data]   Package mac_morpho is already up-to-date!\n",
            "[nltk_data] Downloading package machado to /root/nltk_data...\n",
            "[nltk_data]   Package machado is already up-to-date!\n",
            "[nltk_data] Downloading package punkt to /root/nltk_data...\n",
            "[nltk_data]   Package punkt is already up-to-date!\n",
            "[nltk_data] Downloading package stopwords to /root/nltk_data...\n",
            "[nltk_data]   Package stopwords is already up-to-date!\n",
            "[nltk_data] Downloading package wordnet to /root/nltk_data...\n",
            "[nltk_data]   Package wordnet is already up-to-date!\n",
            "[nltk_data] Downloading package words to /root/nltk_data...\n",
            "[nltk_data]   Package words is already up-to-date!\n"
          ],
          "name": "stdout"
        },
        {
          "output_type": "execute_result",
          "data": {
            "text/plain": [
              "True"
            ]
          },
          "metadata": {
            "tags": []
          },
          "execution_count": 22
        }
      ]
    },
    {
      "cell_type": "code",
      "metadata": {
        "colab": {
          "base_uri": "https://localhost:8080/",
          "height": 0
        },
        "id": "w5Pm4HNZE2UY",
        "outputId": "47156326-0157-418b-c7cd-3a6a236f98da"
      },
      "source": [
        "#Importando as bibliotecas\r\n",
        "from wordcloud import WordCloud, ImageColorGenerator\r\n",
        "import matplotlib.pyplot as plt\r\n",
        "from matplotlib.colors import ListedColormap\r\n",
        "from nltk.corpus import stopwords\r\n",
        "from string import punctuation\r\n",
        "stopwords = set(stopwords.words(\"portuguese\") + list(punctuation))\r\n",
        "\r\n",
        "dados.dropna(subset=[5], axis=0, inplace = True)\r\n",
        "\r\n",
        "expectativas = dados[5]\r\n",
        "\r\n",
        "#Colocando todas as linhas em apenas uma string e separadas por um espaço \" \"\r\n",
        "expectativas_juntas = \" \".join(q for q in expectativas)\r\n",
        "\r\n",
        "#Existem algumas palavras que não contidas neste conjunto da biblioteca, \r\n",
        "#sendo assim, as principais palavras não contidas no conjunto serão atribuídas à variável \"stopwords\"\r\n",
        "\r\n",
        "#Retirando as stopwords\r\n",
        "stopwords = nltk.corpus.stopwords.words(\"portuguese\")\r\n",
        "adiciona_stopwords = [\"pois\", \"desde\", \"coisas\", \"todos\", \"dentro\", \"muitos\", \"Impresa\", \"bom\", \"esperava\", \"ser\"]\r\n",
        "stopwords = stopwords + adiciona_stopwords\r\n",
        "\r\n",
        "#Definindo o mapa de cores\r\n",
        "cmap = ListedColormap ([\"blue\", \"magenta\", \"green\", \"orange\"])\r\n",
        "\r\n",
        "#Gerando a nuvem de palavras\r\n",
        "wordcloud = WordCloud(stopwords=stopwords, background_color=\"white\", max_words=50, colormap=cmap, width=1600, height=800).generate(expectativas_juntas)\r\n",
        "\r\n",
        "#Gerando a imagem\r\n",
        "fig, ax = plt.subplots(figsize=(16,8))            \r\n",
        "ax.imshow(wordcloud, interpolation='bilinear')       \r\n",
        "ax.set_axis_off()"
      ],
      "execution_count": 23,
      "outputs": [
        {
          "output_type": "display_data",
          "data": {
            "image/png": "[encoded data removed]",
            "text/plain": [
              "<Figure size 1152x576 with 1 Axes>"
            ]
          },
          "metadata": {
            "tags": [],
            "needs_background": "light"
          }
        }
      ]
    },
    {
      "cell_type": "markdown",
      "metadata": {
        "id": "n6Df1-CCE9-S"
      },
      "source": [
        "A partir da nuvem de palavras, é possível observar que as expectativas dos funcionários quando foram trabalhar na empresa eram sobretudo crescimento profissional, aprendizado e adquirir conhecimento."
      ]
    },
    {
      "cell_type": "markdown",
      "metadata": {
        "id": "irKeKNtSFbkD"
      },
      "source": [
        "### Será que essas expectativas foram alcançadas?"
      ]
    },
    {
      "cell_type": "code",
      "metadata": {
        "colab": {
          "base_uri": "https://localhost:8080/",
          "height": 0
        },
        "id": "VltGG6ECET4z",
        "outputId": "c6cd2d68-bdc6-4457-e08a-be49bbcac2cc"
      },
      "source": [
        "frequencia = round(dados[6].value_counts(), 2)\r\n",
        "percentual = round(dados[6].value_counts(normalize = True) * 100, 2)\r\n",
        "tabela_frequencia = pd.DataFrame({\"Frequência\" : frequencia, \"Percentual\" : percentual})\r\n",
        "index = tabela_frequencia.index\r\n",
        "index.name = \"Considerando suas expectativas, você considera que trabalhar aqui é:\"\r\n",
        "tabela_frequencia"
      ],
      "execution_count": 24,
      "outputs": [
        {
          "output_type": "execute_result",
          "data": {
            "text/html": [
              "<div>\n",
              "<style scoped>\n",
              "    .dataframe tbody tr th:only-of-type {\n",
              "        vertical-align: middle;\n",
              "    }\n",
              "\n",
              "    .dataframe tbody tr th {\n",
              "        vertical-align: top;\n",
              "    }\n",
              "\n",
              "    .dataframe thead th {\n",
              "        text-align: right;\n",
              "    }\n",
              "</style>\n",
              "<table border=\"1\" class=\"dataframe\">\n",
              "  <thead>\n",
              "    <tr style=\"text-align: right;\">\n",
              "      <th></th>\n",
              "      <th>Frequência</th>\n",
              "      <th>Percentual</th>\n",
              "    </tr>\n",
              "    <tr>\n",
              "      <th>Considerando suas expectativas, você considera que trabalhar aqui é:</th>\n",
              "      <th></th>\n",
              "      <th></th>\n",
              "    </tr>\n",
              "  </thead>\n",
              "  <tbody>\n",
              "    <tr>\n",
              "      <th>É o que esperava</th>\n",
              "      <td>21</td>\n",
              "      <td>43.75</td>\n",
              "    </tr>\n",
              "    <tr>\n",
              "      <th>É muito melhor do que esperava</th>\n",
              "      <td>11</td>\n",
              "      <td>22.92</td>\n",
              "    </tr>\n",
              "    <tr>\n",
              "      <th>É melhor do que esperava</th>\n",
              "      <td>8</td>\n",
              "      <td>16.67</td>\n",
              "    </tr>\n",
              "    <tr>\n",
              "      <th>É pior que esperava</th>\n",
              "      <td>7</td>\n",
              "      <td>14.58</td>\n",
              "    </tr>\n",
              "    <tr>\n",
              "      <th>É muito pior do que esperava</th>\n",
              "      <td>1</td>\n",
              "      <td>2.08</td>\n",
              "    </tr>\n",
              "  </tbody>\n",
              "</table>\n",
              "</div>"
            ],
            "text/plain": [
              "                                                    Frequência  Percentual\n",
              "Considerando suas expectativas, você considera ...                        \n",
              "É o que esperava                                            21       43.75\n",
              "É muito melhor do que esperava                              11       22.92\n",
              "É melhor do que esperava                                     8       16.67\n",
              "É pior que esperava                                          7       14.58\n",
              "É muito pior do que esperava                                 1        2.08"
            ]
          },
          "metadata": {
            "tags": []
          },
          "execution_count": 24
        }
      ]
    },
    {
      "cell_type": "code",
      "metadata": {
        "colab": {
          "base_uri": "https://localhost:8080/",
          "height": 0
        },
        "id": "gN0vXoaBJKUe",
        "outputId": "558c914a-62c4-4471-fa20-dc35155f7d78"
      },
      "source": [
        "frequencia_cruzada = pd.crosstab(dados[1], dados[6])\r\n",
        "\r\n",
        "frequencia_cruzada.rename_axis(\"Em qual grupo sua função está?\", axis=0, inplace = True)\r\n",
        "frequencia_cruzada.rename_axis(\"Considerando suas expectativas, você considera que trabalhar aqui é:\", axis=1, inplace = True)\r\n",
        "\r\n",
        "frequencia_cruzada.round(2)"
      ],
      "execution_count": 25,
      "outputs": [
        {
          "output_type": "execute_result",
          "data": {
            "text/html": [
              "<div>\n",
              "<style scoped>\n",
              "    .dataframe tbody tr th:only-of-type {\n",
              "        vertical-align: middle;\n",
              "    }\n",
              "\n",
              "    .dataframe tbody tr th {\n",
              "        vertical-align: top;\n",
              "    }\n",
              "\n",
              "    .dataframe thead th {\n",
              "        text-align: right;\n",
              "    }\n",
              "</style>\n",
              "<table border=\"1\" class=\"dataframe\">\n",
              "  <thead>\n",
              "    <tr style=\"text-align: right;\">\n",
              "      <th>Considerando suas expectativas, você considera que trabalhar aqui é:</th>\n",
              "      <th>É melhor do que esperava</th>\n",
              "      <th>É muito melhor do que esperava</th>\n",
              "      <th>É muito pior do que esperava</th>\n",
              "      <th>É o que esperava</th>\n",
              "      <th>É pior que esperava</th>\n",
              "    </tr>\n",
              "    <tr>\n",
              "      <th>Em qual grupo sua função está?</th>\n",
              "      <th></th>\n",
              "      <th></th>\n",
              "      <th></th>\n",
              "      <th></th>\n",
              "      <th></th>\n",
              "    </tr>\n",
              "  </thead>\n",
              "  <tbody>\n",
              "    <tr>\n",
              "      <th>Grupo 1</th>\n",
              "      <td>5</td>\n",
              "      <td>5</td>\n",
              "      <td>0</td>\n",
              "      <td>12</td>\n",
              "      <td>3</td>\n",
              "    </tr>\n",
              "    <tr>\n",
              "      <th>Grupo 2</th>\n",
              "      <td>0</td>\n",
              "      <td>2</td>\n",
              "      <td>1</td>\n",
              "      <td>2</td>\n",
              "      <td>2</td>\n",
              "    </tr>\n",
              "    <tr>\n",
              "      <th>Grupo 3</th>\n",
              "      <td>3</td>\n",
              "      <td>2</td>\n",
              "      <td>0</td>\n",
              "      <td>7</td>\n",
              "      <td>2</td>\n",
              "    </tr>\n",
              "    <tr>\n",
              "      <th>Grupo 4</th>\n",
              "      <td>0</td>\n",
              "      <td>1</td>\n",
              "      <td>0</td>\n",
              "      <td>0</td>\n",
              "      <td>0</td>\n",
              "    </tr>\n",
              "    <tr>\n",
              "      <th>Grupo 5</th>\n",
              "      <td>0</td>\n",
              "      <td>1</td>\n",
              "      <td>0</td>\n",
              "      <td>0</td>\n",
              "      <td>0</td>\n",
              "    </tr>\n",
              "  </tbody>\n",
              "</table>\n",
              "</div>"
            ],
            "text/plain": [
              "Considerando suas expectativas, você considera que trabalhar aqui é:  É melhor do que esperava  ...  É pior que esperava\n",
              "Em qual grupo sua função está?                                                                  ...                     \n",
              "Grupo 1                                                                                      5  ...                    3\n",
              "Grupo 2                                                                                      0  ...                    2\n",
              "Grupo 3                                                                                      3  ...                    2\n",
              "Grupo 4                                                                                      0  ...                    0\n",
              "Grupo 5                                                                                      0  ...                    0\n",
              "\n",
              "[5 rows x 5 columns]"
            ]
          },
          "metadata": {
            "tags": []
          },
          "execution_count": 25
        }
      ]
    },
    {
      "cell_type": "markdown",
      "metadata": {
        "id": "0vzp-iXLN3by"
      },
      "source": [
        "- Para a maior parte dos funcionários, o trabalho está dentro do esperado.\r\n",
        "- Para os funcionários nos cargos mais altos, o trabalho é muito melhor do que o esperado.\r\n",
        "- Apenas um funcionário declarou que é muito pior do que o esperado e ele está no Grupo 2.\r\n",
        "- O grupo em que o trabalho mais superou as expectativas foi o Grupo 1."
      ]
    },
    {
      "cell_type": "markdown",
      "metadata": {
        "id": "gGfRfpNuXTuX"
      },
      "source": [
        "## Como está o conhecimento sobre o andamento da empresa, metas e objetivos?"
      ]
    },
    {
      "cell_type": "code",
      "metadata": {
        "colab": {
          "base_uri": "https://localhost:8080/",
          "height": 0
        },
        "id": "h28zM9sTOjxk",
        "outputId": "9dc911c0-2007-4393-d66d-b57689811257"
      },
      "source": [
        "frequencia = round(dados[8].value_counts(), 2)\r\n",
        "percentual = round(dados[8].value_counts(normalize = True) * 100, 2)\r\n",
        "tabela_frequencia = pd.DataFrame({\"Frequência\" : frequencia, \"Percentual\" : percentual})\r\n",
        "index = tabela_frequencia.index\r\n",
        "index.name = \"Você conhece os procedimentos da sua função?\"\r\n",
        "tabela_frequencia"
      ],
      "execution_count": 26,
      "outputs": [
        {
          "output_type": "execute_result",
          "data": {
            "text/html": [
              "<div>\n",
              "<style scoped>\n",
              "    .dataframe tbody tr th:only-of-type {\n",
              "        vertical-align: middle;\n",
              "    }\n",
              "\n",
              "    .dataframe tbody tr th {\n",
              "        vertical-align: top;\n",
              "    }\n",
              "\n",
              "    .dataframe thead th {\n",
              "        text-align: right;\n",
              "    }\n",
              "</style>\n",
              "<table border=\"1\" class=\"dataframe\">\n",
              "  <thead>\n",
              "    <tr style=\"text-align: right;\">\n",
              "      <th></th>\n",
              "      <th>Frequência</th>\n",
              "      <th>Percentual</th>\n",
              "    </tr>\n",
              "    <tr>\n",
              "      <th>Você conhece os procedimentos da sua função?</th>\n",
              "      <th></th>\n",
              "      <th></th>\n",
              "    </tr>\n",
              "  </thead>\n",
              "  <tbody>\n",
              "    <tr>\n",
              "      <th>5</th>\n",
              "      <td>28</td>\n",
              "      <td>58.33</td>\n",
              "    </tr>\n",
              "    <tr>\n",
              "      <th>4</th>\n",
              "      <td>16</td>\n",
              "      <td>33.33</td>\n",
              "    </tr>\n",
              "    <tr>\n",
              "      <th>3</th>\n",
              "      <td>3</td>\n",
              "      <td>6.25</td>\n",
              "    </tr>\n",
              "    <tr>\n",
              "      <th>2</th>\n",
              "      <td>1</td>\n",
              "      <td>2.08</td>\n",
              "    </tr>\n",
              "  </tbody>\n",
              "</table>\n",
              "</div>"
            ],
            "text/plain": [
              "                                              Frequência  Percentual\n",
              "Você conhece os procedimentos da sua função?                        \n",
              "5                                                     28       58.33\n",
              "4                                                     16       33.33\n",
              "3                                                      3        6.25\n",
              "2                                                      1        2.08"
            ]
          },
          "metadata": {
            "tags": []
          },
          "execution_count": 26
        }
      ]
    },
    {
      "cell_type": "code",
      "metadata": {
        "colab": {
          "base_uri": "https://localhost:8080/",
          "height": 0
        },
        "id": "MMJLJZBKzBdA",
        "outputId": "e2105f57-199e-45ef-9f2d-3c2f977bb55b"
      },
      "source": [
        "frequencia_cruzada = pd.crosstab(dados[1], dados[8])\r\n",
        "\r\n",
        "frequencia_cruzada.rename_axis(\"Em qual grupo sua função está?\", axis=0, inplace = True)\r\n",
        "frequencia_cruzada.rename_axis(\"Você conhece os procedimentos da sua função?\", axis=1, inplace = True)\r\n",
        "\r\n",
        "frequencia_cruzada.round(2)"
      ],
      "execution_count": 27,
      "outputs": [
        {
          "output_type": "execute_result",
          "data": {
            "text/html": [
              "<div>\n",
              "<style scoped>\n",
              "    .dataframe tbody tr th:only-of-type {\n",
              "        vertical-align: middle;\n",
              "    }\n",
              "\n",
              "    .dataframe tbody tr th {\n",
              "        vertical-align: top;\n",
              "    }\n",
              "\n",
              "    .dataframe thead th {\n",
              "        text-align: right;\n",
              "    }\n",
              "</style>\n",
              "<table border=\"1\" class=\"dataframe\">\n",
              "  <thead>\n",
              "    <tr style=\"text-align: right;\">\n",
              "      <th>Você conhece os procedimentos da sua função?</th>\n",
              "      <th>2</th>\n",
              "      <th>3</th>\n",
              "      <th>4</th>\n",
              "      <th>5</th>\n",
              "    </tr>\n",
              "    <tr>\n",
              "      <th>Em qual grupo sua função está?</th>\n",
              "      <th></th>\n",
              "      <th></th>\n",
              "      <th></th>\n",
              "      <th></th>\n",
              "    </tr>\n",
              "  </thead>\n",
              "  <tbody>\n",
              "    <tr>\n",
              "      <th>Grupo 1</th>\n",
              "      <td>1</td>\n",
              "      <td>2</td>\n",
              "      <td>5</td>\n",
              "      <td>17</td>\n",
              "    </tr>\n",
              "    <tr>\n",
              "      <th>Grupo 2</th>\n",
              "      <td>0</td>\n",
              "      <td>1</td>\n",
              "      <td>4</td>\n",
              "      <td>2</td>\n",
              "    </tr>\n",
              "    <tr>\n",
              "      <th>Grupo 3</th>\n",
              "      <td>0</td>\n",
              "      <td>0</td>\n",
              "      <td>6</td>\n",
              "      <td>8</td>\n",
              "    </tr>\n",
              "    <tr>\n",
              "      <th>Grupo 4</th>\n",
              "      <td>0</td>\n",
              "      <td>0</td>\n",
              "      <td>1</td>\n",
              "      <td>0</td>\n",
              "    </tr>\n",
              "    <tr>\n",
              "      <th>Grupo 5</th>\n",
              "      <td>0</td>\n",
              "      <td>0</td>\n",
              "      <td>0</td>\n",
              "      <td>1</td>\n",
              "    </tr>\n",
              "  </tbody>\n",
              "</table>\n",
              "</div>"
            ],
            "text/plain": [
              "Você conhece os procedimentos da sua função?  2  3  4   5\n",
              "Em qual grupo sua função está?                           \n",
              "Grupo 1                                       1  2  5  17\n",
              "Grupo 2                                       0  1  4   2\n",
              "Grupo 3                                       0  0  6   8\n",
              "Grupo 4                                       0  0  1   0\n",
              "Grupo 5                                       0  0  0   1"
            ]
          },
          "metadata": {
            "tags": []
          },
          "execution_count": 27
        }
      ]
    },
    {
      "cell_type": "markdown",
      "metadata": {
        "id": "cVZYnz6-0oHy"
      },
      "source": [
        "- 29 dos 49 funcionários declararam conhecer muito bem os procedimentos da sua função.\r\n",
        "- O menor conhecimento foi declarado por um funcionário do Grupo 1.\r\n",
        "- Ainda assim, a maioria dos melhores informados sobre os procedimentos de sua função também estão no Grupo 1 (61%).\r\n",
        "- Apenas 4 funcionaram responderam 2 e 3, o que significa que 45 responderam 4 e 5, ou sejam, mais de 90% conhece bem os procedimentos da sua função."
      ]
    },
    {
      "cell_type": "code",
      "metadata": {
        "colab": {
          "base_uri": "https://localhost:8080/",
          "height": 0
        },
        "id": "YxhPQaTZO4tB",
        "outputId": "59fbe114-c99c-4b30-d897-ca59f2a3ed33"
      },
      "source": [
        "frequencia = round(dados[9].value_counts(), 2)\r\n",
        "percentual = round(dados[9].value_counts(normalize = True) * 100, 2)\r\n",
        "tabela_frequencia = pd.DataFrame({\"Frequência\" : frequencia, \"Percentual\" : percentual})\r\n",
        "index = tabela_frequencia.index\r\n",
        "index.name = \"As metas e objetivos da sua área são claras para você?\"\r\n",
        "tabela_frequencia"
      ],
      "execution_count": 28,
      "outputs": [
        {
          "output_type": "execute_result",
          "data": {
            "text/html": [
              "<div>\n",
              "<style scoped>\n",
              "    .dataframe tbody tr th:only-of-type {\n",
              "        vertical-align: middle;\n",
              "    }\n",
              "\n",
              "    .dataframe tbody tr th {\n",
              "        vertical-align: top;\n",
              "    }\n",
              "\n",
              "    .dataframe thead th {\n",
              "        text-align: right;\n",
              "    }\n",
              "</style>\n",
              "<table border=\"1\" class=\"dataframe\">\n",
              "  <thead>\n",
              "    <tr style=\"text-align: right;\">\n",
              "      <th></th>\n",
              "      <th>Frequência</th>\n",
              "      <th>Percentual</th>\n",
              "    </tr>\n",
              "    <tr>\n",
              "      <th>As metas e objetivos da sua área são claras para você?</th>\n",
              "      <th></th>\n",
              "      <th></th>\n",
              "    </tr>\n",
              "  </thead>\n",
              "  <tbody>\n",
              "    <tr>\n",
              "      <th>5</th>\n",
              "      <td>32</td>\n",
              "      <td>66.67</td>\n",
              "    </tr>\n",
              "    <tr>\n",
              "      <th>4</th>\n",
              "      <td>7</td>\n",
              "      <td>14.58</td>\n",
              "    </tr>\n",
              "    <tr>\n",
              "      <th>3</th>\n",
              "      <td>7</td>\n",
              "      <td>14.58</td>\n",
              "    </tr>\n",
              "    <tr>\n",
              "      <th>2</th>\n",
              "      <td>1</td>\n",
              "      <td>2.08</td>\n",
              "    </tr>\n",
              "    <tr>\n",
              "      <th>1</th>\n",
              "      <td>1</td>\n",
              "      <td>2.08</td>\n",
              "    </tr>\n",
              "  </tbody>\n",
              "</table>\n",
              "</div>"
            ],
            "text/plain": [
              "                                                    Frequência  Percentual\n",
              "As metas e objetivos da sua área são claras par...                        \n",
              "5                                                           32       66.67\n",
              "4                                                            7       14.58\n",
              "3                                                            7       14.58\n",
              "2                                                            1        2.08\n",
              "1                                                            1        2.08"
            ]
          },
          "metadata": {
            "tags": []
          },
          "execution_count": 28
        }
      ]
    },
    {
      "cell_type": "code",
      "metadata": {
        "colab": {
          "base_uri": "https://localhost:8080/",
          "height": 0
        },
        "id": "epLK414g0zs_",
        "outputId": "34616bdd-8c3b-42ad-bfd1-c4534f8276fd"
      },
      "source": [
        "frequencia_cruzada = pd.crosstab(dados[1], dados[9])\r\n",
        "\r\n",
        "frequencia_cruzada.rename_axis(\"Em qual grupo sua função está?\", axis=0, inplace = True)\r\n",
        "frequencia_cruzada.rename_axis(\"As metas e objetivos da sua área são claras para você?\", axis=1, inplace = True)\r\n",
        "\r\n",
        "frequencia_cruzada.round(2)"
      ],
      "execution_count": 29,
      "outputs": [
        {
          "output_type": "execute_result",
          "data": {
            "text/html": [
              "<div>\n",
              "<style scoped>\n",
              "    .dataframe tbody tr th:only-of-type {\n",
              "        vertical-align: middle;\n",
              "    }\n",
              "\n",
              "    .dataframe tbody tr th {\n",
              "        vertical-align: top;\n",
              "    }\n",
              "\n",
              "    .dataframe thead th {\n",
              "        text-align: right;\n",
              "    }\n",
              "</style>\n",
              "<table border=\"1\" class=\"dataframe\">\n",
              "  <thead>\n",
              "    <tr style=\"text-align: right;\">\n",
              "      <th>As metas e objetivos da sua área são claras para você?</th>\n",
              "      <th>1</th>\n",
              "      <th>2</th>\n",
              "      <th>3</th>\n",
              "      <th>4</th>\n",
              "      <th>5</th>\n",
              "    </tr>\n",
              "    <tr>\n",
              "      <th>Em qual grupo sua função está?</th>\n",
              "      <th></th>\n",
              "      <th></th>\n",
              "      <th></th>\n",
              "      <th></th>\n",
              "      <th></th>\n",
              "    </tr>\n",
              "  </thead>\n",
              "  <tbody>\n",
              "    <tr>\n",
              "      <th>Grupo 1</th>\n",
              "      <td>1</td>\n",
              "      <td>1</td>\n",
              "      <td>2</td>\n",
              "      <td>3</td>\n",
              "      <td>18</td>\n",
              "    </tr>\n",
              "    <tr>\n",
              "      <th>Grupo 2</th>\n",
              "      <td>0</td>\n",
              "      <td>0</td>\n",
              "      <td>3</td>\n",
              "      <td>2</td>\n",
              "      <td>2</td>\n",
              "    </tr>\n",
              "    <tr>\n",
              "      <th>Grupo 3</th>\n",
              "      <td>0</td>\n",
              "      <td>0</td>\n",
              "      <td>2</td>\n",
              "      <td>1</td>\n",
              "      <td>11</td>\n",
              "    </tr>\n",
              "    <tr>\n",
              "      <th>Grupo 4</th>\n",
              "      <td>0</td>\n",
              "      <td>0</td>\n",
              "      <td>0</td>\n",
              "      <td>1</td>\n",
              "      <td>0</td>\n",
              "    </tr>\n",
              "    <tr>\n",
              "      <th>Grupo 5</th>\n",
              "      <td>0</td>\n",
              "      <td>0</td>\n",
              "      <td>0</td>\n",
              "      <td>0</td>\n",
              "      <td>1</td>\n",
              "    </tr>\n",
              "  </tbody>\n",
              "</table>\n",
              "</div>"
            ],
            "text/plain": [
              "As metas e objetivos da sua área são claras para você?  1  2  3  4   5\n",
              "Em qual grupo sua função está?                                        \n",
              "Grupo 1                                                 1  1  2  3  18\n",
              "Grupo 2                                                 0  0  3  2   2\n",
              "Grupo 3                                                 0  0  2  1  11\n",
              "Grupo 4                                                 0  0  0  1   0\n",
              "Grupo 5                                                 0  0  0  0   1"
            ]
          },
          "metadata": {
            "tags": []
          },
          "execution_count": 29
        }
      ]
    },
    {
      "cell_type": "markdown",
      "metadata": {
        "id": "widBKBip41WE"
      },
      "source": [
        "- Apenas duas pessoas, ambas do Grupo 1, declararam não ter muita clareza sobre as metas e objetivos da sua área.\r\n",
        "- 40 dos 49 funcionários sabem com clareza as metas e objetivos de suas respectivas áreas.\r\n",
        "- Os funcionários que tem mais clareza sobre as metas e objetivos estão nos Grupos 1 e 3."
      ]
    },
    {
      "cell_type": "code",
      "metadata": {
        "colab": {
          "base_uri": "https://localhost:8080/",
          "height": 0
        },
        "id": "Ys6IMlchQ0Zl",
        "outputId": "fdbebb5d-d4cd-4b69-c507-495957636003"
      },
      "source": [
        "frequencia = round(dados[10].value_counts(), 2)\r\n",
        "percentual = round(dados[10].value_counts(normalize = True) * 100, 2)\r\n",
        "tabela_frequencia = pd.DataFrame({\"Frequência\" : frequencia, \"Percentual\" : percentual})\r\n",
        "index = tabela_frequencia.index\r\n",
        "index.name = \"Como é para você acompanhar o andamento das suas metas?\"\r\n",
        "tabela_frequencia"
      ],
      "execution_count": 30,
      "outputs": [
        {
          "output_type": "execute_result",
          "data": {
            "text/html": [
              "<div>\n",
              "<style scoped>\n",
              "    .dataframe tbody tr th:only-of-type {\n",
              "        vertical-align: middle;\n",
              "    }\n",
              "\n",
              "    .dataframe tbody tr th {\n",
              "        vertical-align: top;\n",
              "    }\n",
              "\n",
              "    .dataframe thead th {\n",
              "        text-align: right;\n",
              "    }\n",
              "</style>\n",
              "<table border=\"1\" class=\"dataframe\">\n",
              "  <thead>\n",
              "    <tr style=\"text-align: right;\">\n",
              "      <th></th>\n",
              "      <th>Frequência</th>\n",
              "      <th>Percentual</th>\n",
              "    </tr>\n",
              "    <tr>\n",
              "      <th>Como é para você acompanhar o andamento das suas metas?</th>\n",
              "      <th></th>\n",
              "      <th></th>\n",
              "    </tr>\n",
              "  </thead>\n",
              "  <tbody>\n",
              "    <tr>\n",
              "      <th>5</th>\n",
              "      <td>17</td>\n",
              "      <td>35.42</td>\n",
              "    </tr>\n",
              "    <tr>\n",
              "      <th>4</th>\n",
              "      <td>14</td>\n",
              "      <td>29.17</td>\n",
              "    </tr>\n",
              "    <tr>\n",
              "      <th>3</th>\n",
              "      <td>9</td>\n",
              "      <td>18.75</td>\n",
              "    </tr>\n",
              "    <tr>\n",
              "      <th>2</th>\n",
              "      <td>5</td>\n",
              "      <td>10.42</td>\n",
              "    </tr>\n",
              "    <tr>\n",
              "      <th>1</th>\n",
              "      <td>3</td>\n",
              "      <td>6.25</td>\n",
              "    </tr>\n",
              "  </tbody>\n",
              "</table>\n",
              "</div>"
            ],
            "text/plain": [
              "                                                    Frequência  Percentual\n",
              "Como é para você acompanhar o andamento das sua...                        \n",
              "5                                                           17       35.42\n",
              "4                                                           14       29.17\n",
              "3                                                            9       18.75\n",
              "2                                                            5       10.42\n",
              "1                                                            3        6.25"
            ]
          },
          "metadata": {
            "tags": []
          },
          "execution_count": 30
        }
      ]
    },
    {
      "cell_type": "code",
      "metadata": {
        "colab": {
          "base_uri": "https://localhost:8080/",
          "height": 0
        },
        "id": "sderubgq51ve",
        "outputId": "8c49934e-31d3-49aa-f08e-4dfe27a7b3c8"
      },
      "source": [
        "frequencia_cruzada = pd.crosstab(dados[1], dados[10])\r\n",
        "\r\n",
        "frequencia_cruzada.rename_axis(\"Em qual grupo sua função está?\", axis=0, inplace = True)\r\n",
        "frequencia_cruzada.rename_axis(\"Como é para você acompanhar o andamento das suas metas?\", axis=1, inplace = True)\r\n",
        "\r\n",
        "frequencia_cruzada.round(2)"
      ],
      "execution_count": 31,
      "outputs": [
        {
          "output_type": "execute_result",
          "data": {
            "text/html": [
              "<div>\n",
              "<style scoped>\n",
              "    .dataframe tbody tr th:only-of-type {\n",
              "        vertical-align: middle;\n",
              "    }\n",
              "\n",
              "    .dataframe tbody tr th {\n",
              "        vertical-align: top;\n",
              "    }\n",
              "\n",
              "    .dataframe thead th {\n",
              "        text-align: right;\n",
              "    }\n",
              "</style>\n",
              "<table border=\"1\" class=\"dataframe\">\n",
              "  <thead>\n",
              "    <tr style=\"text-align: right;\">\n",
              "      <th>Como é para você acompanhar o andamento das suas metas?</th>\n",
              "      <th>1</th>\n",
              "      <th>2</th>\n",
              "      <th>3</th>\n",
              "      <th>4</th>\n",
              "      <th>5</th>\n",
              "    </tr>\n",
              "    <tr>\n",
              "      <th>Em qual grupo sua função está?</th>\n",
              "      <th></th>\n",
              "      <th></th>\n",
              "      <th></th>\n",
              "      <th></th>\n",
              "      <th></th>\n",
              "    </tr>\n",
              "  </thead>\n",
              "  <tbody>\n",
              "    <tr>\n",
              "      <th>Grupo 1</th>\n",
              "      <td>2</td>\n",
              "      <td>2</td>\n",
              "      <td>5</td>\n",
              "      <td>6</td>\n",
              "      <td>10</td>\n",
              "    </tr>\n",
              "    <tr>\n",
              "      <th>Grupo 2</th>\n",
              "      <td>0</td>\n",
              "      <td>2</td>\n",
              "      <td>1</td>\n",
              "      <td>2</td>\n",
              "      <td>2</td>\n",
              "    </tr>\n",
              "    <tr>\n",
              "      <th>Grupo 3</th>\n",
              "      <td>1</td>\n",
              "      <td>0</td>\n",
              "      <td>3</td>\n",
              "      <td>6</td>\n",
              "      <td>4</td>\n",
              "    </tr>\n",
              "    <tr>\n",
              "      <th>Grupo 4</th>\n",
              "      <td>0</td>\n",
              "      <td>1</td>\n",
              "      <td>0</td>\n",
              "      <td>0</td>\n",
              "      <td>0</td>\n",
              "    </tr>\n",
              "    <tr>\n",
              "      <th>Grupo 5</th>\n",
              "      <td>0</td>\n",
              "      <td>0</td>\n",
              "      <td>0</td>\n",
              "      <td>0</td>\n",
              "      <td>1</td>\n",
              "    </tr>\n",
              "  </tbody>\n",
              "</table>\n",
              "</div>"
            ],
            "text/plain": [
              "Como é para você acompanhar o andamento das suas metas?  1  2  3  4   5\n",
              "Em qual grupo sua função está?                                         \n",
              "Grupo 1                                                  2  2  5  6  10\n",
              "Grupo 2                                                  0  2  1  2   2\n",
              "Grupo 3                                                  1  0  3  6   4\n",
              "Grupo 4                                                  0  1  0  0   0\n",
              "Grupo 5                                                  0  0  0  0   1"
            ]
          },
          "metadata": {
            "tags": []
          },
          "execution_count": 31
        }
      ]
    },
    {
      "cell_type": "markdown",
      "metadata": {
        "id": "JTY3ykQu52YQ"
      },
      "source": [
        "- Funcionários do Grupo 1 são os que mais têm dificuldades para acompanhar o andamento das suas metas.\r\n",
        "- O funcionário do Grupo 4 declarou não ter tanta clareza sobre os andamentos das suas metas mesmo tendo um cargo mais alto na empresa.\r\n",
        "- Um número menor de funcionários tem facilidade para acompanhar o andamento das suas metas, 32 dos 49 funcionários.\r\n",
        "- As pessoas com maior facilidade em acompanhar o andamento das suas metas estão nos Grupos 1 e 3."
      ]
    },
    {
      "cell_type": "markdown",
      "metadata": {
        "id": "iXCBs0Z9Y1AU"
      },
      "source": [
        "## Os funcionários que se dizem mais informados se informam por mais de um meio? E os menos informados?"
      ]
    },
    {
      "cell_type": "code",
      "metadata": {
        "colab": {
          "base_uri": "https://localhost:8080/",
          "height": 235
        },
        "id": "ZvGi_pGKkJYk",
        "outputId": "85019a8a-99b0-4910-dd7a-e3783fdbeb78"
      },
      "source": [
        "frequencia = round(dados[11].value_counts(), 2)\r\n",
        "percentual = round(dados[11].value_counts(normalize = True) * 100, 2)\r\n",
        "tabela_frequencia = pd.DataFrame({\"Frequência\" : frequencia, \"Percentual\" : percentual})\r\n",
        "index = tabela_frequencia.index\r\n",
        "index.name = \"Quanto você se considera informado sobre o que acontece na empresa atualmente?\"\r\n",
        "tabela_frequencia"
      ],
      "execution_count": 32,
      "outputs": [
        {
          "output_type": "execute_result",
          "data": {
            "text/html": [
              "<div>\n",
              "<style scoped>\n",
              "    .dataframe tbody tr th:only-of-type {\n",
              "        vertical-align: middle;\n",
              "    }\n",
              "\n",
              "    .dataframe tbody tr th {\n",
              "        vertical-align: top;\n",
              "    }\n",
              "\n",
              "    .dataframe thead th {\n",
              "        text-align: right;\n",
              "    }\n",
              "</style>\n",
              "<table border=\"1\" class=\"dataframe\">\n",
              "  <thead>\n",
              "    <tr style=\"text-align: right;\">\n",
              "      <th></th>\n",
              "      <th>Frequência</th>\n",
              "      <th>Percentual</th>\n",
              "    </tr>\n",
              "    <tr>\n",
              "      <th>Quanto você se considera informado sobre o que acontece na empresa atualmente?</th>\n",
              "      <th></th>\n",
              "      <th></th>\n",
              "    </tr>\n",
              "  </thead>\n",
              "  <tbody>\n",
              "    <tr>\n",
              "      <th>3</th>\n",
              "      <td>21</td>\n",
              "      <td>43.75</td>\n",
              "    </tr>\n",
              "    <tr>\n",
              "      <th>4</th>\n",
              "      <td>14</td>\n",
              "      <td>29.17</td>\n",
              "    </tr>\n",
              "    <tr>\n",
              "      <th>2</th>\n",
              "      <td>7</td>\n",
              "      <td>14.58</td>\n",
              "    </tr>\n",
              "    <tr>\n",
              "      <th>5</th>\n",
              "      <td>5</td>\n",
              "      <td>10.42</td>\n",
              "    </tr>\n",
              "    <tr>\n",
              "      <th>1</th>\n",
              "      <td>1</td>\n",
              "      <td>2.08</td>\n",
              "    </tr>\n",
              "  </tbody>\n",
              "</table>\n",
              "</div>"
            ],
            "text/plain": [
              "                                                    Frequência  Percentual\n",
              "Quanto você se considera informado sobre o que ...                        \n",
              "3                                                           21       43.75\n",
              "4                                                           14       29.17\n",
              "2                                                            7       14.58\n",
              "5                                                            5       10.42\n",
              "1                                                            1        2.08"
            ]
          },
          "metadata": {
            "tags": []
          },
          "execution_count": 32
        }
      ]
    },
    {
      "cell_type": "code",
      "metadata": {
        "colab": {
          "base_uri": "https://localhost:8080/",
          "height": 235
        },
        "id": "za4GsVBD53wW",
        "outputId": "b59398c7-cfa5-47bf-9c38-ee0795d0bea1"
      },
      "source": [
        "frequencia_cruzada = pd.crosstab(dados[1], dados[11])\r\n",
        "\r\n",
        "frequencia_cruzada.rename_axis(\"Em qual grupo sua função está?\", axis=0, inplace = True)\r\n",
        "frequencia_cruzada.rename_axis(\"Quanto você se considera informado sobre o que acontece na empresa atualmente?\", axis=1, inplace = True)\r\n",
        "\r\n",
        "frequencia_cruzada.round(2)"
      ],
      "execution_count": 33,
      "outputs": [
        {
          "output_type": "execute_result",
          "data": {
            "text/html": [
              "<div>\n",
              "<style scoped>\n",
              "    .dataframe tbody tr th:only-of-type {\n",
              "        vertical-align: middle;\n",
              "    }\n",
              "\n",
              "    .dataframe tbody tr th {\n",
              "        vertical-align: top;\n",
              "    }\n",
              "\n",
              "    .dataframe thead th {\n",
              "        text-align: right;\n",
              "    }\n",
              "</style>\n",
              "<table border=\"1\" class=\"dataframe\">\n",
              "  <thead>\n",
              "    <tr style=\"text-align: right;\">\n",
              "      <th>Quanto você se considera informado sobre o que acontece na empresa atualmente?</th>\n",
              "      <th>1</th>\n",
              "      <th>2</th>\n",
              "      <th>3</th>\n",
              "      <th>4</th>\n",
              "      <th>5</th>\n",
              "    </tr>\n",
              "    <tr>\n",
              "      <th>Em qual grupo sua função está?</th>\n",
              "      <th></th>\n",
              "      <th></th>\n",
              "      <th></th>\n",
              "      <th></th>\n",
              "      <th></th>\n",
              "    </tr>\n",
              "  </thead>\n",
              "  <tbody>\n",
              "    <tr>\n",
              "      <th>Grupo 1</th>\n",
              "      <td>1</td>\n",
              "      <td>3</td>\n",
              "      <td>13</td>\n",
              "      <td>6</td>\n",
              "      <td>2</td>\n",
              "    </tr>\n",
              "    <tr>\n",
              "      <th>Grupo 2</th>\n",
              "      <td>0</td>\n",
              "      <td>2</td>\n",
              "      <td>3</td>\n",
              "      <td>1</td>\n",
              "      <td>1</td>\n",
              "    </tr>\n",
              "    <tr>\n",
              "      <th>Grupo 3</th>\n",
              "      <td>0</td>\n",
              "      <td>1</td>\n",
              "      <td>5</td>\n",
              "      <td>7</td>\n",
              "      <td>1</td>\n",
              "    </tr>\n",
              "    <tr>\n",
              "      <th>Grupo 4</th>\n",
              "      <td>0</td>\n",
              "      <td>1</td>\n",
              "      <td>0</td>\n",
              "      <td>0</td>\n",
              "      <td>0</td>\n",
              "    </tr>\n",
              "    <tr>\n",
              "      <th>Grupo 5</th>\n",
              "      <td>0</td>\n",
              "      <td>0</td>\n",
              "      <td>0</td>\n",
              "      <td>0</td>\n",
              "      <td>1</td>\n",
              "    </tr>\n",
              "  </tbody>\n",
              "</table>\n",
              "</div>"
            ],
            "text/plain": [
              "Quanto você se considera informado sobre o que acontece na empresa atualmente?  1  ...  5\n",
              "Em qual grupo sua função está?                                                     ...   \n",
              "Grupo 1                                                                         1  ...  2\n",
              "Grupo 2                                                                         0  ...  1\n",
              "Grupo 3                                                                         0  ...  1\n",
              "Grupo 4                                                                         0  ...  0\n",
              "Grupo 5                                                                         0  ...  1\n",
              "\n",
              "[5 rows x 5 columns]"
            ]
          },
          "metadata": {
            "tags": []
          },
          "execution_count": 33
        }
      ]
    },
    {
      "cell_type": "code",
      "metadata": {
        "id": "1moBR_FAY3Av"
      },
      "source": [
        "dados[\"Como se informa\"] = dados[13]+dados[14]+dados[15]+dados[16]+dados[17]"
      ],
      "execution_count": 34,
      "outputs": []
    },
    {
      "cell_type": "code",
      "metadata": {
        "colab": {
          "base_uri": "https://localhost:8080/",
          "height": 204
        },
        "id": "S249fQ7uD6bC",
        "outputId": "38dd8232-5f19-42b3-fa93-5190eb630bac"
      },
      "source": [
        "frequencia = round(dados[\"Como se informa\"].value_counts(), 2)\r\n",
        "percentual = round(dados[\"Como se informa\"].value_counts(normalize = True) * 100, 2)\r\n",
        "tabela_frequencia = pd.DataFrame({\"Frequência\" : frequencia, \"Percentual\" : percentual})\r\n",
        "index = tabela_frequencia.index\r\n",
        "index.name = \"Por quantos meios você se informa?\"\r\n",
        "tabela_frequencia"
      ],
      "execution_count": 35,
      "outputs": [
        {
          "output_type": "execute_result",
          "data": {
            "text/html": [
              "<div>\n",
              "<style scoped>\n",
              "    .dataframe tbody tr th:only-of-type {\n",
              "        vertical-align: middle;\n",
              "    }\n",
              "\n",
              "    .dataframe tbody tr th {\n",
              "        vertical-align: top;\n",
              "    }\n",
              "\n",
              "    .dataframe thead th {\n",
              "        text-align: right;\n",
              "    }\n",
              "</style>\n",
              "<table border=\"1\" class=\"dataframe\">\n",
              "  <thead>\n",
              "    <tr style=\"text-align: right;\">\n",
              "      <th></th>\n",
              "      <th>Frequência</th>\n",
              "      <th>Percentual</th>\n",
              "    </tr>\n",
              "    <tr>\n",
              "      <th>Por quantos meios você se informa?</th>\n",
              "      <th></th>\n",
              "      <th></th>\n",
              "    </tr>\n",
              "  </thead>\n",
              "  <tbody>\n",
              "    <tr>\n",
              "      <th>1</th>\n",
              "      <td>21</td>\n",
              "      <td>43.75</td>\n",
              "    </tr>\n",
              "    <tr>\n",
              "      <th>2</th>\n",
              "      <td>12</td>\n",
              "      <td>25.00</td>\n",
              "    </tr>\n",
              "    <tr>\n",
              "      <th>3</th>\n",
              "      <td>9</td>\n",
              "      <td>18.75</td>\n",
              "    </tr>\n",
              "    <tr>\n",
              "      <th>4</th>\n",
              "      <td>6</td>\n",
              "      <td>12.50</td>\n",
              "    </tr>\n",
              "  </tbody>\n",
              "</table>\n",
              "</div>"
            ],
            "text/plain": [
              "                                    Frequência  Percentual\n",
              "Por quantos meios você se informa?                        \n",
              "1                                           21       43.75\n",
              "2                                           12       25.00\n",
              "3                                            9       18.75\n",
              "4                                            6       12.50"
            ]
          },
          "metadata": {
            "tags": []
          },
          "execution_count": 35
        }
      ]
    },
    {
      "cell_type": "code",
      "metadata": {
        "colab": {
          "base_uri": "https://localhost:8080/",
          "height": 204
        },
        "id": "LOz5YVb_d5m3",
        "outputId": "04b18615-3236-4af4-fe3e-97b14f9579fd"
      },
      "source": [
        "frequencia_cruzada = pd.crosstab(dados[\"Como se informa\"], dados[11]) \r\n",
        "\r\n",
        "frequencia_cruzada.rename_axis(\"Por quantos meios você se informa?\", axis=0, inplace = True)\r\n",
        "frequencia_cruzada.rename_axis(\"Quanto você se considera informado sobre o que acontece na empresa atualmente?\", axis=1, inplace = True)\r\n",
        "\r\n",
        "frequencia_cruzada"
      ],
      "execution_count": 36,
      "outputs": [
        {
          "output_type": "execute_result",
          "data": {
            "text/html": [
              "<div>\n",
              "<style scoped>\n",
              "    .dataframe tbody tr th:only-of-type {\n",
              "        vertical-align: middle;\n",
              "    }\n",
              "\n",
              "    .dataframe tbody tr th {\n",
              "        vertical-align: top;\n",
              "    }\n",
              "\n",
              "    .dataframe thead th {\n",
              "        text-align: right;\n",
              "    }\n",
              "</style>\n",
              "<table border=\"1\" class=\"dataframe\">\n",
              "  <thead>\n",
              "    <tr style=\"text-align: right;\">\n",
              "      <th>Quanto você se considera informado sobre o que acontece na empresa atualmente?</th>\n",
              "      <th>1</th>\n",
              "      <th>2</th>\n",
              "      <th>3</th>\n",
              "      <th>4</th>\n",
              "      <th>5</th>\n",
              "    </tr>\n",
              "    <tr>\n",
              "      <th>Por quantos meios você se informa?</th>\n",
              "      <th></th>\n",
              "      <th></th>\n",
              "      <th></th>\n",
              "      <th></th>\n",
              "      <th></th>\n",
              "    </tr>\n",
              "  </thead>\n",
              "  <tbody>\n",
              "    <tr>\n",
              "      <th>1</th>\n",
              "      <td>0</td>\n",
              "      <td>3</td>\n",
              "      <td>6</td>\n",
              "      <td>9</td>\n",
              "      <td>3</td>\n",
              "    </tr>\n",
              "    <tr>\n",
              "      <th>2</th>\n",
              "      <td>1</td>\n",
              "      <td>4</td>\n",
              "      <td>7</td>\n",
              "      <td>0</td>\n",
              "      <td>0</td>\n",
              "    </tr>\n",
              "    <tr>\n",
              "      <th>3</th>\n",
              "      <td>0</td>\n",
              "      <td>0</td>\n",
              "      <td>7</td>\n",
              "      <td>2</td>\n",
              "      <td>0</td>\n",
              "    </tr>\n",
              "    <tr>\n",
              "      <th>4</th>\n",
              "      <td>0</td>\n",
              "      <td>0</td>\n",
              "      <td>1</td>\n",
              "      <td>3</td>\n",
              "      <td>2</td>\n",
              "    </tr>\n",
              "  </tbody>\n",
              "</table>\n",
              "</div>"
            ],
            "text/plain": [
              "Quanto você se considera informado sobre o que acontece na empresa atualmente?  1  ...  5\n",
              "Por quantos meios você se informa?                                                 ...   \n",
              "1                                                                               0  ...  3\n",
              "2                                                                               1  ...  0\n",
              "3                                                                               0  ...  0\n",
              "4                                                                               0  ...  2\n",
              "\n",
              "[4 rows x 5 columns]"
            ]
          },
          "metadata": {
            "tags": []
          },
          "execution_count": 36
        }
      ]
    },
    {
      "cell_type": "code",
      "metadata": {
        "colab": {
          "base_uri": "https://localhost:8080/"
        },
        "id": "9SftdlYxCnCT",
        "outputId": "f407a944-89fe-4d93-89cc-f878c8b6c4f3"
      },
      "source": [
        "gestor_lider = (dados[13] == 1).sum()\r\n",
        "colegas = (dados[14] == 1).sum()\r\n",
        "e_mail = (dados[15] == 1).sum()\r\n",
        "informativos_empresa = (dados[16] == 1).sum()\r\n",
        "whatsapp = (dados[17] == 1).sum()\r\n",
        "\r\n",
        "print(f\"Número de funcionários que se informam pelo gestor/líder: {gestor_lider}\")\r\n",
        "print(f\"Número de funcionários que se informam pelos colegas: {colegas}\")\r\n",
        "print(f\"Número de funcionários que se informam por e-mail: {e_mail}\")\r\n",
        "print(f\"Número de funcionários que se informam pelos informativos da empresa: {informativos_empresa}\")\r\n",
        "print(f\"Número de funcionários que se informam pelo WhatsApp: {whatsapp}\")"
      ],
      "execution_count": 37,
      "outputs": [
        {
          "output_type": "stream",
          "text": [
            "Número de funcionários que se informam pelo gestor/líder: 36\n",
            "Número de funcionários que se informam pelos colegas: 18\n",
            "Número de funcionários que se informam por e-mail: 11\n",
            "Número de funcionários que se informam pelos informativos da empresa: 16\n",
            "Número de funcionários que se informam pelo WhatsApp: 15\n"
          ],
          "name": "stdout"
        }
      ]
    },
    {
      "cell_type": "code",
      "metadata": {
        "colab": {
          "base_uri": "https://localhost:8080/"
        },
        "id": "dgmEBbqgGRjg",
        "outputId": "785b16d5-abe9-4d9d-b4b4-5ebf8ae41d7d"
      },
      "source": [
        "#Selecionando os funcionários que se informam por apenas um meio e esse meio é o gestor/líder\r\n",
        "apenas_um_meio_gestor = len(dados.loc[(dados[13] == 1) & (dados[\"Como se informa\"] == 1)])\r\n",
        "apenas_um_meio_gestor"
      ],
      "execution_count": 38,
      "outputs": [
        {
          "output_type": "execute_result",
          "data": {
            "text/plain": [
              "15"
            ]
          },
          "metadata": {
            "tags": []
          },
          "execution_count": 38
        }
      ]
    },
    {
      "cell_type": "code",
      "metadata": {
        "id": "6j_6RKsSZ7rr"
      },
      "source": [
        "#Selecionando apenas os funcionários que se informam por apenas um meio\r\n",
        "um_meio = dados.loc[(dados[\"Como se informa\"] == 1)]"
      ],
      "execution_count": 39,
      "outputs": []
    },
    {
      "cell_type": "markdown",
      "metadata": {
        "id": "D_gVurw7djqZ"
      },
      "source": [
        "- O funcionário do Grupo 4 não se considera bem informado sobre o que acontece na empresa atualmente. Isso é interessante considerando que esse grupo engloba as funções de auditoria, coordenador e supervisor.\r\n",
        "- É bem interessante observar que a maior parte dos funcionários se informa por apenas um meio.\r\n",
        "- E a maioria dos funcionários se informa pelo gestor/líder.\r\n",
        "- Isso pode indicar que existe uma relação bem próxima entre os funcionários e o gestores/líderes.\r\n",
        "- Seria interessante investigar a idade dos funcionários que se informam dessa maneira e o grupo.\r\n",
        "- Selecionando os funcionários que se informam pelo gestor/líder e esse é o único meio pelo qual se informam, temos 16 funcionários.\r\n",
        "- Apenas 11 funcionários se informam por e-mail, o que pode indicar, por exemplo, que existe uma falha da empresa no que diz respeito aos e-mails corporativos, que não existe interesse nesse tipo de comunicação ou que os funcionários não leem os e-mails da empresa.\r\n",
        "- Outro ponto interessante é que mesmo se informando por apenas um meio, cerca de 40% dos funcionários se consideram informados sobre o que acontece na empresa atualmente."
      ]
    },
    {
      "cell_type": "markdown",
      "metadata": {
        "id": "ej4QY61s0QRz"
      },
      "source": [
        "## Qual o sentimento do funcionário em relação a empresa e como ele enxerga o sentimento dos outros funcionários?"
      ]
    },
    {
      "cell_type": "code",
      "metadata": {
        "colab": {
          "base_uri": "https://localhost:8080/",
          "height": 289
        },
        "id": "bhN4bt4a2of8",
        "outputId": "fc72e872-05e4-47b4-8fa9-4806bdc0ab79"
      },
      "source": [
        "frequencia_cruzada = pd.crosstab(dados[21], dados[22], rownames=[\"Sentimento que melhor representa o momento atual da empresa na visão da maioria dos funcionários\"], \r\n",
        "                                 colnames=[\"Sentimento melhor representa o momento atual da empresa para você\"])\r\n",
        "frequencia_cruzada.round(2)"
      ],
      "execution_count": 40,
      "outputs": [
        {
          "output_type": "execute_result",
          "data": {
            "text/html": [
              "<div>\n",
              "<style scoped>\n",
              "    .dataframe tbody tr th:only-of-type {\n",
              "        vertical-align: middle;\n",
              "    }\n",
              "\n",
              "    .dataframe tbody tr th {\n",
              "        vertical-align: top;\n",
              "    }\n",
              "\n",
              "    .dataframe thead th {\n",
              "        text-align: right;\n",
              "    }\n",
              "</style>\n",
              "<table border=\"1\" class=\"dataframe\">\n",
              "  <thead>\n",
              "    <tr style=\"text-align: right;\">\n",
              "      <th>Sentimento melhor representa o momento atual da empresa para você</th>\n",
              "      <th>Afastamento (passividade, saudosismo)</th>\n",
              "      <th>Choque (defensiva, medo)</th>\n",
              "      <th>Empolgação (comprometimento, determinação)</th>\n",
              "      <th>Insegurança (confusão, desânimo)</th>\n",
              "      <th>Interesse (esperança, vontade)</th>\n",
              "      <th>Resistência (raiva, críticas)</th>\n",
              "    </tr>\n",
              "    <tr>\n",
              "      <th>Sentimento que melhor representa o momento atual da empresa na visão da maioria dos funcionários</th>\n",
              "      <th></th>\n",
              "      <th></th>\n",
              "      <th></th>\n",
              "      <th></th>\n",
              "      <th></th>\n",
              "      <th></th>\n",
              "    </tr>\n",
              "  </thead>\n",
              "  <tbody>\n",
              "    <tr>\n",
              "      <th>Afastamento (passividade, saudosismo)</th>\n",
              "      <td>1</td>\n",
              "      <td>0</td>\n",
              "      <td>0</td>\n",
              "      <td>1</td>\n",
              "      <td>1</td>\n",
              "      <td>0</td>\n",
              "    </tr>\n",
              "    <tr>\n",
              "      <th>Empolgação (comprometimento, determinação)</th>\n",
              "      <td>0</td>\n",
              "      <td>0</td>\n",
              "      <td>8</td>\n",
              "      <td>1</td>\n",
              "      <td>3</td>\n",
              "      <td>0</td>\n",
              "    </tr>\n",
              "    <tr>\n",
              "      <th>Insegurança (confusão, desânimo)</th>\n",
              "      <td>1</td>\n",
              "      <td>1</td>\n",
              "      <td>2</td>\n",
              "      <td>3</td>\n",
              "      <td>2</td>\n",
              "      <td>1</td>\n",
              "    </tr>\n",
              "    <tr>\n",
              "      <th>Interesse (esperança, vontade)</th>\n",
              "      <td>0</td>\n",
              "      <td>0</td>\n",
              "      <td>7</td>\n",
              "      <td>3</td>\n",
              "      <td>13</td>\n",
              "      <td>0</td>\n",
              "    </tr>\n",
              "  </tbody>\n",
              "</table>\n",
              "</div>"
            ],
            "text/plain": [
              "Sentimento melhor representa o momento atual da empresa para você  Afastamento (passividade, saudosismo)  ...  Resistência (raiva, críticas)\n",
              "Sentimento que melhor representa o momento atua...                                                        ...                               \n",
              "Afastamento (passividade, saudosismo)                                                                  1  ...                              0\n",
              "Empolgação (comprometimento, determinação)                                                             0  ...                              0\n",
              "Insegurança (confusão, desânimo)                                                                       1  ...                              1\n",
              "Interesse (esperança, vontade)                                                                         0  ...                              0\n",
              "\n",
              "[4 rows x 6 columns]"
            ]
          },
          "metadata": {
            "tags": []
          },
          "execution_count": 40
        }
      ]
    },
    {
      "cell_type": "markdown",
      "metadata": {
        "id": "KXO4bHaDlw4K"
      },
      "source": [
        "- Aqui é interessante olhar o funcionários que tem um sentimento bom em relação ao momento atual da empresa, mas considera que não é assim para a maioria dos funcionários, ou o contrário.\r\n",
        "- Dois funcionários tem o sentimento de empolgação, mas enxerga que a maioria dos funcionários tem o sentimento de insegurança.\r\n",
        "- Um funcionário tem o sentimento de interesse e enxerga que a maioria dos funcionários tem o sentimento de afastamento.\r\n",
        "- Dois funcionários tem o sentimento de interesse e enxerga que a maioria dos funcionários tem o sentimento de insegurança.\r\n",
        "- Um funcionário tem o sentimento de insegurança e enxerga que a maioria dos funcionários tem o sentimento de empolgação.\r\n",
        "- Três funcionários tem o sentimento de insegurança e enxerga que a maioria dos funcionários tem o sentimento de interesse.\r\n",
        "- Esta diferença pode ser devido a algum episódio isolado com algum funcionário ou algum acontecimento em algum grupo específico."
      ]
    },
    {
      "cell_type": "markdown",
      "metadata": {
        "id": "Olsj8T3Lp7Hc"
      },
      "source": [
        "## Nota de engajamento"
      ]
    },
    {
      "cell_type": "code",
      "metadata": {
        "colab": {
          "base_uri": "https://localhost:8080/"
        },
        "id": "Wgvbmzz0p4rQ",
        "outputId": "63e611f9-3056-4a58-85db-8ab6bddbbab9"
      },
      "source": [
        "dados[20].describe()"
      ],
      "execution_count": 41,
      "outputs": [
        {
          "output_type": "execute_result",
          "data": {
            "text/plain": [
              "count    48.000000\n",
              "mean      3.993012\n",
              "std       0.580954\n",
              "min       2.566595\n",
              "25%       3.679239\n",
              "50%       4.114105\n",
              "75%       4.435227\n",
              "max       4.894444\n",
              "Name: 20, dtype: float64"
            ]
          },
          "metadata": {
            "tags": []
          },
          "execution_count": 41
        }
      ]
    },
    {
      "cell_type": "code",
      "metadata": {
        "colab": {
          "base_uri": "https://localhost:8080/",
          "height": 416
        },
        "id": "j68tZH92qLEA",
        "outputId": "2460c7bb-7b34-4df6-d65f-4c6fdf510d41"
      },
      "source": [
        "#Plotando o gráfico\r\n",
        "plt.figure(figsize=(12,6))\r\n",
        "\r\n",
        "with plt.style.context('ggplot'):\r\n",
        "  ax = sns.boxplot(x=dados[20])\r\n",
        "\r\n",
        "#Formatando o gráfico\r\n",
        "plt.xlabel(\"Nota de engajamento\", color = \"k\", size=14)\r\n",
        "plt.ylabel(\"\", color = \"k\", size=14)\r\n",
        "plt.xticks(color=\"k\", fontsize=12)\r\n",
        "plt.yticks(color=\"k\", fontsize=12)\r\n",
        "plt.title(\"Nota de engajamento dos funcionários\", fontsize=18)\r\n",
        "\r\n",
        "plt.show()"
      ],
      "execution_count": 42,
      "outputs": [
        {
          "output_type": "display_data",
          "data": {
            "image/png": "[encoded data removed]",
            "text/plain": [
              "<Figure size 864x432 with 1 Axes>"
            ]
          },
          "metadata": {
            "tags": [],
            "needs_background": "light"
          }
        }
      ]
    },
    {
      "cell_type": "code",
      "metadata": {
        "id": "KbKCDoF4zFVk"
      },
      "source": [
        "#Criando as classes do engajamento\r\n",
        "classes = [2.5, 3, 3.5, 4, 4.5, 5]\r\n",
        "labels = [\"de 2.5 a 3\", \"de 3 a 3.5\", \"de 3.5 a 4\", \"de 4 a 4.5\", \"de 4.5 a 5\"]\r\n",
        "\r\n",
        "dados[\"Engajamento\"] = pd.cut(x = dados[20], bins = classes, labels = labels, include_lowest = True)"
      ],
      "execution_count": 8,
      "outputs": []
    },
    {
      "cell_type": "code",
      "metadata": {
        "colab": {
          "base_uri": "https://localhost:8080/",
          "height": 506
        },
        "id": "1ms-78xNzcjC",
        "outputId": "964bc058-446b-4d65-82a8-60460a1e25bc"
      },
      "source": [
        "#Plotando o gráfico\r\n",
        "plt.figure(figsize=(12,8))\r\n",
        "\r\n",
        "with plt.style.context('ggplot'):\r\n",
        "  ax = sns.countplot(x=\"Engajamento\", data=dados)\r\n",
        "\r\n",
        "for p in ax.patches:\r\n",
        "  ax.annotate(format(p.get_height(), '.0f'), (p.get_x() + p.get_width() / 2., p.get_height()), ha = 'center', va = 'center', xytext = (0, 10), \r\n",
        "                 textcoords = 'offset points')\r\n",
        "\r\n",
        "#Formatando o gráfico\r\n",
        "ax.yaxis.set_major_formatter(ticker.StrMethodFormatter(\"{x:,.0f}\"))\r\n",
        "plt.ylim(0, 20) \r\n",
        "plt.xlabel(\"\", color = \"k\", size=14)\r\n",
        "plt.ylabel(\"Contagem\", color = \"k\", size=14)\r\n",
        "plt.xticks(color=\"k\", fontsize=12)\r\n",
        "plt.yticks(color=\"k\", fontsize=12)\r\n",
        "plt.title(\"Nota de engajamento dos funcionários\", fontsize=18)\r\n",
        "\r\n",
        "plt.show()"
      ],
      "execution_count": 9,
      "outputs": [
        {
          "output_type": "display_data",
          "data": {
            "image/png": "[encoded data removed]",
            "text/plain": [
              "<Figure size 864x576 with 1 Axes>"
            ]
          },
          "metadata": {
            "tags": [],
            "needs_background": "light"
          }
        }
      ]
    },
    {
      "cell_type": "markdown",
      "metadata": {
        "id": "8_HMfABjtI_t"
      },
      "source": [
        "Para tirar conclusões mais precisas, o ideal seria cruzar a nota de engajamento com as perguntas abaixo:\r\n",
        "\r\n",
        "- Você conhece os procedimentos (tarefas, processos, conhecimentos) da sua função?\r\n",
        "- As metas e objetivos da sua área são claras para você?\r\n",
        "- Como é para você acompanhar o andamento das suas metas?\r\n",
        "- Quanto você se considera informado sobre o que acontece na empresa atualmente?\r\n",
        "- A relação entre o seu trabalho e os resultados da empresa é clara?\r\n",
        "- E para você, qual sentimento melhor representa esse momento atual da empresa?\r\n",
        "\r\n",
        "Isso porque como o funcionário se sente na empresa, metas e objetivos claros, sentir que seu trabalho é uma contribuição importante para a empresa, saber quais as expectativas sobre o seu trabalho, estar informado sobre o que está acontecendo, são fatores importantes para o engajamento do funcionário.\r\n",
        "\r\n"
      ]
    },
    {
      "cell_type": "markdown",
      "metadata": {
        "id": "IQMMEC7A8NAR"
      },
      "source": [
        "As conclusão abaixo também são importantes quando se trata de engajamento.\r\n",
        "\r\n",
        "- É bem interessante observar que a maior parte dos funcionários se informa por apenas um meio.\r\n",
        "- E a maioria dos funcionários se informa pelo gestor/líder.\r\n",
        "- Isso pode indicar que existe uma relação bem próxima entre os funcionários e o gestores/líderes.\r\n",
        "\r\n",
        "Os líderes tem papel essencial no engajamento dos funcionários."
      ]
    }
  ]
}