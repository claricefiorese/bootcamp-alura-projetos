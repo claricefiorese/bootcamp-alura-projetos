{
  "nbformat": 4,
  "nbformat_minor": 0,
  "metadata": {
    "colab": {
      "name": "Projeto_PeNSE_Disturbio_Imagem.ipynb",
      "provenance": [],
      "mount_file_id": "1sZ6XE9Z7aDEN-eRaxFYykvY9Ajvoj0TO",
      "authorship_tag": "ABX9TyO+oH4cExZf1xPJ20ULtpgO"
    },
    "kernelspec": {
      "name": "python3",
      "display_name": "Python 3"
    }
  },
  "cells": [
    {
      "cell_type": "code",
      "metadata": {
        "colab": {
          "base_uri": "https://localhost:8080/",
          "height": 287
        },
        "id": "uyLZyWXxxCgJ",
        "outputId": "a45eff62-127e-4e25-fdb6-3d157774d162"
      },
      "source": [
        "#Importando as bibliotecas\r\n",
        "import pandas as pd\r\n",
        "from zipfile import ZipFile\r\n",
        "import seaborn as sns\r\n",
        "from statsmodels.stats.weightstats import zconfint\r\n",
        "from scipy.stats import normaltest\r\n",
        "from scipy.stats import ranksums\r\n",
        "\r\n",
        "#Lendo a base de dados\r\n",
        "caminho = \"/content/drive/MyDrive/Bootcamp Alura/Módulo 03/Arquivos/dados/PeNSE_2015_AMOSTRA2.zip\"\r\n",
        "zip = ZipFile(caminho)\r\n",
        "caminho_pasta_zipada = zip.namelist()[1]\r\n",
        "\r\n",
        "dados = pd.read_csv(zip.open(caminho_pasta_zipada), sep = \";\", thousands = \".\", decimal = \",\")\r\n",
        "dados.head()"
      ],
      "execution_count": 1,
      "outputs": [
        {
          "output_type": "stream",
          "text": [
            "/usr/local/lib/python3.6/dist-packages/statsmodels/tools/_testing.py:19: FutureWarning: pandas.util.testing is deprecated. Use the functions in the public API at pandas.testing instead.\n",
            "  import pandas.util.testing as tm\n"
          ],
          "name": "stderr"
        },
        {
          "output_type": "execute_result",
          "data": {
            "text/html": [
              "<div>\n",
              "<style scoped>\n",
              "    .dataframe tbody tr th:only-of-type {\n",
              "        vertical-align: middle;\n",
              "    }\n",
              "\n",
              "    .dataframe tbody tr th {\n",
              "        vertical-align: top;\n",
              "    }\n",
              "\n",
              "    .dataframe thead th {\n",
              "        text-align: right;\n",
              "    }\n",
              "</style>\n",
              "<table border=\"1\" class=\"dataframe\">\n",
              "  <thead>\n",
              "    <tr style=\"text-align: right;\">\n",
              "      <th></th>\n",
              "      <th>ANOPESQ</th>\n",
              "      <th>PAIS</th>\n",
              "      <th>REGEOGR</th>\n",
              "      <th>VB00004</th>\n",
              "      <th>VB01001</th>\n",
              "      <th>VB01002</th>\n",
              "      <th>VB01003</th>\n",
              "      <th>VB01004</th>\n",
              "      <th>VB01005</th>\n",
              "      <th>VB01006</th>\n",
              "      <th>VB01007</th>\n",
              "      <th>VB01008A</th>\n",
              "      <th>VB01010A</th>\n",
              "      <th>VB01011</th>\n",
              "      <th>VB01012</th>\n",
              "      <th>VB01013</th>\n",
              "      <th>VB01014</th>\n",
              "      <th>VB01015A</th>\n",
              "      <th>VB01016</th>\n",
              "      <th>VB01017</th>\n",
              "      <th>VB01018</th>\n",
              "      <th>VB01019</th>\n",
              "      <th>VB01020A</th>\n",
              "      <th>VB01021</th>\n",
              "      <th>VB01022</th>\n",
              "      <th>VB01023</th>\n",
              "      <th>VB01024</th>\n",
              "      <th>VB01025</th>\n",
              "      <th>VB01026</th>\n",
              "      <th>VB02001</th>\n",
              "      <th>VB02002</th>\n",
              "      <th>VB02004A</th>\n",
              "      <th>VB02010</th>\n",
              "      <th>VB02011</th>\n",
              "      <th>VB02013</th>\n",
              "      <th>VB02017A</th>\n",
              "      <th>VB02018A</th>\n",
              "      <th>VB02019A</th>\n",
              "      <th>VB02020A</th>\n",
              "      <th>VB02021</th>\n",
              "      <th>...</th>\n",
              "      <th>VB11005</th>\n",
              "      <th>VB11006</th>\n",
              "      <th>VB11007</th>\n",
              "      <th>VB12001</th>\n",
              "      <th>VB12002</th>\n",
              "      <th>VB12003</th>\n",
              "      <th>VB13001</th>\n",
              "      <th>VB13002A</th>\n",
              "      <th>VB13004A</th>\n",
              "      <th>VB13005</th>\n",
              "      <th>VB13006</th>\n",
              "      <th>VB13007</th>\n",
              "      <th>VB13008</th>\n",
              "      <th>VB13009</th>\n",
              "      <th>VB14001</th>\n",
              "      <th>VB14002</th>\n",
              "      <th>VB16001A01</th>\n",
              "      <th>VB16001A02</th>\n",
              "      <th>VB16001A03</th>\n",
              "      <th>VB16001A04</th>\n",
              "      <th>VB16001A05</th>\n",
              "      <th>VB16001A06</th>\n",
              "      <th>VB16001A07</th>\n",
              "      <th>VB16001A08</th>\n",
              "      <th>VB17001</th>\n",
              "      <th>VB17002</th>\n",
              "      <th>VB17003</th>\n",
              "      <th>VB17004</th>\n",
              "      <th>VB17005</th>\n",
              "      <th>VB17006</th>\n",
              "      <th>ESTRATO_EXP</th>\n",
              "      <th>ESTRATOGEOREG</th>\n",
              "      <th>PESO</th>\n",
              "      <th>V0006</th>\n",
              "      <th>V0007</th>\n",
              "      <th>V0008</th>\n",
              "      <th>V0041</th>\n",
              "      <th>aluno</th>\n",
              "      <th>escola</th>\n",
              "      <th>turma</th>\n",
              "    </tr>\n",
              "  </thead>\n",
              "  <tbody>\n",
              "    <tr>\n",
              "      <th>0</th>\n",
              "      <td>2015</td>\n",
              "      <td>76</td>\n",
              "      <td>1</td>\n",
              "      <td>1</td>\n",
              "      <td>2</td>\n",
              "      <td>1</td>\n",
              "      <td>13</td>\n",
              "      <td>7</td>\n",
              "      <td>7</td>\n",
              "      <td>1</td>\n",
              "      <td>2</td>\n",
              "      <td>7</td>\n",
              "      <td>3</td>\n",
              "      <td>2</td>\n",
              "      <td>-1</td>\n",
              "      <td>1</td>\n",
              "      <td>1</td>\n",
              "      <td>1</td>\n",
              "      <td>1</td>\n",
              "      <td>1</td>\n",
              "      <td>2</td>\n",
              "      <td>4</td>\n",
              "      <td>2</td>\n",
              "      <td>4</td>\n",
              "      <td>1</td>\n",
              "      <td>2</td>\n",
              "      <td>2</td>\n",
              "      <td>5</td>\n",
              "      <td>1</td>\n",
              "      <td>8</td>\n",
              "      <td>3</td>\n",
              "      <td>4</td>\n",
              "      <td>3</td>\n",
              "      <td>6</td>\n",
              "      <td>6</td>\n",
              "      <td>1</td>\n",
              "      <td>6</td>\n",
              "      <td>1</td>\n",
              "      <td>-1</td>\n",
              "      <td>2</td>\n",
              "      <td>...</td>\n",
              "      <td>2</td>\n",
              "      <td>1</td>\n",
              "      <td>2</td>\n",
              "      <td>1</td>\n",
              "      <td>1</td>\n",
              "      <td>4</td>\n",
              "      <td>2</td>\n",
              "      <td>-1</td>\n",
              "      <td>3</td>\n",
              "      <td>1</td>\n",
              "      <td>1</td>\n",
              "      <td>-1</td>\n",
              "      <td>1</td>\n",
              "      <td>1</td>\n",
              "      <td>2</td>\n",
              "      <td>2</td>\n",
              "      <td>1</td>\n",
              "      <td>2</td>\n",
              "      <td>2</td>\n",
              "      <td>2</td>\n",
              "      <td>2</td>\n",
              "      <td>2</td>\n",
              "      <td>2</td>\n",
              "      <td>2</td>\n",
              "      <td>371.0</td>\n",
              "      <td>1570.0</td>\n",
              "      <td>37.1</td>\n",
              "      <td>157.0</td>\n",
              "      <td>2</td>\n",
              "      <td>1</td>\n",
              "      <td>1223</td>\n",
              "      <td>1</td>\n",
              "      <td>299.735235</td>\n",
              "      <td>1</td>\n",
              "      <td>2</td>\n",
              "      <td>4</td>\n",
              "      <td>1</td>\n",
              "      <td>1</td>\n",
              "      <td>1</td>\n",
              "      <td>296</td>\n",
              "    </tr>\n",
              "    <tr>\n",
              "      <th>1</th>\n",
              "      <td>2015</td>\n",
              "      <td>76</td>\n",
              "      <td>1</td>\n",
              "      <td>1</td>\n",
              "      <td>2</td>\n",
              "      <td>1</td>\n",
              "      <td>14</td>\n",
              "      <td>4</td>\n",
              "      <td>7</td>\n",
              "      <td>1</td>\n",
              "      <td>1</td>\n",
              "      <td>7</td>\n",
              "      <td>3</td>\n",
              "      <td>2</td>\n",
              "      <td>-1</td>\n",
              "      <td>1</td>\n",
              "      <td>1</td>\n",
              "      <td>1</td>\n",
              "      <td>1</td>\n",
              "      <td>1</td>\n",
              "      <td>2</td>\n",
              "      <td>2</td>\n",
              "      <td>2</td>\n",
              "      <td>4</td>\n",
              "      <td>1</td>\n",
              "      <td>2</td>\n",
              "      <td>2</td>\n",
              "      <td>5</td>\n",
              "      <td>3</td>\n",
              "      <td>8</td>\n",
              "      <td>2</td>\n",
              "      <td>1</td>\n",
              "      <td>8</td>\n",
              "      <td>8</td>\n",
              "      <td>6</td>\n",
              "      <td>1</td>\n",
              "      <td>1</td>\n",
              "      <td>5</td>\n",
              "      <td>-1</td>\n",
              "      <td>2</td>\n",
              "      <td>...</td>\n",
              "      <td>2</td>\n",
              "      <td>3</td>\n",
              "      <td>2</td>\n",
              "      <td>4</td>\n",
              "      <td>4</td>\n",
              "      <td>4</td>\n",
              "      <td>1</td>\n",
              "      <td>2</td>\n",
              "      <td>3</td>\n",
              "      <td>3</td>\n",
              "      <td>1</td>\n",
              "      <td>-1</td>\n",
              "      <td>1</td>\n",
              "      <td>1</td>\n",
              "      <td>2</td>\n",
              "      <td>2</td>\n",
              "      <td>2</td>\n",
              "      <td>2</td>\n",
              "      <td>2</td>\n",
              "      <td>1</td>\n",
              "      <td>2</td>\n",
              "      <td>2</td>\n",
              "      <td>2</td>\n",
              "      <td>2</td>\n",
              "      <td>502.0</td>\n",
              "      <td>1520.0</td>\n",
              "      <td>50.2</td>\n",
              "      <td>152.0</td>\n",
              "      <td>2</td>\n",
              "      <td>2</td>\n",
              "      <td>1223</td>\n",
              "      <td>1</td>\n",
              "      <td>355.170081</td>\n",
              "      <td>1</td>\n",
              "      <td>2</td>\n",
              "      <td>4</td>\n",
              "      <td>1</td>\n",
              "      <td>2</td>\n",
              "      <td>1</td>\n",
              "      <td>296</td>\n",
              "    </tr>\n",
              "    <tr>\n",
              "      <th>2</th>\n",
              "      <td>2015</td>\n",
              "      <td>76</td>\n",
              "      <td>1</td>\n",
              "      <td>1</td>\n",
              "      <td>1</td>\n",
              "      <td>4</td>\n",
              "      <td>13</td>\n",
              "      <td>6</td>\n",
              "      <td>7</td>\n",
              "      <td>1</td>\n",
              "      <td>1</td>\n",
              "      <td>5</td>\n",
              "      <td>5</td>\n",
              "      <td>2</td>\n",
              "      <td>-1</td>\n",
              "      <td>2</td>\n",
              "      <td>1</td>\n",
              "      <td>1</td>\n",
              "      <td>1</td>\n",
              "      <td>1</td>\n",
              "      <td>2</td>\n",
              "      <td>3</td>\n",
              "      <td>1</td>\n",
              "      <td>4</td>\n",
              "      <td>1</td>\n",
              "      <td>2</td>\n",
              "      <td>2</td>\n",
              "      <td>5</td>\n",
              "      <td>3</td>\n",
              "      <td>2</td>\n",
              "      <td>3</td>\n",
              "      <td>1</td>\n",
              "      <td>8</td>\n",
              "      <td>2</td>\n",
              "      <td>8</td>\n",
              "      <td>1</td>\n",
              "      <td>1</td>\n",
              "      <td>5</td>\n",
              "      <td>5</td>\n",
              "      <td>1</td>\n",
              "      <td>...</td>\n",
              "      <td>2</td>\n",
              "      <td>1</td>\n",
              "      <td>2</td>\n",
              "      <td>1</td>\n",
              "      <td>2</td>\n",
              "      <td>3</td>\n",
              "      <td>1</td>\n",
              "      <td>2</td>\n",
              "      <td>1</td>\n",
              "      <td>2</td>\n",
              "      <td>5</td>\n",
              "      <td>99</td>\n",
              "      <td>1</td>\n",
              "      <td>-1</td>\n",
              "      <td>2</td>\n",
              "      <td>2</td>\n",
              "      <td>1</td>\n",
              "      <td>1</td>\n",
              "      <td>1</td>\n",
              "      <td>1</td>\n",
              "      <td>1</td>\n",
              "      <td>1</td>\n",
              "      <td>1</td>\n",
              "      <td>1</td>\n",
              "      <td>482.0</td>\n",
              "      <td>1614.0</td>\n",
              "      <td>48.2</td>\n",
              "      <td>161.4</td>\n",
              "      <td>2</td>\n",
              "      <td>2</td>\n",
              "      <td>1223</td>\n",
              "      <td>1</td>\n",
              "      <td>299.735235</td>\n",
              "      <td>1</td>\n",
              "      <td>2</td>\n",
              "      <td>4</td>\n",
              "      <td>1</td>\n",
              "      <td>3</td>\n",
              "      <td>1</td>\n",
              "      <td>296</td>\n",
              "    </tr>\n",
              "    <tr>\n",
              "      <th>3</th>\n",
              "      <td>2015</td>\n",
              "      <td>76</td>\n",
              "      <td>1</td>\n",
              "      <td>1</td>\n",
              "      <td>1</td>\n",
              "      <td>1</td>\n",
              "      <td>14</td>\n",
              "      <td>6</td>\n",
              "      <td>7</td>\n",
              "      <td>1</td>\n",
              "      <td>1</td>\n",
              "      <td>7</td>\n",
              "      <td>4</td>\n",
              "      <td>2</td>\n",
              "      <td>-1</td>\n",
              "      <td>1</td>\n",
              "      <td>1</td>\n",
              "      <td>1</td>\n",
              "      <td>1</td>\n",
              "      <td>1</td>\n",
              "      <td>2</td>\n",
              "      <td>4</td>\n",
              "      <td>2</td>\n",
              "      <td>4</td>\n",
              "      <td>1</td>\n",
              "      <td>2</td>\n",
              "      <td>2</td>\n",
              "      <td>6</td>\n",
              "      <td>3</td>\n",
              "      <td>2</td>\n",
              "      <td>4</td>\n",
              "      <td>1</td>\n",
              "      <td>3</td>\n",
              "      <td>2</td>\n",
              "      <td>7</td>\n",
              "      <td>1</td>\n",
              "      <td>5</td>\n",
              "      <td>1</td>\n",
              "      <td>-1</td>\n",
              "      <td>2</td>\n",
              "      <td>...</td>\n",
              "      <td>2</td>\n",
              "      <td>1</td>\n",
              "      <td>2</td>\n",
              "      <td>2</td>\n",
              "      <td>2</td>\n",
              "      <td>4</td>\n",
              "      <td>1</td>\n",
              "      <td>10</td>\n",
              "      <td>3</td>\n",
              "      <td>1</td>\n",
              "      <td>2</td>\n",
              "      <td>-1</td>\n",
              "      <td>1</td>\n",
              "      <td>-1</td>\n",
              "      <td>2</td>\n",
              "      <td>2</td>\n",
              "      <td>1</td>\n",
              "      <td>2</td>\n",
              "      <td>2</td>\n",
              "      <td>2</td>\n",
              "      <td>1</td>\n",
              "      <td>2</td>\n",
              "      <td>2</td>\n",
              "      <td>2</td>\n",
              "      <td>694.0</td>\n",
              "      <td>1725.0</td>\n",
              "      <td>69.4</td>\n",
              "      <td>172.5</td>\n",
              "      <td>2</td>\n",
              "      <td>3</td>\n",
              "      <td>1223</td>\n",
              "      <td>1</td>\n",
              "      <td>355.170081</td>\n",
              "      <td>1</td>\n",
              "      <td>2</td>\n",
              "      <td>4</td>\n",
              "      <td>1</td>\n",
              "      <td>4</td>\n",
              "      <td>1</td>\n",
              "      <td>296</td>\n",
              "    </tr>\n",
              "    <tr>\n",
              "      <th>4</th>\n",
              "      <td>2015</td>\n",
              "      <td>76</td>\n",
              "      <td>1</td>\n",
              "      <td>1</td>\n",
              "      <td>1</td>\n",
              "      <td>1</td>\n",
              "      <td>13</td>\n",
              "      <td>9</td>\n",
              "      <td>7</td>\n",
              "      <td>1</td>\n",
              "      <td>2</td>\n",
              "      <td>5</td>\n",
              "      <td>4</td>\n",
              "      <td>2</td>\n",
              "      <td>-1</td>\n",
              "      <td>2</td>\n",
              "      <td>1</td>\n",
              "      <td>1</td>\n",
              "      <td>1</td>\n",
              "      <td>1</td>\n",
              "      <td>2</td>\n",
              "      <td>5</td>\n",
              "      <td>1</td>\n",
              "      <td>4</td>\n",
              "      <td>1</td>\n",
              "      <td>2</td>\n",
              "      <td>2</td>\n",
              "      <td>6</td>\n",
              "      <td>5</td>\n",
              "      <td>6</td>\n",
              "      <td>3</td>\n",
              "      <td>5</td>\n",
              "      <td>2</td>\n",
              "      <td>6</td>\n",
              "      <td>2</td>\n",
              "      <td>1</td>\n",
              "      <td>5</td>\n",
              "      <td>1</td>\n",
              "      <td>5</td>\n",
              "      <td>1</td>\n",
              "      <td>...</td>\n",
              "      <td>2</td>\n",
              "      <td>1</td>\n",
              "      <td>4</td>\n",
              "      <td>2</td>\n",
              "      <td>2</td>\n",
              "      <td>4</td>\n",
              "      <td>1</td>\n",
              "      <td>3</td>\n",
              "      <td>2</td>\n",
              "      <td>2</td>\n",
              "      <td>2</td>\n",
              "      <td>13</td>\n",
              "      <td>1</td>\n",
              "      <td>-1</td>\n",
              "      <td>1</td>\n",
              "      <td>2</td>\n",
              "      <td>1</td>\n",
              "      <td>1</td>\n",
              "      <td>1</td>\n",
              "      <td>1</td>\n",
              "      <td>1</td>\n",
              "      <td>1</td>\n",
              "      <td>1</td>\n",
              "      <td>1</td>\n",
              "      <td>789.0</td>\n",
              "      <td>1675.0</td>\n",
              "      <td>78.9</td>\n",
              "      <td>167.5</td>\n",
              "      <td>2</td>\n",
              "      <td>4</td>\n",
              "      <td>1223</td>\n",
              "      <td>1</td>\n",
              "      <td>299.735235</td>\n",
              "      <td>1</td>\n",
              "      <td>2</td>\n",
              "      <td>4</td>\n",
              "      <td>1</td>\n",
              "      <td>5</td>\n",
              "      <td>1</td>\n",
              "      <td>296</td>\n",
              "    </tr>\n",
              "  </tbody>\n",
              "</table>\n",
              "<p>5 rows × 181 columns</p>\n",
              "</div>"
            ],
            "text/plain": [
              "   ANOPESQ  PAIS  REGEOGR  VB00004  VB01001  ...  V0008  V0041  aluno  escola  turma\n",
              "0     2015    76        1        1        2  ...      4      1      1       1    296\n",
              "1     2015    76        1        1        2  ...      4      1      2       1    296\n",
              "2     2015    76        1        1        1  ...      4      1      3       1    296\n",
              "3     2015    76        1        1        1  ...      4      1      4       1    296\n",
              "4     2015    76        1        1        1  ...      4      1      5       1    296\n",
              "\n",
              "[5 rows x 181 columns]"
            ]
          },
          "metadata": {
            "tags": []
          },
          "execution_count": 1
        }
      ]
    },
    {
      "cell_type": "markdown",
      "metadata": {
        "id": "w_YdoBhxyIAJ"
      },
      "source": [
        "**Cálculo do IMC:**\r\n",
        "\\begin{equation}\r\n",
        "IMC =\\dfrac{PESO}{ALTURA ^2}\r\n",
        "\\end{equation}\r\n",
        "<br>"
      ]
    },
    {
      "cell_type": "code",
      "metadata": {
        "colab": {
          "base_uri": "https://localhost:8080/"
        },
        "id": "K6orsuyGyKez",
        "outputId": "6f9c5177-7a76-4e0e-f06e-a126e8b5402e"
      },
      "source": [
        "#Calculando o IMC\r\n",
        "#É necessário converter a altura de cm para m\r\n",
        "dados[\"IMC\"] = dados[\"VB17003\"] / ((dados[\"VB17004\"]/100)**2)\r\n",
        "dados[\"IMC\"]"
      ],
      "execution_count": 2,
      "outputs": [
        {
          "output_type": "execute_result",
          "data": {
            "text/plain": [
              "0        15.051321\n",
              "1        21.727839\n",
              "2        18.502907\n",
              "3        23.322831\n",
              "4        28.122076\n",
              "           ...    \n",
              "16551    20.113223\n",
              "16552    17.930782\n",
              "16553    23.968489\n",
              "16554    18.995343\n",
              "16555    23.303246\n",
              "Name: IMC, Length: 16556, dtype: float64"
            ]
          },
          "metadata": {
            "tags": []
          },
          "execution_count": 2
        }
      ]
    },
    {
      "cell_type": "markdown",
      "metadata": {
        "id": "IVbbiuBzyMss"
      },
      "source": [
        "**Classificação do IMC:**\r\n",
        "- Menor que 18,5 - Abaixo do peso\r\n",
        "- Entre 18,5 e 24,9 - Peso normal\r\n",
        "- Entre 25 e 29,9 - Sobrepeso (acima do peso desejado)\r\n",
        "- Igual ou acima de 30 - Obesidade\r\n",
        "\r\n",
        "http://bvsms.saude.gov.br/bvs/dicas/215_obesidade.html"
      ]
    },
    {
      "cell_type": "code",
      "metadata": {
        "colab": {
          "base_uri": "https://localhost:8080/",
          "height": 419
        },
        "id": "bOh78nqqyPA2",
        "outputId": "cbdd83cb-e807-4655-c96d-9aa3cc187c3b"
      },
      "source": [
        "#Criando as classes do IMC\r\n",
        "\r\n",
        "'''\r\n",
        "pandas.cut(x, bins, right=True, labels=None, retbins=False, precision=3, include_lowest=False, duplicates='raise', ordered=True)\r\n",
        "\r\n",
        "Bin values into discrete intervals.\r\n",
        "Use cut when you need to segment and sort data values into bins. This function is also useful for going from a continuous variable to a categorical variable \r\n",
        "For example, cut could convert ages to groups of age ranges. Supports binning into an equal number of bins, or a pre-specified array of bins\r\n",
        "\r\n",
        "include_lowestbool, default False\r\n",
        "Whether the first interval should be left-inclusive or not\r\n",
        "'''\r\n",
        "\r\n",
        "classes = [0, 18.5, 25, 30, 60]\r\n",
        "labels = [\"Abaixo do peso\", \"Peso normal\", \"Sobrepeso\", \"Obesidade\"]\r\n",
        "\r\n",
        "dados[\"CLASSE_IMC\"] = pd.cut(x = dados[\"IMC\"], bins = classes, labels = labels, include_lowest = True)\r\n",
        "\r\n",
        "dados[[\"IMC\", \"CLASSE_IMC\"]]"
      ],
      "execution_count": 3,
      "outputs": [
        {
          "output_type": "execute_result",
          "data": {
            "text/html": [
              "<div>\n",
              "<style scoped>\n",
              "    .dataframe tbody tr th:only-of-type {\n",
              "        vertical-align: middle;\n",
              "    }\n",
              "\n",
              "    .dataframe tbody tr th {\n",
              "        vertical-align: top;\n",
              "    }\n",
              "\n",
              "    .dataframe thead th {\n",
              "        text-align: right;\n",
              "    }\n",
              "</style>\n",
              "<table border=\"1\" class=\"dataframe\">\n",
              "  <thead>\n",
              "    <tr style=\"text-align: right;\">\n",
              "      <th></th>\n",
              "      <th>IMC</th>\n",
              "      <th>CLASSE_IMC</th>\n",
              "    </tr>\n",
              "  </thead>\n",
              "  <tbody>\n",
              "    <tr>\n",
              "      <th>0</th>\n",
              "      <td>15.051321</td>\n",
              "      <td>Abaixo do peso</td>\n",
              "    </tr>\n",
              "    <tr>\n",
              "      <th>1</th>\n",
              "      <td>21.727839</td>\n",
              "      <td>Peso normal</td>\n",
              "    </tr>\n",
              "    <tr>\n",
              "      <th>2</th>\n",
              "      <td>18.502907</td>\n",
              "      <td>Peso normal</td>\n",
              "    </tr>\n",
              "    <tr>\n",
              "      <th>3</th>\n",
              "      <td>23.322831</td>\n",
              "      <td>Peso normal</td>\n",
              "    </tr>\n",
              "    <tr>\n",
              "      <th>4</th>\n",
              "      <td>28.122076</td>\n",
              "      <td>Sobrepeso</td>\n",
              "    </tr>\n",
              "    <tr>\n",
              "      <th>...</th>\n",
              "      <td>...</td>\n",
              "      <td>...</td>\n",
              "    </tr>\n",
              "    <tr>\n",
              "      <th>16551</th>\n",
              "      <td>20.113223</td>\n",
              "      <td>Peso normal</td>\n",
              "    </tr>\n",
              "    <tr>\n",
              "      <th>16552</th>\n",
              "      <td>17.930782</td>\n",
              "      <td>Abaixo do peso</td>\n",
              "    </tr>\n",
              "    <tr>\n",
              "      <th>16553</th>\n",
              "      <td>23.968489</td>\n",
              "      <td>Peso normal</td>\n",
              "    </tr>\n",
              "    <tr>\n",
              "      <th>16554</th>\n",
              "      <td>18.995343</td>\n",
              "      <td>Peso normal</td>\n",
              "    </tr>\n",
              "    <tr>\n",
              "      <th>16555</th>\n",
              "      <td>23.303246</td>\n",
              "      <td>Peso normal</td>\n",
              "    </tr>\n",
              "  </tbody>\n",
              "</table>\n",
              "<p>16556 rows × 2 columns</p>\n",
              "</div>"
            ],
            "text/plain": [
              "             IMC      CLASSE_IMC\n",
              "0      15.051321  Abaixo do peso\n",
              "1      21.727839     Peso normal\n",
              "2      18.502907     Peso normal\n",
              "3      23.322831     Peso normal\n",
              "4      28.122076       Sobrepeso\n",
              "...          ...             ...\n",
              "16551  20.113223     Peso normal\n",
              "16552  17.930782  Abaixo do peso\n",
              "16553  23.968489     Peso normal\n",
              "16554  18.995343     Peso normal\n",
              "16555  23.303246     Peso normal\n",
              "\n",
              "[16556 rows x 2 columns]"
            ]
          },
          "metadata": {
            "tags": []
          },
          "execution_count": 3
        }
      ]
    },
    {
      "cell_type": "code",
      "metadata": {
        "id": "Aq7fi_Jsw7oJ"
      },
      "source": [
        "#Lendo os dados do Dicionário PeNSE\r\n",
        "dicionario = pd.read_excel(\"/content/drive/MyDrive/Bootcamp Alura/Módulo 03/Arquivos/dados/Dicionario_PENSE_Microdados_AMOSTRA2.xls\")"
      ],
      "execution_count": 4,
      "outputs": []
    },
    {
      "cell_type": "code",
      "metadata": {
        "id": "E-fZvov5xCjB"
      },
      "source": [
        "#Criando a função para criar um dicionário com as respostas\r\n",
        "def cria_dicionario_respostas(cod_pergunta: str, dicionario = dicionario):\r\n",
        "  '''\r\n",
        "  Esta função cria um dicionario com as respostas a partir do código da pergunta\r\n",
        "\r\n",
        "  Parâmetros: \r\n",
        "    cod_pergunta: string com o código da pergunta\r\n",
        "    dicionario: DataFrame com os dados do arquivo \"Dicionario_PENSE_Microdados_AMOSTRA2.xls\"\r\n",
        "  \r\n",
        "  Retorna:\r\n",
        "   dicionario_respostas: dicionário com as váriaveis (keys) e as alternativas de resposta (values)\r\n",
        "   pergunta: string com texto da pergunta\r\n",
        "  '''\r\n",
        "\r\n",
        "  #Fazendo a query\r\n",
        "  busca = dicionario.query(f\"VARIÁVEL == '{cod_pergunta}'\")\r\n",
        "\r\n",
        "  #Selecionando o índice da pergunta no dicionário\r\n",
        "  indice_pergunta = (busca.index).tolist()[0]\r\n",
        "  \r\n",
        "  #Guardando o texto da pergunta\r\n",
        "  #df.iloc[<linhas>, <colunas>]\r\n",
        "  pergunta = dicionario.iloc[indice_pergunta, 1]\r\n",
        "\r\n",
        "  #Criando um dicionário para as respostas possíveis\r\n",
        "  dicionario_respostas = {}\r\n",
        "\r\n",
        "  #Enquanto nnão encontro o código da próxima perguntar\r\n",
        "  indice = indice_pergunta + 1\r\n",
        "\r\n",
        "  while str(dicionario.loc[indice][\"VARIÁVEL\"]).startswith(\"VB\") != True:\r\n",
        "\r\n",
        "    #Adicionando as variáveis e as alternativas de resposta ao dicionário\r\n",
        "    nova_linha = {int(dicionario.loc[indice][\"VARIÁVEL\"]) : dicionario.loc[indice][\"QUESTIONÁRIO DO ALUNO\"]}\r\n",
        "\r\n",
        "    #Atualizando o dicionário com a nova linha\r\n",
        "    dicionario_respostas.update(nova_linha)\r\n",
        "\r\n",
        "    indice = indice + 1\r\n",
        "  \r\n",
        "  return dicionario_respostas, pergunta"
      ],
      "execution_count": 5,
      "outputs": []
    },
    {
      "cell_type": "code",
      "metadata": {
        "id": "La13odFq3MMq"
      },
      "source": [
        "#Criando uma função para plotar o histograma comparando duas variáveis\r\n",
        "def compara_histograma(cod_pergunta: str, pergunta: str, compara: str, dados = dados):\r\n",
        "\r\n",
        "  '''\r\n",
        "  Esta função cria um histograma a partir do código da pergunta, além disso plota o desvio padrão, a média, \r\n",
        "  a moda e a mediana\r\n",
        "  \r\n",
        "  Parâmetros:\r\n",
        "    cod_pergunta: string com o código da pergunta\r\n",
        "    dados: DataFrame com os dados do arquivo \"PENSE_AMOSTRA2_ALUNO.CSV\"\r\n",
        "    pergunta: string com a pergunta\r\n",
        "    compara: string com a variável a ser comparada\r\n",
        " '''\r\n",
        "\r\n",
        "  #Plotando o histograma\r\n",
        "  ax = sns.histplot(x = cod_pergunta, data = dados, kde = True, hue = compara)\r\n",
        "  ax.figure.set_size_inches(12,6)\r\n",
        "  ax.set_title(\"Distribuição de frequência\", fontsize=16)\r\n",
        "  ax.set_xlabel(f\"{pergunta}\", fontsize=12)\r\n",
        "  ax.set_ylabel(\"\")\r\n",
        "\r\n",
        "  ax;"
      ],
      "execution_count": 6,
      "outputs": []
    },
    {
      "cell_type": "code",
      "metadata": {
        "id": "qeRIZI2d3N_4"
      },
      "source": [
        "#Função para arredondar os valores de uma tupla\r\n",
        "def arredonda_tupla(tupla):\r\n",
        "  return tuple([round(x,2) if isinstance(x, float) else x for x in tupla])"
      ],
      "execution_count": 7,
      "outputs": []
    },
    {
      "cell_type": "markdown",
      "metadata": {
        "id": "34_c7raHxO50"
      },
      "source": [
        "**Objetivo: observar algum indício de transtorno dismórfico corporal (TDC), que se caracteriza pela percepção alterada de si mesmo diante do espelho: quando o que a pessoa enxerga no espelho não condiz com a realidade.**\r\n",
        "\r\n",
        "https://www.cellerafarma.com.br/bem-estar/disturbio-de-imagem-entenda-o-que-e"
      ]
    },
    {
      "cell_type": "markdown",
      "metadata": {
        "id": "uDoUgTj7xUXg"
      },
      "source": [
        "Homens e mulheres são vítimas do transtorno em igual proporção.\r\n",
        "\r\n",
        "Desta forma, não será feita distinção entre os sexos feminino e masculino."
      ]
    },
    {
      "cell_type": "code",
      "metadata": {
        "colab": {
          "base_uri": "https://localhost:8080/",
          "height": 266
        },
        "id": "zxIjOhy7xCl5",
        "outputId": "1da1d797-2b4e-48f5-c799-7f88cc169739"
      },
      "source": [
        "#Calculando a frequência cruzando a Classificação do IMC e a pergunta \"VB11001: Quanto ao seu corpo, você se considera:\"\r\n",
        "\r\n",
        "#Criando os dicionários\r\n",
        "respostas_indices = cria_dicionario_respostas(\"VB11001\")[0]\r\n",
        "pergunta_indices = cria_dicionario_respostas(\"VB11001\")[1]\r\n",
        "\r\n",
        "frequencia_cruzada = pd.crosstab(dados[\"VB11001\"], dados[\"CLASSE_IMC\"], normalize = True) * 100\r\n",
        "frequencia_cruzada.rename(index = respostas_indices, inplace = True)\r\n",
        "frequencia_cruzada.rename_axis(pergunta_indices, axis=0, inplace = True)\r\n",
        "frequencia_cruzada.rename_axis(\"Classificação do IMC:\", axis=1, inplace = True)\r\n",
        "frequencia_cruzada.round(2)"
      ],
      "execution_count": 8,
      "outputs": [
        {
          "output_type": "execute_result",
          "data": {
            "text/html": [
              "<div>\n",
              "<style scoped>\n",
              "    .dataframe tbody tr th:only-of-type {\n",
              "        vertical-align: middle;\n",
              "    }\n",
              "\n",
              "    .dataframe tbody tr th {\n",
              "        vertical-align: top;\n",
              "    }\n",
              "\n",
              "    .dataframe thead th {\n",
              "        text-align: right;\n",
              "    }\n",
              "</style>\n",
              "<table border=\"1\" class=\"dataframe\">\n",
              "  <thead>\n",
              "    <tr style=\"text-align: right;\">\n",
              "      <th>Classificação do IMC:</th>\n",
              "      <th>Abaixo do peso</th>\n",
              "      <th>Peso normal</th>\n",
              "      <th>Sobrepeso</th>\n",
              "      <th>Obesidade</th>\n",
              "    </tr>\n",
              "    <tr>\n",
              "      <th>Quanto ao seu corpo, você se considera:</th>\n",
              "      <th></th>\n",
              "      <th></th>\n",
              "      <th></th>\n",
              "      <th></th>\n",
              "    </tr>\n",
              "  </thead>\n",
              "  <tbody>\n",
              "    <tr>\n",
              "      <th>Muito magro(a)</th>\n",
              "      <td>3.84</td>\n",
              "      <td>1.79</td>\n",
              "      <td>0.10</td>\n",
              "      <td>0.02</td>\n",
              "    </tr>\n",
              "    <tr>\n",
              "      <th>Magro(a)</th>\n",
              "      <td>11.09</td>\n",
              "      <td>8.29</td>\n",
              "      <td>0.25</td>\n",
              "      <td>0.07</td>\n",
              "    </tr>\n",
              "    <tr>\n",
              "      <th>Normal</th>\n",
              "      <td>13.84</td>\n",
              "      <td>35.03</td>\n",
              "      <td>3.94</td>\n",
              "      <td>0.48</td>\n",
              "    </tr>\n",
              "    <tr>\n",
              "      <th>Gordo(a)</th>\n",
              "      <td>0.75</td>\n",
              "      <td>8.94</td>\n",
              "      <td>5.48</td>\n",
              "      <td>2.65</td>\n",
              "    </tr>\n",
              "    <tr>\n",
              "      <th>Muito Gordo(a)</th>\n",
              "      <td>0.21</td>\n",
              "      <td>0.90</td>\n",
              "      <td>0.79</td>\n",
              "      <td>0.58</td>\n",
              "    </tr>\n",
              "    <tr>\n",
              "      <th>Não informado</th>\n",
              "      <td>0.32</td>\n",
              "      <td>0.54</td>\n",
              "      <td>0.07</td>\n",
              "      <td>0.02</td>\n",
              "    </tr>\n",
              "  </tbody>\n",
              "</table>\n",
              "</div>"
            ],
            "text/plain": [
              "Classificação do IMC:                     Abaixo do peso  ...  Obesidade\n",
              "Quanto ao seu corpo, você se considera:                   ...           \n",
              "Muito magro(a)                                      3.84  ...       0.02\n",
              "Magro(a)                                           11.09  ...       0.07\n",
              "Normal                                             13.84  ...       0.48\n",
              "Gordo(a)                                            0.75  ...       2.65\n",
              "Muito Gordo(a)                                      0.21  ...       0.58\n",
              "Não informado                                       0.32  ...       0.02\n",
              "\n",
              "[6 rows x 4 columns]"
            ]
          },
          "metadata": {
            "tags": []
          },
          "execution_count": 8
        }
      ]
    },
    {
      "cell_type": "markdown",
      "metadata": {
        "id": "ZkyrFVi7xZTe"
      },
      "source": [
        "Analisando essa primeira pergunta, não é possível observar grandes distorções em relação à forma como o estudante se enxerga.\r\n",
        "\r\n",
        "O único ponto a observar: 8.94% dos estudantes tem peso considerado normal e se consideram gordos(as)."
      ]
    },
    {
      "cell_type": "code",
      "metadata": {
        "colab": {
          "base_uri": "https://localhost:8080/",
          "height": 235
        },
        "id": "bFowZnLgxCoQ",
        "outputId": "cd1f92fb-3e70-4c37-9928-1fed165b6030"
      },
      "source": [
        "#Calculando a frequência cruzando a Classificação do IMC e a pergunta \"VB11002: O que você está fazendo em relação a seu peso?\"\r\n",
        "\r\n",
        "#Criando os dicionários\r\n",
        "respostas_indices = cria_dicionario_respostas(\"VB11002\")[0]\r\n",
        "pergunta_indices = cria_dicionario_respostas(\"VB11002\")[1]\r\n",
        "\r\n",
        "frequencia_cruzada = pd.crosstab(dados[\"VB11002\"], dados[\"CLASSE_IMC\"], normalize = True) * 100\r\n",
        "frequencia_cruzada.rename(index = respostas_indices, inplace = True)\r\n",
        "frequencia_cruzada.rename_axis(pergunta_indices, axis=0, inplace = True)\r\n",
        "frequencia_cruzada.rename_axis(\"Classificação do IMC:\", axis=1, inplace = True)\r\n",
        "frequencia_cruzada.round(2)"
      ],
      "execution_count": 9,
      "outputs": [
        {
          "output_type": "execute_result",
          "data": {
            "text/html": [
              "<div>\n",
              "<style scoped>\n",
              "    .dataframe tbody tr th:only-of-type {\n",
              "        vertical-align: middle;\n",
              "    }\n",
              "\n",
              "    .dataframe tbody tr th {\n",
              "        vertical-align: top;\n",
              "    }\n",
              "\n",
              "    .dataframe thead th {\n",
              "        text-align: right;\n",
              "    }\n",
              "</style>\n",
              "<table border=\"1\" class=\"dataframe\">\n",
              "  <thead>\n",
              "    <tr style=\"text-align: right;\">\n",
              "      <th>Classificação do IMC:</th>\n",
              "      <th>Abaixo do peso</th>\n",
              "      <th>Peso normal</th>\n",
              "      <th>Sobrepeso</th>\n",
              "      <th>Obesidade</th>\n",
              "    </tr>\n",
              "    <tr>\n",
              "      <th>O que você está fazendo em relação a seu peso?</th>\n",
              "      <th></th>\n",
              "      <th></th>\n",
              "      <th></th>\n",
              "      <th></th>\n",
              "    </tr>\n",
              "  </thead>\n",
              "  <tbody>\n",
              "    <tr>\n",
              "      <th>Não estou fazendo nada</th>\n",
              "      <td>13.25</td>\n",
              "      <td>20.69</td>\n",
              "      <td>2.57</td>\n",
              "      <td>0.76</td>\n",
              "    </tr>\n",
              "    <tr>\n",
              "      <th>Estou tentando perder peso</th>\n",
              "      <td>2.00</td>\n",
              "      <td>16.69</td>\n",
              "      <td>6.80</td>\n",
              "      <td>2.83</td>\n",
              "    </tr>\n",
              "    <tr>\n",
              "      <th>Estou tentando ganhar peso</th>\n",
              "      <td>9.62</td>\n",
              "      <td>6.27</td>\n",
              "      <td>0.22</td>\n",
              "      <td>0.04</td>\n",
              "    </tr>\n",
              "    <tr>\n",
              "      <th>Estou tentando manter o mesmo peso</th>\n",
              "      <td>4.83</td>\n",
              "      <td>11.27</td>\n",
              "      <td>0.97</td>\n",
              "      <td>0.19</td>\n",
              "    </tr>\n",
              "    <tr>\n",
              "      <th>Não informado</th>\n",
              "      <td>0.35</td>\n",
              "      <td>0.57</td>\n",
              "      <td>0.07</td>\n",
              "      <td>0.01</td>\n",
              "    </tr>\n",
              "  </tbody>\n",
              "</table>\n",
              "</div>"
            ],
            "text/plain": [
              "Classificação do IMC:                           Abaixo do peso  ...  Obesidade\n",
              "O que você está fazendo em relação a seu peso?                  ...           \n",
              "Não estou fazendo nada                                   13.25  ...       0.76\n",
              "Estou tentando perder peso                                2.00  ...       2.83\n",
              "Estou tentando ganhar peso                                9.62  ...       0.04\n",
              "Estou tentando manter o mesmo peso                        4.83  ...       0.19\n",
              "Não informado                                             0.35  ...       0.01\n",
              "\n",
              "[5 rows x 4 columns]"
            ]
          },
          "metadata": {
            "tags": []
          },
          "execution_count": 9
        }
      ]
    },
    {
      "cell_type": "markdown",
      "metadata": {
        "id": "Sd3pw-lGxd7H"
      },
      "source": [
        "Já analisando o que os estudantes estão fazendo em relação ao peso, foi observado que:\r\n",
        "\r\n",
        "|| Abaixo do peso  | Peso normal  |\r\n",
        "|-|:-:|:--:|\r\n",
        "|**Não estou fazendo nada**|13.25%|20.69%|\r\n",
        "|**Estou tentando perder peso**|2.00%|16.69%|\r\n",
        "|**Estou tentando ganhar peso**|9.62%|6.27%|\r\n",
        "|**Estou tentando manter o mesmo peso**|4.83%|11.27%|\r\n",
        ">\r\n",
        "Ou seja, é possível identificar alguns comportamentos preocupantes."
      ]
    },
    {
      "cell_type": "markdown",
      "metadata": {
        "id": "caH1wXTsxhBw"
      },
      "source": [
        "O transtorno dismórfico corporal geralmente não vem sozinho: cerca de 32% das pessoas que sofrem com o distúrbio de imagem sofrem de anorexia ou bulimia."
      ]
    },
    {
      "cell_type": "code",
      "metadata": {
        "colab": {
          "base_uri": "https://localhost:8080/",
          "height": 173
        },
        "id": "uTTzJ5LGxCq2",
        "outputId": "1cdb9731-50a1-46f6-e959-7965f12506de"
      },
      "source": [
        "#Calculando a frequência cruzando a Classificação do IMC e a pergunta \"VB11003: NOS ÚLTIMOS 30 DIAS, \r\n",
        "#você vomitou ou tomou laxantes para perder peso ou evitar ganhar peso?\"\r\n",
        "\r\n",
        "#Criando os dicionários\r\n",
        "respostas_indices = cria_dicionario_respostas(\"VB11003\")[0]\r\n",
        "\r\n",
        "frequencia_cruzada = pd.crosstab(dados[\"VB11003\"], dados[\"CLASSE_IMC\"], normalize = True) * 100\r\n",
        "frequencia_cruzada.rename(index = respostas_indices, inplace = True)\r\n",
        "frequencia_cruzada.rename_axis(\"Classificação do IMC:\", axis=1, inplace = True)\r\n",
        "frequencia_cruzada.round(2)"
      ],
      "execution_count": 10,
      "outputs": [
        {
          "output_type": "execute_result",
          "data": {
            "text/html": [
              "<div>\n",
              "<style scoped>\n",
              "    .dataframe tbody tr th:only-of-type {\n",
              "        vertical-align: middle;\n",
              "    }\n",
              "\n",
              "    .dataframe tbody tr th {\n",
              "        vertical-align: top;\n",
              "    }\n",
              "\n",
              "    .dataframe thead th {\n",
              "        text-align: right;\n",
              "    }\n",
              "</style>\n",
              "<table border=\"1\" class=\"dataframe\">\n",
              "  <thead>\n",
              "    <tr style=\"text-align: right;\">\n",
              "      <th>Classificação do IMC:</th>\n",
              "      <th>Abaixo do peso</th>\n",
              "      <th>Peso normal</th>\n",
              "      <th>Sobrepeso</th>\n",
              "      <th>Obesidade</th>\n",
              "    </tr>\n",
              "    <tr>\n",
              "      <th>VB11003</th>\n",
              "      <th></th>\n",
              "      <th></th>\n",
              "      <th></th>\n",
              "      <th></th>\n",
              "    </tr>\n",
              "  </thead>\n",
              "  <tbody>\n",
              "    <tr>\n",
              "      <th>Sim</th>\n",
              "      <td>2.10</td>\n",
              "      <td>3.98</td>\n",
              "      <td>1.15</td>\n",
              "      <td>0.40</td>\n",
              "    </tr>\n",
              "    <tr>\n",
              "      <th>Não</th>\n",
              "      <td>27.53</td>\n",
              "      <td>50.92</td>\n",
              "      <td>9.40</td>\n",
              "      <td>3.40</td>\n",
              "    </tr>\n",
              "    <tr>\n",
              "      <th>Não informado</th>\n",
              "      <td>0.42</td>\n",
              "      <td>0.60</td>\n",
              "      <td>0.08</td>\n",
              "      <td>0.02</td>\n",
              "    </tr>\n",
              "  </tbody>\n",
              "</table>\n",
              "</div>"
            ],
            "text/plain": [
              "Classificação do IMC:  Abaixo do peso  Peso normal  Sobrepeso  Obesidade\n",
              "VB11003                                                                 \n",
              "Sim                              2.10         3.98       1.15       0.40\n",
              "Não                             27.53        50.92       9.40       3.40\n",
              "Não informado                    0.42         0.60       0.08       0.02"
            ]
          },
          "metadata": {
            "tags": []
          },
          "execution_count": 10
        }
      ]
    },
    {
      "cell_type": "markdown",
      "metadata": {
        "id": "2PrvN08nxl1q"
      },
      "source": [
        "Felizmente, 91.25% dos estudantes responderam \"Não\" para pergunta acima.\r\n",
        "\r\n",
        "Ainda assim, é importante ressaltar que dentre os estudantes que responderam \"Sim\", a maior porcentagem está \"Abaixo do Peso\" ou tem \"Peso Normal\"."
      ]
    },
    {
      "cell_type": "markdown",
      "metadata": {
        "id": "BNFaPYBgxodT"
      },
      "source": [
        "A origem do transtorno é neuroquímica, mas o **fator ambiental** exerce bastante influência, principalmente na fase da adolescência, onde o cérebro está em formação."
      ]
    },
    {
      "cell_type": "code",
      "metadata": {
        "colab": {
          "base_uri": "https://localhost:8080/",
          "height": 359
        },
        "id": "dLuN-qPrxCtw",
        "outputId": "7bebe183-1d18-456b-b36a-8d2387483ec2"
      },
      "source": [
        "#Calculando a frequência cruzando a Classificação do IMC e a pergunta \"VB07008: NOS ÚLTIMOS 30 DIAS, \r\n",
        "#qual o motivo/causa de seus colegas terem te esculachado, zombado, zoado, caçoado, mangado, intimidado ou humilhado?\"\r\n",
        "\r\n",
        "#Criando os dicionários\r\n",
        "respostas_indices = cria_dicionario_respostas(\"VB07008\")[0]\r\n",
        "\r\n",
        "frequencia_cruzada = pd.crosstab(dados[\"VB07008\"], dados[\"CLASSE_IMC\"], normalize = \"columns\") * 100\r\n",
        "frequencia_cruzada.rename(index = respostas_indices, inplace = True)\r\n",
        "frequencia_cruzada.rename_axis(\"Classificação do IMC:\", axis=1, inplace = True)\r\n",
        "frequencia_cruzada.round(2)"
      ],
      "execution_count": 11,
      "outputs": [
        {
          "output_type": "execute_result",
          "data": {
            "text/html": [
              "<div>\n",
              "<style scoped>\n",
              "    .dataframe tbody tr th:only-of-type {\n",
              "        vertical-align: middle;\n",
              "    }\n",
              "\n",
              "    .dataframe tbody tr th {\n",
              "        vertical-align: top;\n",
              "    }\n",
              "\n",
              "    .dataframe thead th {\n",
              "        text-align: right;\n",
              "    }\n",
              "</style>\n",
              "<table border=\"1\" class=\"dataframe\">\n",
              "  <thead>\n",
              "    <tr style=\"text-align: right;\">\n",
              "      <th>Classificação do IMC:</th>\n",
              "      <th>Abaixo do peso</th>\n",
              "      <th>Peso normal</th>\n",
              "      <th>Sobrepeso</th>\n",
              "      <th>Obesidade</th>\n",
              "    </tr>\n",
              "    <tr>\n",
              "      <th>VB07008</th>\n",
              "      <th></th>\n",
              "      <th></th>\n",
              "      <th></th>\n",
              "      <th></th>\n",
              "    </tr>\n",
              "  </thead>\n",
              "  <tbody>\n",
              "    <tr>\n",
              "      <th>Pulo no questionário</th>\n",
              "      <td>54.07</td>\n",
              "      <td>57.27</td>\n",
              "      <td>55.06</td>\n",
              "      <td>51.97</td>\n",
              "    </tr>\n",
              "    <tr>\n",
              "      <th>A minha cor ou raça</th>\n",
              "      <td>2.77</td>\n",
              "      <td>2.38</td>\n",
              "      <td>2.10</td>\n",
              "      <td>1.42</td>\n",
              "    </tr>\n",
              "    <tr>\n",
              "      <th>A minha religião</th>\n",
              "      <td>1.65</td>\n",
              "      <td>1.44</td>\n",
              "      <td>1.25</td>\n",
              "      <td>0.79</td>\n",
              "    </tr>\n",
              "    <tr>\n",
              "      <th>A aparência do meu rosto</th>\n",
              "      <td>5.23</td>\n",
              "      <td>4.35</td>\n",
              "      <td>2.27</td>\n",
              "      <td>0.79</td>\n",
              "    </tr>\n",
              "    <tr>\n",
              "      <th>A aparência do meu corpo</th>\n",
              "      <td>6.31</td>\n",
              "      <td>3.89</td>\n",
              "      <td>14.83</td>\n",
              "      <td>28.12</td>\n",
              "    </tr>\n",
              "    <tr>\n",
              "      <th>A minha orientação sexual</th>\n",
              "      <td>0.90</td>\n",
              "      <td>1.00</td>\n",
              "      <td>1.02</td>\n",
              "      <td>0.79</td>\n",
              "    </tr>\n",
              "    <tr>\n",
              "      <th>A minha região de origem</th>\n",
              "      <td>0.74</td>\n",
              "      <td>0.74</td>\n",
              "      <td>0.68</td>\n",
              "      <td>0.32</td>\n",
              "    </tr>\n",
              "    <tr>\n",
              "      <th>Outros motivos/causas</th>\n",
              "      <td>27.82</td>\n",
              "      <td>28.45</td>\n",
              "      <td>22.33</td>\n",
              "      <td>15.48</td>\n",
              "    </tr>\n",
              "    <tr>\n",
              "      <th>Não informado</th>\n",
              "      <td>0.50</td>\n",
              "      <td>0.48</td>\n",
              "      <td>0.45</td>\n",
              "      <td>0.32</td>\n",
              "    </tr>\n",
              "  </tbody>\n",
              "</table>\n",
              "</div>"
            ],
            "text/plain": [
              "Classificação do IMC:      Abaixo do peso  Peso normal  Sobrepeso  Obesidade\n",
              "VB07008                                                                     \n",
              "Pulo no questionário                54.07        57.27      55.06      51.97\n",
              "A minha cor ou raça                  2.77         2.38       2.10       1.42\n",
              "A minha religião                     1.65         1.44       1.25       0.79\n",
              "A aparência do meu rosto             5.23         4.35       2.27       0.79\n",
              "A aparência do meu corpo             6.31         3.89      14.83      28.12\n",
              "A minha orientação sexual            0.90         1.00       1.02       0.79\n",
              "A minha região de origem             0.74         0.74       0.68       0.32\n",
              "Outros motivos/causas               27.82        28.45      22.33      15.48\n",
              "Não informado                        0.50         0.48       0.45       0.32"
            ]
          },
          "metadata": {
            "tags": []
          },
          "execution_count": 11
        }
      ]
    },
    {
      "cell_type": "markdown",
      "metadata": {
        "id": "7WgHKbhAxs-z"
      },
      "source": [
        "Ao normalizar pelas colunas, é possível observar que estudantes em todas as classificações de IMC sofrem bullying devido à aparência do seu corpo.\r\n",
        "\r\n",
        "Especialmente entre estudantes com sobrepeso e obesidade, essa motivação é frequente.\r\n",
        "\r\n",
        "|  | Abaixo do peso | Peso normal | Sobrepeso | Obesidade |\r\n",
        "|-|:-:|:-:|:-:|:-:|\r\n",
        "| **A aparência do meu corpo** | 6.31% | 3.89% |  14.83% |  28.12% |"
      ]
    },
    {
      "cell_type": "markdown",
      "metadata": {
        "id": "VT8-11gExvvY"
      },
      "source": [
        "**Changing Pandas Crosstab Aggregation**\r\n",
        "\r\n",
        "If you wanted to change the type of aggregation used, you can apply the aggfunc parameter. To use the aggfunc parameter requires the values parameter to also be passed."
      ]
    },
    {
      "cell_type": "code",
      "metadata": {
        "colab": {
          "base_uri": "https://localhost:8080/",
          "height": 266
        },
        "id": "IRdTNYXCxGuN",
        "outputId": "b9f5e197-37a1-4c34-8660-c9fe20cee3f6"
      },
      "source": [
        "#Calculando a frequência cruzando o Sexo e a pergunta \"VB11001: Quanto ao seu corpo, você se considera:\" \r\n",
        "#e agregando pelo valor mínimo do IMC\r\n",
        "\r\n",
        "#Criando os dicionários\r\n",
        "respostas_indices = cria_dicionario_respostas(\"VB11001\")[0]\r\n",
        "pergunta_indices = cria_dicionario_respostas(\"VB11001\")[1]\r\n",
        "\r\n",
        "respostas_colunas = cria_dicionario_respostas(\"VB01001\")[0]\r\n",
        "pergunta_colunas = cria_dicionario_respostas(\"VB01001\")[1]\r\n",
        "\r\n",
        "frequencia_cruzada = pd.crosstab(dados[\"VB11001\"], dados[\"VB01001\"], values=dados[\"IMC\"], aggfunc=\"min\").round(2) \r\n",
        "frequencia_cruzada.rename(index = respostas_indices, inplace = True)\r\n",
        "frequencia_cruzada.rename(columns = respostas_colunas, inplace = True)\r\n",
        "frequencia_cruzada.rename_axis(pergunta_indices, axis=0, inplace = True)\r\n",
        "frequencia_cruzada.rename_axis(pergunta_colunas, axis=1, inplace = True)\r\n",
        "frequencia_cruzada"
      ],
      "execution_count": 12,
      "outputs": [
        {
          "output_type": "execute_result",
          "data": {
            "text/html": [
              "<div>\n",
              "<style scoped>\n",
              "    .dataframe tbody tr th:only-of-type {\n",
              "        vertical-align: middle;\n",
              "    }\n",
              "\n",
              "    .dataframe tbody tr th {\n",
              "        vertical-align: top;\n",
              "    }\n",
              "\n",
              "    .dataframe thead th {\n",
              "        text-align: right;\n",
              "    }\n",
              "</style>\n",
              "<table border=\"1\" class=\"dataframe\">\n",
              "  <thead>\n",
              "    <tr style=\"text-align: right;\">\n",
              "      <th>Qual é o seu sexo?</th>\n",
              "      <th>Masculino</th>\n",
              "      <th>Feminino</th>\n",
              "    </tr>\n",
              "    <tr>\n",
              "      <th>Quanto ao seu corpo, você se considera:</th>\n",
              "      <th></th>\n",
              "      <th></th>\n",
              "    </tr>\n",
              "  </thead>\n",
              "  <tbody>\n",
              "    <tr>\n",
              "      <th>Muito magro(a)</th>\n",
              "      <td>12.88</td>\n",
              "      <td>13.00</td>\n",
              "    </tr>\n",
              "    <tr>\n",
              "      <th>Magro(a)</th>\n",
              "      <td>11.90</td>\n",
              "      <td>12.17</td>\n",
              "    </tr>\n",
              "    <tr>\n",
              "      <th>Normal</th>\n",
              "      <td>12.48</td>\n",
              "      <td>12.32</td>\n",
              "    </tr>\n",
              "    <tr>\n",
              "      <th>Gordo(a)</th>\n",
              "      <td>0.40</td>\n",
              "      <td>13.94</td>\n",
              "    </tr>\n",
              "    <tr>\n",
              "      <th>Muito Gordo(a)</th>\n",
              "      <td>13.89</td>\n",
              "      <td>11.14</td>\n",
              "    </tr>\n",
              "    <tr>\n",
              "      <th>Não informado</th>\n",
              "      <td>13.63</td>\n",
              "      <td>13.92</td>\n",
              "    </tr>\n",
              "  </tbody>\n",
              "</table>\n",
              "</div>"
            ],
            "text/plain": [
              "Qual é o seu sexo?                        Masculino  Feminino\n",
              "Quanto ao seu corpo, você se considera:                      \n",
              "Muito magro(a)                                12.88     13.00\n",
              "Magro(a)                                      11.90     12.17\n",
              "Normal                                        12.48     12.32\n",
              "Gordo(a)                                       0.40     13.94\n",
              "Muito Gordo(a)                                13.89     11.14\n",
              "Não informado                                 13.63     13.92"
            ]
          },
          "metadata": {
            "tags": []
          },
          "execution_count": 12
        }
      ]
    },
    {
      "cell_type": "markdown",
      "metadata": {
        "id": "Yud4RWecxz58"
      },
      "source": [
        "Analisando o IMC mínimo em cada categoria e nos sexos feminino e masculino, infelizmente, algum erro na coleta de dados resultou em um IMC de 0.40, que não é um valor possível.\r\n",
        "\r\n",
        "Sendo assim, esse valor será desconsiderado."
      ]
    },
    {
      "cell_type": "code",
      "metadata": {
        "colab": {
          "base_uri": "https://localhost:8080/",
          "height": 146
        },
        "id": "8s_-VqQKx1xC",
        "outputId": "262be688-5320-4780-fde8-9d606e139095"
      },
      "source": [
        "dados.loc[dados[\"IMC\"] < 10]"
      ],
      "execution_count": 13,
      "outputs": [
        {
          "output_type": "execute_result",
          "data": {
            "text/html": [
              "<div>\n",
              "<style scoped>\n",
              "    .dataframe tbody tr th:only-of-type {\n",
              "        vertical-align: middle;\n",
              "    }\n",
              "\n",
              "    .dataframe tbody tr th {\n",
              "        vertical-align: top;\n",
              "    }\n",
              "\n",
              "    .dataframe thead th {\n",
              "        text-align: right;\n",
              "    }\n",
              "</style>\n",
              "<table border=\"1\" class=\"dataframe\">\n",
              "  <thead>\n",
              "    <tr style=\"text-align: right;\">\n",
              "      <th></th>\n",
              "      <th>ANOPESQ</th>\n",
              "      <th>PAIS</th>\n",
              "      <th>REGEOGR</th>\n",
              "      <th>VB00004</th>\n",
              "      <th>VB01001</th>\n",
              "      <th>VB01002</th>\n",
              "      <th>VB01003</th>\n",
              "      <th>VB01004</th>\n",
              "      <th>VB01005</th>\n",
              "      <th>VB01006</th>\n",
              "      <th>VB01007</th>\n",
              "      <th>VB01008A</th>\n",
              "      <th>VB01010A</th>\n",
              "      <th>VB01011</th>\n",
              "      <th>VB01012</th>\n",
              "      <th>VB01013</th>\n",
              "      <th>VB01014</th>\n",
              "      <th>VB01015A</th>\n",
              "      <th>VB01016</th>\n",
              "      <th>VB01017</th>\n",
              "      <th>VB01018</th>\n",
              "      <th>VB01019</th>\n",
              "      <th>VB01020A</th>\n",
              "      <th>VB01021</th>\n",
              "      <th>VB01022</th>\n",
              "      <th>VB01023</th>\n",
              "      <th>VB01024</th>\n",
              "      <th>VB01025</th>\n",
              "      <th>VB01026</th>\n",
              "      <th>VB02001</th>\n",
              "      <th>VB02002</th>\n",
              "      <th>VB02004A</th>\n",
              "      <th>VB02010</th>\n",
              "      <th>VB02011</th>\n",
              "      <th>VB02013</th>\n",
              "      <th>VB02017A</th>\n",
              "      <th>VB02018A</th>\n",
              "      <th>VB02019A</th>\n",
              "      <th>VB02020A</th>\n",
              "      <th>VB02021</th>\n",
              "      <th>...</th>\n",
              "      <th>VB11007</th>\n",
              "      <th>VB12001</th>\n",
              "      <th>VB12002</th>\n",
              "      <th>VB12003</th>\n",
              "      <th>VB13001</th>\n",
              "      <th>VB13002A</th>\n",
              "      <th>VB13004A</th>\n",
              "      <th>VB13005</th>\n",
              "      <th>VB13006</th>\n",
              "      <th>VB13007</th>\n",
              "      <th>VB13008</th>\n",
              "      <th>VB13009</th>\n",
              "      <th>VB14001</th>\n",
              "      <th>VB14002</th>\n",
              "      <th>VB16001A01</th>\n",
              "      <th>VB16001A02</th>\n",
              "      <th>VB16001A03</th>\n",
              "      <th>VB16001A04</th>\n",
              "      <th>VB16001A05</th>\n",
              "      <th>VB16001A06</th>\n",
              "      <th>VB16001A07</th>\n",
              "      <th>VB16001A08</th>\n",
              "      <th>VB17001</th>\n",
              "      <th>VB17002</th>\n",
              "      <th>VB17003</th>\n",
              "      <th>VB17004</th>\n",
              "      <th>VB17005</th>\n",
              "      <th>VB17006</th>\n",
              "      <th>ESTRATO_EXP</th>\n",
              "      <th>ESTRATOGEOREG</th>\n",
              "      <th>PESO</th>\n",
              "      <th>V0006</th>\n",
              "      <th>V0007</th>\n",
              "      <th>V0008</th>\n",
              "      <th>V0041</th>\n",
              "      <th>aluno</th>\n",
              "      <th>escola</th>\n",
              "      <th>turma</th>\n",
              "      <th>IMC</th>\n",
              "      <th>CLASSE_IMC</th>\n",
              "    </tr>\n",
              "  </thead>\n",
              "  <tbody>\n",
              "    <tr>\n",
              "      <th>15673</th>\n",
              "      <td>2015</td>\n",
              "      <td>76</td>\n",
              "      <td>5</td>\n",
              "      <td>1</td>\n",
              "      <td>1</td>\n",
              "      <td>4</td>\n",
              "      <td>12</td>\n",
              "      <td>3</td>\n",
              "      <td>9</td>\n",
              "      <td>1</td>\n",
              "      <td>1</td>\n",
              "      <td>8</td>\n",
              "      <td>4</td>\n",
              "      <td>1</td>\n",
              "      <td>1</td>\n",
              "      <td>2</td>\n",
              "      <td>1</td>\n",
              "      <td>1</td>\n",
              "      <td>1</td>\n",
              "      <td>1</td>\n",
              "      <td>1</td>\n",
              "      <td>2</td>\n",
              "      <td>2</td>\n",
              "      <td>2</td>\n",
              "      <td>3</td>\n",
              "      <td>1</td>\n",
              "      <td>2</td>\n",
              "      <td>2</td>\n",
              "      <td>3</td>\n",
              "      <td>8</td>\n",
              "      <td>1</td>\n",
              "      <td>8</td>\n",
              "      <td>1</td>\n",
              "      <td>4</td>\n",
              "      <td>3</td>\n",
              "      <td>1</td>\n",
              "      <td>6</td>\n",
              "      <td>1</td>\n",
              "      <td>1</td>\n",
              "      <td>1</td>\n",
              "      <td>...</td>\n",
              "      <td>1</td>\n",
              "      <td>1</td>\n",
              "      <td>3</td>\n",
              "      <td>4</td>\n",
              "      <td>1</td>\n",
              "      <td>2</td>\n",
              "      <td>1</td>\n",
              "      <td>2</td>\n",
              "      <td>2</td>\n",
              "      <td>1</td>\n",
              "      <td>1</td>\n",
              "      <td>-1</td>\n",
              "      <td>1</td>\n",
              "      <td>1</td>\n",
              "      <td>2</td>\n",
              "      <td>2</td>\n",
              "      <td>2</td>\n",
              "      <td>1</td>\n",
              "      <td>2</td>\n",
              "      <td>2</td>\n",
              "      <td>2</td>\n",
              "      <td>2</td>\n",
              "      <td>408.0</td>\n",
              "      <td>1418.0</td>\n",
              "      <td>0.8</td>\n",
              "      <td>141.8</td>\n",
              "      <td>2</td>\n",
              "      <td>2</td>\n",
              "      <td>5121</td>\n",
              "      <td>5</td>\n",
              "      <td>313.160012</td>\n",
              "      <td>1</td>\n",
              "      <td>1</td>\n",
              "      <td>2</td>\n",
              "      <td>-1</td>\n",
              "      <td>15674</td>\n",
              "      <td>355</td>\n",
              "      <td>317</td>\n",
              "      <td>0.397867</td>\n",
              "      <td>Abaixo do peso</td>\n",
              "    </tr>\n",
              "  </tbody>\n",
              "</table>\n",
              "<p>1 rows × 183 columns</p>\n",
              "</div>"
            ],
            "text/plain": [
              "       ANOPESQ  PAIS  REGEOGR  VB00004  ...  escola  turma       IMC      CLASSE_IMC\n",
              "15673     2015    76        5        1  ...     355    317  0.397867  Abaixo do peso\n",
              "\n",
              "[1 rows x 183 columns]"
            ]
          },
          "metadata": {
            "tags": []
          },
          "execution_count": 13
        }
      ]
    },
    {
      "cell_type": "code",
      "metadata": {
        "colab": {
          "base_uri": "https://localhost:8080/"
        },
        "id": "JG4vTelvx1zh",
        "outputId": "c0e1d7f1-b496-4484-9b01-ac449d3ffb1a"
      },
      "source": [
        "dados.loc[15673][[\"VB17001\", \"VB17002\", \"IMC\"]]"
      ],
      "execution_count": 14,
      "outputs": [
        {
          "output_type": "execute_result",
          "data": {
            "text/plain": [
              "VB17001         408\n",
              "VB17002        1418\n",
              "IMC        0.397867\n",
              "Name: 15673, dtype: object"
            ]
          },
          "metadata": {
            "tags": []
          },
          "execution_count": 14
        }
      ]
    },
    {
      "cell_type": "code",
      "metadata": {
        "id": "zbuNlFCUx12H"
      },
      "source": [
        "dados = dados.drop([15673], axis=0)"
      ],
      "execution_count": 15,
      "outputs": []
    },
    {
      "cell_type": "markdown",
      "metadata": {
        "id": "3xcJ7e_Kx6X3"
      },
      "source": [
        "Uma nova análise será feita considerando a quantidade de estudantes com IMC menor que 18.5 em cada categoria e nos sexos feminino e masculino."
      ]
    },
    {
      "cell_type": "code",
      "metadata": {
        "colab": {
          "base_uri": "https://localhost:8080/",
          "height": 297
        },
        "id": "pRYMFMb8x17s",
        "outputId": "71007ead-2e7f-4fd7-bf51-5d92bc2b256d"
      },
      "source": [
        "#Calculando a frequência cruzando o Sexo e a pergunta \"VB11001: Quanto ao seu corpo, você se considera:\" \r\n",
        "#Agregando pela contagem de IMC menor que 18,5\r\n",
        "\r\n",
        "#Criando os dicionários\r\n",
        "respostas_indices = cria_dicionario_respostas(\"VB11001\")[0]\r\n",
        "pergunta_indices = cria_dicionario_respostas(\"VB11001\")[1]\r\n",
        "\r\n",
        "respostas_colunas = cria_dicionario_respostas(\"VB01001\")[0]\r\n",
        "pergunta_colunas = cria_dicionario_respostas(\"VB01001\")[1]\r\n",
        "\r\n",
        "frequencia_cruzada = pd.crosstab(dados[\"VB11001\"], dados[\"VB01001\"], values=dados[dados[\"IMC\"]<18.5][\"IMC\"], \r\n",
        "                                 aggfunc=\"count\", margins=True, margins_name=\"Total\")\r\n",
        "frequencia_cruzada.rename(index = respostas_indices, inplace = True)\r\n",
        "frequencia_cruzada.rename(columns = respostas_colunas, inplace = True)\r\n",
        "frequencia_cruzada.rename_axis(pergunta_indices, axis=0, inplace = True)\r\n",
        "frequencia_cruzada.rename_axis(pergunta_colunas, axis=1, inplace = True)\r\n",
        "frequencia_cruzada"
      ],
      "execution_count": 16,
      "outputs": [
        {
          "output_type": "execute_result",
          "data": {
            "text/html": [
              "<div>\n",
              "<style scoped>\n",
              "    .dataframe tbody tr th:only-of-type {\n",
              "        vertical-align: middle;\n",
              "    }\n",
              "\n",
              "    .dataframe tbody tr th {\n",
              "        vertical-align: top;\n",
              "    }\n",
              "\n",
              "    .dataframe thead th {\n",
              "        text-align: right;\n",
              "    }\n",
              "</style>\n",
              "<table border=\"1\" class=\"dataframe\">\n",
              "  <thead>\n",
              "    <tr style=\"text-align: right;\">\n",
              "      <th>Qual é o seu sexo?</th>\n",
              "      <th>Masculino</th>\n",
              "      <th>Feminino</th>\n",
              "      <th>Total</th>\n",
              "    </tr>\n",
              "    <tr>\n",
              "      <th>Quanto ao seu corpo, você se considera:</th>\n",
              "      <th></th>\n",
              "      <th></th>\n",
              "      <th></th>\n",
              "    </tr>\n",
              "  </thead>\n",
              "  <tbody>\n",
              "    <tr>\n",
              "      <th>Muito magro(a)</th>\n",
              "      <td>249</td>\n",
              "      <td>387</td>\n",
              "      <td>636</td>\n",
              "    </tr>\n",
              "    <tr>\n",
              "      <th>Magro(a)</th>\n",
              "      <td>967</td>\n",
              "      <td>869</td>\n",
              "      <td>1836</td>\n",
              "    </tr>\n",
              "    <tr>\n",
              "      <th>Normal</th>\n",
              "      <td>1300</td>\n",
              "      <td>991</td>\n",
              "      <td>2291</td>\n",
              "    </tr>\n",
              "    <tr>\n",
              "      <th>Gordo(a)</th>\n",
              "      <td>48</td>\n",
              "      <td>75</td>\n",
              "      <td>123</td>\n",
              "    </tr>\n",
              "    <tr>\n",
              "      <th>Muito Gordo(a)</th>\n",
              "      <td>17</td>\n",
              "      <td>18</td>\n",
              "      <td>35</td>\n",
              "    </tr>\n",
              "    <tr>\n",
              "      <th>Não informado</th>\n",
              "      <td>38</td>\n",
              "      <td>15</td>\n",
              "      <td>53</td>\n",
              "    </tr>\n",
              "    <tr>\n",
              "      <th>Total</th>\n",
              "      <td>2619</td>\n",
              "      <td>2355</td>\n",
              "      <td>4974</td>\n",
              "    </tr>\n",
              "  </tbody>\n",
              "</table>\n",
              "</div>"
            ],
            "text/plain": [
              "Qual é o seu sexo?                        Masculino  Feminino  Total\n",
              "Quanto ao seu corpo, você se considera:                             \n",
              "Muito magro(a)                                  249       387    636\n",
              "Magro(a)                                        967       869   1836\n",
              "Normal                                         1300       991   2291\n",
              "Gordo(a)                                         48        75    123\n",
              "Muito Gordo(a)                                   17        18     35\n",
              "Não informado                                    38        15     53\n",
              "Total                                          2619      2355   4974"
            ]
          },
          "metadata": {
            "tags": []
          },
          "execution_count": 16
        }
      ]
    },
    {
      "cell_type": "markdown",
      "metadata": {
        "id": "ynHqzMWCyAeP"
      },
      "source": [
        "Na análise acima é possível ver um indício preocupante.\r\n",
        "\r\n",
        "Uma quantidade considerável de estudantes com IMC menor que 18.5, ou seja, abaixo do peso, se considera normal.\r\n",
        "\r\n",
        "|  | Masculino | Feminino |\r\n",
        "|-|:-:|:-:|\r\n",
        "| **Normal** | 49.64% | 42.08% |"
      ]
    },
    {
      "cell_type": "markdown",
      "metadata": {
        "id": "I4QPwCZs097Z"
      },
      "source": [
        "**Índice de Massa Corporal**"
      ]
    },
    {
      "cell_type": "code",
      "metadata": {
        "colab": {
          "base_uri": "https://localhost:8080/",
          "height": 142
        },
        "id": "wxGJMUoT06LU",
        "outputId": "4184b8ff-74ce-4798-dfe2-8fde65dde697"
      },
      "source": [
        "#Calculando a média \r\n",
        "media_imc = round(dados[\"IMC\"].groupby(dados[\"VB01001\"]).mean(), 2)\r\n",
        "\r\n",
        "#Calculando o desvio padrão \r\n",
        "desvio_padrao_imc = round(dados[\"IMC\"].groupby(dados[\"VB01001\"]).std(), 2)\r\n",
        "\r\n",
        "#Calculando a variância amostral \r\n",
        "variancia_imc = round(dados[\"IMC\"].groupby(dados[\"VB01001\"]).var(), 2)\r\n",
        "\r\n",
        "#Exibindo as três variáveis em uma tabela\r\n",
        "tabela_imc = pd.concat([media_imc, desvio_padrao_imc, variancia_imc], axis=1, keys=[\"Média\", \"Desvio Padrão\", \"Variância\"])\r\n",
        "tabela_imc = tabela_imc.rename_axis(\"Sexo\", axis=\"index\")\r\n",
        "tabela_imc = tabela_imc.rename({1: \"Masculino\", 2: \"Feminino\"}, axis=\"index\")\r\n",
        "tabela_imc = tabela_imc.rename_axis(\"IMC\", axis=\"columns\")\r\n",
        "tabela_imc"
      ],
      "execution_count": 17,
      "outputs": [
        {
          "output_type": "execute_result",
          "data": {
            "text/html": [
              "<div>\n",
              "<style scoped>\n",
              "    .dataframe tbody tr th:only-of-type {\n",
              "        vertical-align: middle;\n",
              "    }\n",
              "\n",
              "    .dataframe tbody tr th {\n",
              "        vertical-align: top;\n",
              "    }\n",
              "\n",
              "    .dataframe thead th {\n",
              "        text-align: right;\n",
              "    }\n",
              "</style>\n",
              "<table border=\"1\" class=\"dataframe\">\n",
              "  <thead>\n",
              "    <tr style=\"text-align: right;\">\n",
              "      <th>IMC</th>\n",
              "      <th>Média</th>\n",
              "      <th>Desvio Padrão</th>\n",
              "      <th>Variância</th>\n",
              "    </tr>\n",
              "    <tr>\n",
              "      <th>Sexo</th>\n",
              "      <th></th>\n",
              "      <th></th>\n",
              "      <th></th>\n",
              "    </tr>\n",
              "  </thead>\n",
              "  <tbody>\n",
              "    <tr>\n",
              "      <th>Masculino</th>\n",
              "      <td>20.83</td>\n",
              "      <td>4.27</td>\n",
              "      <td>18.23</td>\n",
              "    </tr>\n",
              "    <tr>\n",
              "      <th>Feminino</th>\n",
              "      <td>21.09</td>\n",
              "      <td>4.21</td>\n",
              "      <td>17.72</td>\n",
              "    </tr>\n",
              "  </tbody>\n",
              "</table>\n",
              "</div>"
            ],
            "text/plain": [
              "IMC        Média  Desvio Padrão  Variância\n",
              "Sexo                                      \n",
              "Masculino  20.83           4.27      18.23\n",
              "Feminino   21.09           4.21      17.72"
            ]
          },
          "metadata": {
            "tags": []
          },
          "execution_count": 17
        }
      ]
    },
    {
      "cell_type": "code",
      "metadata": {
        "colab": {
          "base_uri": "https://localhost:8080/",
          "height": 412
        },
        "id": "3Yg0nUDc1Dn5",
        "outputId": "75322095-53f8-4415-a34f-c896488abc94"
      },
      "source": [
        "#Plotando o histograma relacionando o IMC e o sexo\r\n",
        "compara_histograma(\"IMC\", \"Índice de Massa Corporal\", \"VB01001\")"
      ],
      "execution_count": 18,
      "outputs": [
        {
          "output_type": "display_data",
          "data": {
            "image/png": "[encoded data removed]",
            "text/plain": [
              "<Figure size 864x432 with 1 Axes>"
            ]
          },
          "metadata": {
            "tags": [],
            "needs_background": "light"
          }
        }
      ]
    },
    {
      "cell_type": "code",
      "metadata": {
        "colab": {
          "base_uri": "https://localhost:8080/"
        },
        "id": "W0dWTwwe1FjB",
        "outputId": "5d5a17d6-3074-4be6-c5de-8b6a93ff802a"
      },
      "source": [
        "#Calculando o intervalo de confiança do IMC\r\n",
        "arredonda_tupla(zconfint(dados[\"IMC\"].to_list()))"
      ],
      "execution_count": 19,
      "outputs": [
        {
          "output_type": "execute_result",
          "data": {
            "text/plain": [
              "(20.89, 21.02)"
            ]
          },
          "metadata": {
            "tags": []
          },
          "execution_count": 19
        }
      ]
    },
    {
      "cell_type": "code",
      "metadata": {
        "colab": {
          "base_uri": "https://localhost:8080/",
          "height": 279
        },
        "id": "c77Qw7cy1HN7",
        "outputId": "bbe48512-5267-4a9d-9dc5-e6e202fe26e8"
      },
      "source": [
        "#Plotando o boxplot relacionando o IMC e o sexo\r\n",
        "ax = sns.boxplot(x = \"VB01001\", y = \"IMC\", data = dados);\r\n",
        "ax.set_ylabel(\"Índice de Massa Corporal\")\r\n",
        "ax.set_xlabel(\"Sexo\")\r\n",
        "ax;"
      ],
      "execution_count": 20,
      "outputs": [
        {
          "output_type": "display_data",
          "data": {
            "image/png": "[encoded data removed]",
            "text/plain": [
              "<Figure size 432x288 with 1 Axes>"
            ]
          },
          "metadata": {
            "tags": [],
            "needs_background": "light"
          }
        }
      ]
    },
    {
      "cell_type": "code",
      "metadata": {
        "id": "Csoric9T2mqK"
      },
      "source": [
        "#Definindo as variáveis\r\n",
        "distribuicao_imc_m = dados.query(\"VB01001 == 1\")[\"IMC\"]\r\n",
        "distribuicao_imc_f = dados.query(\"VB01001 == 2\")[\"IMC\"]"
      ],
      "execution_count": 21,
      "outputs": []
    },
    {
      "cell_type": "markdown",
      "metadata": {
        "id": "6hBgvwCc2omp"
      },
      "source": [
        "**Normal test**\r\n",
        "<br>Hipótese nula: a amostra vem de uma distribuição normal"
      ]
    },
    {
      "cell_type": "code",
      "metadata": {
        "colab": {
          "base_uri": "https://localhost:8080/"
        },
        "id": "cYViZ0He2r3t",
        "outputId": "40923717-10bc-4fcb-c11c-cbbaaf811be9"
      },
      "source": [
        "#Fazendo o teste de normalidade\r\n",
        "\r\n",
        "_, p_value_normaltest_m = normaltest(distribuicao_imc_m)\r\n",
        "_, p_value_normaltest_f = normaltest(distribuicao_imc_f)\r\n",
        "\r\n",
        "print(p_value_normaltest_m)\r\n",
        "print(p_value_normaltest_f)"
      ],
      "execution_count": 22,
      "outputs": [
        {
          "output_type": "stream",
          "text": [
            "0.0\n",
            "0.0\n"
          ],
          "name": "stdout"
        }
      ]
    },
    {
      "cell_type": "markdown",
      "metadata": {
        "id": "Y6nXWG4R2qxk"
      },
      "source": [
        "Sendo p-value menor que 0.05, a hipótese nula é rejeitada: as curvas não configuram uma distribuição normal.\r\n",
        "O teste Z não cabe nesse caso."
      ]
    },
    {
      "cell_type": "markdown",
      "metadata": {
        "id": "zcLyGDuo2wLz"
      },
      "source": [
        "**Rank-sum test**\r\n",
        "<br>Hipótese nula: as duas distribuições são provenientes da mesma distribuição"
      ]
    },
    {
      "cell_type": "code",
      "metadata": {
        "colab": {
          "base_uri": "https://localhost:8080/"
        },
        "id": "CHyq1dSW2yCK",
        "outputId": "bd918940-477f-4c30-bea8-dddb6df7a9ac"
      },
      "source": [
        "#Fazendo o rank-sum test\r\n",
        "_, p_value = ranksums(distribuicao_imc_m, distribuicao_imc_f)\r\n",
        "\r\n",
        "#Testando a hipótese\r\n",
        "p_value < 0.05"
      ],
      "execution_count": 23,
      "outputs": [
        {
          "output_type": "execute_result",
          "data": {
            "text/plain": [
              "True"
            ]
          },
          "metadata": {
            "tags": []
          },
          "execution_count": 23
        }
      ]
    },
    {
      "cell_type": "markdown",
      "metadata": {
        "id": "g8fIr3292zxT"
      },
      "source": [
        "Sendo p-value menor que 0.05, a hipótese nula é rejeitada: as distribuições são provenientes de distribuições diferentes."
      ]
    },
    {
      "cell_type": "markdown",
      "metadata": {
        "id": "VpiL1kHe22Q1"
      },
      "source": [
        "**VB11007: Como você se sente em relação ao seu corpo?**"
      ]
    },
    {
      "cell_type": "code",
      "metadata": {
        "colab": {
          "base_uri": "https://localhost:8080/"
        },
        "id": "Zy3RFnZv24PX",
        "outputId": "184e3476-e354-4ab8-fffe-83f385c4e035"
      },
      "source": [
        "cria_dicionario_respostas(\"VB11007\")"
      ],
      "execution_count": 24,
      "outputs": [
        {
          "output_type": "execute_result",
          "data": {
            "text/plain": [
              "({1: 'Muito satisfeito(a)',\n",
              "  2: 'Satisfeito(a)',\n",
              "  3: 'Indiferente',\n",
              "  4: 'Insatisfeito(a)',\n",
              "  5: 'Muito insatisfeito(a)',\n",
              "  99: 'Não informado'},\n",
              " 'Como você se sente em relação ao seu corpo?')"
            ]
          },
          "metadata": {
            "tags": []
          },
          "execution_count": 24
        }
      ]
    },
    {
      "cell_type": "code",
      "metadata": {
        "colab": {
          "base_uri": "https://localhost:8080/",
          "height": 266
        },
        "id": "779bRywW255z",
        "outputId": "a02dbd59-8c6f-4975-829a-7708feff06bb"
      },
      "source": [
        "#Calculando a frequência cruzando o sexo e a pergunta \"VB11007: Como você se sente em relação ao seu corpo?\"\r\n",
        "\r\n",
        "#Criando os dicionários\r\n",
        "respostas_indices = cria_dicionario_respostas(\"VB11007\")[0]\r\n",
        "pergunta_indices = cria_dicionario_respostas(\"VB11007\")[1]\r\n",
        "\r\n",
        "frequencia_cruzada = pd.crosstab(dados[\"VB11007\"], dados[\"VB01001\"], normalize = \"columns\", colnames=[\"Sexo\"], rownames=[pergunta_indices]) * 100\r\n",
        "frequencia_cruzada.rename(index = respostas_indices, inplace = True)\r\n",
        "frequencia_cruzada.rename(columns = {1: \"Masculino\", 2: \"Feminino\"}, inplace = True)\r\n",
        "frequencia_cruzada.round(2)"
      ],
      "execution_count": 25,
      "outputs": [
        {
          "output_type": "execute_result",
          "data": {
            "text/html": [
              "<div>\n",
              "<style scoped>\n",
              "    .dataframe tbody tr th:only-of-type {\n",
              "        vertical-align: middle;\n",
              "    }\n",
              "\n",
              "    .dataframe tbody tr th {\n",
              "        vertical-align: top;\n",
              "    }\n",
              "\n",
              "    .dataframe thead th {\n",
              "        text-align: right;\n",
              "    }\n",
              "</style>\n",
              "<table border=\"1\" class=\"dataframe\">\n",
              "  <thead>\n",
              "    <tr style=\"text-align: right;\">\n",
              "      <th>Sexo</th>\n",
              "      <th>Masculino</th>\n",
              "      <th>Feminino</th>\n",
              "    </tr>\n",
              "    <tr>\n",
              "      <th>Como você se sente em relação ao seu corpo?</th>\n",
              "      <th></th>\n",
              "      <th></th>\n",
              "    </tr>\n",
              "  </thead>\n",
              "  <tbody>\n",
              "    <tr>\n",
              "      <th>Muito satisfeito(a)</th>\n",
              "      <td>32.36</td>\n",
              "      <td>23.29</td>\n",
              "    </tr>\n",
              "    <tr>\n",
              "      <th>Satisfeito(a)</th>\n",
              "      <td>42.12</td>\n",
              "      <td>41.48</td>\n",
              "    </tr>\n",
              "    <tr>\n",
              "      <th>Indiferente</th>\n",
              "      <td>11.47</td>\n",
              "      <td>10.36</td>\n",
              "    </tr>\n",
              "    <tr>\n",
              "      <th>Insatisfeito(a)</th>\n",
              "      <td>9.49</td>\n",
              "      <td>18.62</td>\n",
              "    </tr>\n",
              "    <tr>\n",
              "      <th>Muito insatisfeito(a)</th>\n",
              "      <td>3.14</td>\n",
              "      <td>5.49</td>\n",
              "    </tr>\n",
              "    <tr>\n",
              "      <th>Não informado</th>\n",
              "      <td>1.44</td>\n",
              "      <td>0.75</td>\n",
              "    </tr>\n",
              "  </tbody>\n",
              "</table>\n",
              "</div>"
            ],
            "text/plain": [
              "Sexo                                         Masculino  Feminino\n",
              "Como você se sente em relação ao seu corpo?                     \n",
              "Muito satisfeito(a)                              32.36     23.29\n",
              "Satisfeito(a)                                    42.12     41.48\n",
              "Indiferente                                      11.47     10.36\n",
              "Insatisfeito(a)                                   9.49     18.62\n",
              "Muito insatisfeito(a)                             3.14      5.49\n",
              "Não informado                                     1.44      0.75"
            ]
          },
          "metadata": {
            "tags": []
          },
          "execution_count": 25
        }
      ]
    },
    {
      "cell_type": "markdown",
      "metadata": {
        "id": "Lpy6UDbe29i7"
      },
      "source": [
        "Ao normalizar pelas colunas, é possível observar uma maior proporção de estudantes do sexo feminino que se disseram insatisfeitas ou muito insatisfeitas em relação ao corpo.\r\n",
        "\r\n",
        "|  | Masculino | Feminino | \r\n",
        "|-|:-:|:-:|\r\n",
        "| **Insatisfeito(a)** | 9.48% | 18.62% | \r\n",
        "| **Muito insatisfeito(a)** | 3.14% | 5.49% |\r\n",
        "\r\n",
        "O inverso também é observado quando se trata de satisfação: houve uma maior proporção de estudantes do sexo masculino que se disseram muito satisfeitos em relação ao corpo.\r\n",
        "\r\n",
        "|  | Masculino | Feminino | \r\n",
        "|-|:-:|:-:|\r\n",
        "| **Muito satisfeito(a)** | 32.36% | 23.29% | "
      ]
    },
    {
      "cell_type": "code",
      "metadata": {
        "colab": {
          "base_uri": "https://localhost:8080/",
          "height": 204
        },
        "id": "rP9IPbEO28z5",
        "outputId": "64a43d7c-23e9-4144-a3e8-eaecd23f7e60"
      },
      "source": [
        "#Calculando a frequência cruzando o Sexo e a pergunta \"VB11007: Como você se sente em relação ao seu corpo?\" \r\n",
        "#Agregando pela contagem de estudantes insatisfeitos ou muito insatisfeitos em relação ao corpo\r\n",
        "\r\n",
        "#Criando os dicionários\r\n",
        "respostas_colunas = cria_dicionario_respostas(\"VB01001\")[0]\r\n",
        "pergunta_colunas = cria_dicionario_respostas(\"VB01001\")[1]\r\n",
        "\r\n",
        "frequencia_cruzada = pd.crosstab(dados[\"CLASSE_IMC\"], dados[\"VB01001\"], values=dados.query(\"VB11007 == 4 or VB11007 == 5\")[\"VB11007\"], \r\n",
        "                                 aggfunc=\"count\", normalize=\"columns\") * 100\r\n",
        "frequencia_cruzada.rename(columns = respostas_colunas, inplace = True)\r\n",
        "frequencia_cruzada.rename_axis(\"Classificação do IMC:\", axis=0, inplace = True)\r\n",
        "frequencia_cruzada.rename_axis(pergunta_colunas, axis=1, inplace = True)\r\n",
        "frequencia_cruzada.round(2)"
      ],
      "execution_count": 26,
      "outputs": [
        {
          "output_type": "execute_result",
          "data": {
            "text/html": [
              "<div>\n",
              "<style scoped>\n",
              "    .dataframe tbody tr th:only-of-type {\n",
              "        vertical-align: middle;\n",
              "    }\n",
              "\n",
              "    .dataframe tbody tr th {\n",
              "        vertical-align: top;\n",
              "    }\n",
              "\n",
              "    .dataframe thead th {\n",
              "        text-align: right;\n",
              "    }\n",
              "</style>\n",
              "<table border=\"1\" class=\"dataframe\">\n",
              "  <thead>\n",
              "    <tr style=\"text-align: right;\">\n",
              "      <th>Qual é o seu sexo?</th>\n",
              "      <th>Masculino</th>\n",
              "      <th>Feminino</th>\n",
              "    </tr>\n",
              "    <tr>\n",
              "      <th>Classificação do IMC:</th>\n",
              "      <th></th>\n",
              "      <th></th>\n",
              "    </tr>\n",
              "  </thead>\n",
              "  <tbody>\n",
              "    <tr>\n",
              "      <th>Abaixo do peso</th>\n",
              "      <td>22.28</td>\n",
              "      <td>19.51</td>\n",
              "    </tr>\n",
              "    <tr>\n",
              "      <th>Peso normal</th>\n",
              "      <td>47.80</td>\n",
              "      <td>51.40</td>\n",
              "    </tr>\n",
              "    <tr>\n",
              "      <th>Sobrepeso</th>\n",
              "      <td>19.41</td>\n",
              "      <td>20.36</td>\n",
              "    </tr>\n",
              "    <tr>\n",
              "      <th>Obesidade</th>\n",
              "      <td>10.52</td>\n",
              "      <td>8.73</td>\n",
              "    </tr>\n",
              "  </tbody>\n",
              "</table>\n",
              "</div>"
            ],
            "text/plain": [
              "Qual é o seu sexo?     Masculino  Feminino\n",
              "Classificação do IMC:                     \n",
              "Abaixo do peso             22.28     19.51\n",
              "Peso normal                47.80     51.40\n",
              "Sobrepeso                  19.41     20.36\n",
              "Obesidade                  10.52      8.73"
            ]
          },
          "metadata": {
            "tags": []
          },
          "execution_count": 26
        }
      ]
    },
    {
      "cell_type": "markdown",
      "metadata": {
        "id": "It8HHhfsyCRP"
      },
      "source": [
        "É importante salientar que a análise feita aqui é bem simplista e desconsidera questões sociais, má alimentação, prática de atividades físicas etc, são apenas indícios de comportamentos preocupantes."
      ]
    }
  ]
}